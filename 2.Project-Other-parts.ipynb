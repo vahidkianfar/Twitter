{
  "nbformat": 4,
  "nbformat_minor": 0,
  "metadata": {
    "colab": {
      "name": "Project.ipynb",
      "provenance": [],
      "collapsed_sections": []
    },
    "kernelspec": {
      "display_name": "Python 3",
      "name": "python3"
    },
    "language_info": {
      "name": "python"
    }
  },
  "cells": [
    {
      "cell_type": "code",
      "metadata": {
        "id": "l80-8mwuPgG-"
      },
      "source": [
        "from logging import root\n",
        "from tweepy import API\n",
        "from tweepy import Cursor\n",
        "from tweepy.streaming import StreamListener\n",
        "from tweepy import OAuthHandler\n",
        "from tweepy import Stream\n",
        "from textblob import TextBlob\n",
        "from wordcloud import WordCloud, STOPWORDS\n",
        "import string\n",
        "import numpy as np\n",
        "import pandas as pd\n",
        "import sys\n",
        "sys.stdin.reconfigure(encoding='utf-8')\n",
        "#sys.stdout.reconfigure(encoding='utf-8')"
      ],
      "execution_count": 1,
      "outputs": []
    },
    {
      "cell_type": "markdown",
      "metadata": {
        "id": "OZPOZxOCY9md"
      },
      "source": [
        "# Enter Username"
      ]
    },
    {
      "cell_type": "code",
      "metadata": {
        "id": "3i9TtLrUY828"
      },
      "source": [
        "screen_name=\"NHSEngland\" #USERNAME"
      ],
      "execution_count": 2,
      "outputs": []
    },
    {
      "cell_type": "markdown",
      "metadata": {
        "id": "ysC86AOpQV2s"
      },
      "source": [
        "#TWITTER CREDENTIALS\n"
      ]
    },
    {
      "cell_type": "code",
      "metadata": {
        "id": "4hniR6OmP-wg"
      },
      "source": [
        "# # # TWITTER CREDENTIALS # # #\n",
        "CONSUMER_KEY=\"DSaamoVhWcE972jRrm5l4GaYE\"\n",
        "CONSUMER_SECRET=\"m7yLJ00fWzcmBAFigeM73Y4y5XEnYpaJmgCXoFajleeAFZS07g\"\n",
        "ACCESS_TOKEN=\"958716870890319872-WajrAitlXmIbxP0QVfmVieIaJk6ZktS\"\n",
        "ACCESS_TOKEN_SECRET=\"lBtni8TfYcYqFIL9Mhp9RtmmM3QorUq2t9IDJQGAajTS2\""
      ],
      "execution_count": 3,
      "outputs": []
    },
    {
      "cell_type": "markdown",
      "metadata": {
        "id": "bKZysLJkQYMp"
      },
      "source": [
        "#TWITTER CLIENT"
      ]
    },
    {
      "cell_type": "code",
      "metadata": {
        "id": "80h0dpMqPom7"
      },
      "source": [
        "# # # # TWITTER CLIENT # # # #\n",
        "class TwitterClient():\n",
        "    def __init__(self, twitter_user=None):\n",
        "        self.auth = TwitterAuthenticator().authenticate_twitter_app()\n",
        "        self.twitter_client = API(self.auth,wait_on_rate_limit=True,wait_on_rate_limit_notify=True)\n",
        "\n",
        "        self.twitter_user = twitter_user\n",
        "\n",
        "    def get_twitter_client_api(self):\n",
        "        return self.twitter_client\n",
        "\n",
        "    def get_user_timeline_tweets(self, num_tweets):\n",
        "        tweets = []\n",
        "        for tweet in Cursor(self.twitter_client.user_timeline, id=self.twitter_user, tweet_mode='extended',trunc=False).items(num_tweets):\n",
        "            tweets.append(tweet)\n",
        "        return tweets\n",
        "\n",
        "    def get_friend_list(self, num_friends):\n",
        "        friend_list = []\n",
        "        for friend in Cursor(self.twitter_client.friends, id=self.twitter_user).items(num_friends):\n",
        "            friend_list.append(friend)\n",
        "        return friend_list\n",
        "\n",
        "    def get_home_timeline_tweets(self, num_tweets):\n",
        "        home_timeline_tweets = []\n",
        "        for tweet in Cursor(self.twitter_client.home_timeline, id=self.twitter_user).items(num_tweets):\n",
        "            home_timeline_tweets.append(tweet)\n",
        "        return home_timeline_tweets"
      ],
      "execution_count": 4,
      "outputs": []
    },
    {
      "cell_type": "markdown",
      "metadata": {
        "id": "Jikk2_a1QdPK"
      },
      "source": [
        "# TWITTER AUTHENTICATER"
      ]
    },
    {
      "cell_type": "code",
      "metadata": {
        "id": "_N5C9En1Pr3a"
      },
      "source": [
        "# # # # TWITTER AUTHENTICATER # # # #\n",
        "class TwitterAuthenticator():\n",
        "\n",
        "    def authenticate_twitter_app(self):\n",
        "        auth = OAuthHandler(CONSUMER_KEY, CONSUMER_SECRET)\n",
        "        auth.set_access_token(ACCESS_TOKEN, ACCESS_TOKEN_SECRET)\n",
        "        return auth\n"
      ],
      "execution_count": 5,
      "outputs": []
    },
    {
      "cell_type": "markdown",
      "metadata": {
        "id": "VC1KfUKxQecR"
      },
      "source": [
        "# TWITTER STREAMER"
      ]
    },
    {
      "cell_type": "code",
      "metadata": {
        "id": "gQ21eUNyPu51"
      },
      "source": [
        "# # # # TWITTER STREAMER # # # #\n",
        "class TwitterStreamer():\n",
        "    \"\"\"\n",
        "    Class for streaming and processing live tweets.\n",
        "    \"\"\"\n",
        "\n",
        "    def __init__(self):\n",
        "        self.twitter_autenticator = TwitterAuthenticator()\n",
        "\n",
        "    def stream_tweets(self, fetched_tweets_filename, hash_tag_list):\n",
        "        # This handles Twitter authetification and the connection to Twitter Streaming API\n",
        "        listener = TwitterListener(fetched_tweets_filename)\n",
        "        auth = self.twitter_autenticator.authenticate_twitter_app()\n",
        "        stream = Stream(auth, listener)\n",
        "\n",
        "        # This line filter Twitter Streams to capture data by the keywords:\n",
        "        stream.filter(track=hash_tag_list)\n",
        "\n"
      ],
      "execution_count": 6,
      "outputs": []
    },
    {
      "cell_type": "markdown",
      "metadata": {
        "id": "r5lYCLHKQgGa"
      },
      "source": [
        "#TWITTER STREAM LISTENER"
      ]
    },
    {
      "cell_type": "code",
      "metadata": {
        "id": "otCfJKUVPyXz"
      },
      "source": [
        "# # # # TWITTER STREAM LISTENER # # # #\n",
        "class TwitterListener(StreamListener):\n",
        "    \"\"\"\n",
        "    This is a basic listener that just prints received tweets to stdout.\n",
        "    \"\"\"\n",
        "\n",
        "    def __init__(self, fetched_tweets_filename):\n",
        "        self.fetched_tweets_filename = fetched_tweets_filename\n",
        "\n",
        "    def on_data(self, data):\n",
        "        try:\n",
        "            print(data)\n",
        "            with open(self.fetched_tweets_filename, 'a') as tf:\n",
        "                tf.write(data)\n",
        "            return True\n",
        "        except BaseException as e:\n",
        "            print(\"Error on_data %s\" % str(e))\n",
        "        return True\n",
        "\n",
        "    def on_error(self, status):\n",
        "        if status == 420:\n",
        "            # Returning False on_data method in case rate limit occurs.\n",
        "            return False\n",
        "        print(status)\n",
        "\n"
      ],
      "execution_count": 7,
      "outputs": []
    },
    {
      "cell_type": "markdown",
      "metadata": {
        "id": "Sm8osgbCQnYt"
      },
      "source": [
        "#TWEET ANALYZER"
      ]
    },
    {
      "cell_type": "code",
      "metadata": {
        "id": "Zrr0nS00P1_f"
      },
      "source": [
        "# # # # TWEET ANALYZER # # # #\n",
        "\n",
        "class TweetAnalyzer():\n",
        "    \"\"\"\n",
        "    Functionality for analyzing and categorizing content from tweets.\n",
        "    \"\"\"\n",
        "\n",
        "    def tweets_to_data_frame(self, tweets):\n",
        "        df = pd.DataFrame(data=[tweet.full_text for tweet in tweets], columns=['Tweets'])\n",
        "        #df['id'] = np.array([tweet.id for tweet in tweets])\n",
        "        #df['len'] = np.array([len(tweet.text) for tweet in tweets])\n",
        "        #df['date'] = np.array([tweet.created_at for tweet in tweets])\n",
        "        #df['source'] = np.array([tweet.source for tweet in tweets])\n",
        "        #df['likes'] = np.array([tweet.favorite_count for tweet in tweets])\n",
        "        #df['retweets'] = np.array([tweet.retweet_count for tweet in tweets])\n",
        "        #df['friends'] = np.array([tweet.friend_count for tweet in tweets])\n",
        "\n",
        "        return df"
      ],
      "execution_count": 8,
      "outputs": []
    },
    {
      "cell_type": "markdown",
      "metadata": {
        "id": "EpXFSSiNRJM0"
      },
      "source": [
        "# -- Grab Data Extended --- (Input: Twitter's Username as Screen_Name)"
      ]
    },
    {
      "cell_type": "code",
      "metadata": {
        "id": "Hk1u4V2HP5GL"
      },
      "source": [
        "twitter_client = TwitterClient()\n",
        "tweet_analyzer = TweetAnalyzer()\n",
        "\n",
        "api = twitter_client.get_twitter_client_api()\n",
        "#screen_name=\"POTUS\" #USERNAME\n",
        "tweets = api.user_timeline(screen_name, count=200,tweet_mode='extended')\n",
        "\n",
        "# print(dir(tweets[0]))\n",
        "# print(tweets[0].retweet_count)\n",
        "df = tweet_analyzer.tweets_to_data_frame(tweets)\n",
        "df.to_csv(\"./{screenname}.csv\".format(screenname=screen_name))\n",
        "\n",
        "# hash_tag_list = [\"SHIBA\"]\n",
        "# fetched_tweets_filename = \"hash_tag_list1.csv\"\n",
        "# twitter_streamer = TwitterStreamer()\n",
        "\n",
        "# tweets=twitter_streamer.stream_tweets(fetched_tweets_filename, hash_tag_list)\n",
        "        \n",
        "# df = tweet_analyzer.tweets_to_data_frame(tweets)\n",
        "# df.to_csv(\"dogecoins.csv\")\n",
        "\n",
        "# tweet_analyzer.tweets_to_data_frame(twitter_streamer.stream_tweets(fetched_tweets_filename, hash_tag_list)).to_csv(\"dogecoins.csv\")"
      ],
      "execution_count": 9,
      "outputs": []
    },
    {
      "cell_type": "markdown",
      "metadata": {
        "id": "DcYHlkF9S_VI"
      },
      "source": [
        "#CLEANING DATA"
      ]
    },
    {
      "cell_type": "code",
      "metadata": {
        "colab": {
          "base_uri": "https://localhost:8080/"
        },
        "id": "IUZ2u_ewTGXY",
        "outputId": "12ce75a5-8036-47cf-9720-5c76d08404f3"
      },
      "source": [
        "import pandas as pd\n",
        "import nltk\n",
        "import re\n",
        "import spacy\n",
        "import nltk\n",
        "#import preprocess_kgptalkie as ps\n",
        "nltk.download('punkt')\n",
        "nltk.download('stopwords')\n",
        "nltk.download('wordnet')\n",
        "#%pip install scipy\n",
        "#%pip install preprocess_kgptalkie\n",
        "#%pip install preprocess_kgptalkie"
      ],
      "execution_count": 10,
      "outputs": [
        {
          "output_type": "stream",
          "name": "stdout",
          "text": [
            "[nltk_data] Downloading package punkt to /root/nltk_data...\n",
            "[nltk_data]   Unzipping tokenizers/punkt.zip.\n",
            "[nltk_data] Downloading package stopwords to /root/nltk_data...\n",
            "[nltk_data]   Unzipping corpora/stopwords.zip.\n",
            "[nltk_data] Downloading package wordnet to /root/nltk_data...\n",
            "[nltk_data]   Unzipping corpora/wordnet.zip.\n"
          ]
        },
        {
          "output_type": "execute_result",
          "data": {
            "text/plain": [
              "True"
            ]
          },
          "metadata": {},
          "execution_count": 10
        }
      ]
    },
    {
      "cell_type": "markdown",
      "metadata": {
        "id": "LkuHcO6QTWVl"
      },
      "source": [
        "# Regular Expression for URLS"
      ]
    },
    {
      "cell_type": "code",
      "metadata": {
        "colab": {
          "base_uri": "https://localhost:8080/"
        },
        "id": "gQzBp3WyTKE-",
        "outputId": "27a2f078-6b02-459b-ab29-e6c3144a6a46"
      },
      "source": [
        "raw_docs=pd.read_csv(\"./{screenname}.csv\".format(screenname=screen_name))\n",
        "# print(raw_docs['Tweets'].values[1]) #for reading line by line\n",
        "# print(len(raw_docs))\n",
        "import re\n",
        "i=0\n",
        "while i<len(raw_docs['Tweets']):\n",
        "  raw_docs['Tweets'].values[i] = re.sub(r'''(?i)\\b((?:https?://|www\\d{0,3}[.]|[a-z0-9.\\-]+[.][a-z]{2,4}/)(?:[^\\s()<>]+|\\(([^\\s()<>]+|(\\([^\\s()<>]+\\)))*\\))+(?:\\(([^\\s()<>]+|(\\([^\\s()<>]+\\)))*\\)|[^\\s`!()\\[\\]{};:'\".,<>?«»“”‘’]))''', \" \", raw_docs['Tweets'].values[i])\n",
        "  raw_docs['Tweets'].values[i]=re.sub(\"…\\s\", \" \", raw_docs['Tweets'].values[i])\n",
        "  raw_docs['Tweets'].values[i] = re.sub('\\w*\\d\\w*', '', raw_docs['Tweets'].values[i])\n",
        "  #raw_docs['Tweets'].values[i] = re.sub('’', '', raw_docs['Tweets'].values[i])\n",
        "  #raw_docs['Tweets'].values[i] = re.sub('–', '', raw_docs['Tweets'].values[i])\n",
        "  raw_docs['Tweets'].values[i] = re.sub('@[A-Za-z0-9_]+', '', raw_docs['Tweets'].values[i])\n",
        "  raw_docs['Tweets'].values[i] = re.sub('#', '', raw_docs['Tweets'].values[i])\n",
        "  raw_docs['Tweets'].values[i] = re.sub('RT', '', raw_docs['Tweets'].values[i])\n",
        "  #raw_docs['Tweets'].values[i] = re.sub('—', '', raw_docs['Tweets'].values[i])\n",
        "  #raw_docs['Tweets'].values[i] = re.sub('\\n\\n', '', raw_docs['Tweets'].values[i])\n",
        "  #raw_docs['Tweets'].values[i] = re.sub('\\n \\n', '', raw_docs['Tweets'].values[i])\n",
        "  #raw_docs['Tweets'].values[i] = re.sub('https?:\\/\\/[A-Za-z0-9\\.\\./]+', '', raw_docs['Tweets'].values[i])\n",
        "\n",
        "\n",
        "  \n",
        "  i=i+1\n",
        "print(raw_docs[\"Tweets\"].values[7])"
      ],
      "execution_count": 11,
      "outputs": [
        {
          "output_type": "stream",
          "name": "stdout",
          "text": [
            " : Today we've published our What Good Looks Like guidance for digital transformation. On our blog, our national CIO @ set…\n"
          ]
        }
      ]
    },
    {
      "cell_type": "markdown",
      "metadata": {
        "id": "ChGmTvK1Tfub"
      },
      "source": [
        "# Word Tokenize"
      ]
    },
    {
      "cell_type": "code",
      "metadata": {
        "colab": {
          "base_uri": "https://localhost:8080/"
        },
        "id": "t1Ay6ivdTiz0",
        "outputId": "5ef494a9-fa64-4264-86e7-da52dead3d6d"
      },
      "source": [
        "# word tokenize\n",
        "from nltk.tokenize import word_tokenize\n",
        "\n",
        "\n",
        "tokenized_docs = [word_tokenize(doc) for doc in raw_docs['Tweets']]\n",
        "print(tokenized_docs)\n"
      ],
      "execution_count": 12,
      "outputs": [
        {
          "output_type": "stream",
          "name": "stdout",
          "text": [
            "[['Looking', 'after', 'the', 'wellbeing', 'of', 'OurNHSPeople', 'means', 'they', 'can', 'better', 'look', 'after', 'patients', '.', 'If', 'you', \"'re\", 'finding', 'things', 'difficult', 'or', 'more', 'challenging', 'at', 'the', 'moment', ',', 'and', 'would', 'like', 'to', 'speak', 'to', 'someone', '—', 'please', 'call', ',', 'text', 'or', 'visit', '.', '📞', '💬'], [\"'I\", \"'ve\", 'had', 'my', 'COVID-', 'vaccine', '.', 'It', 'was', 'quick', 'and', 'easy', '.', 'I', \"'m\", 'really', 'pleased', 'to', 'have', 'had', 'it', 'done', '.', \"'\", '-year-old', 'Lemuella', 'has', 'had', 'her', 'NHSCOVIDVaccine', '.', 'Find', 'out', 'more', 'about', 'the', 'vaccine', 'and', 'how', 'you', 'can', 'get', 'yours', '.', '➡️'], [':', 'Delighted', 'that', 'the', 'NHS', 'will', 'now', 'be', 'able', 'to', 'offer', 'patients', 'inclisiran', ',', 'a', 'treatment', 'to', 'lower', 'cholesterol', ',', 'due', 'to', 'our', 'NHS-fir…'], [':', 'You', 'have', 'a', 'medicine', 'in', 'your', 'blood', 'but', 'you', 'probably', 'don', '’', 't', 'know', 'about', 'it', '.', '\\U0001fa78🤔', 'Your', 'plasma', 'could', 'be', 'the', 'only', 'thing', 'that', 'save…'], ['A', 'new', 'drug', 'to', 'lower', 'cholesterol', 'will', 'be', 'made', 'available', 'to', 'hundreds', 'of', 'thousands', 'of', 'patients', ',', 'thanks', 'to', 'a', 'world-leading', 'deal', '.', 'It', \"'s\", 'estimated', 'that', 'Inclisiran', 'could', 'prevent', ',', 'heart', 'attacks', 'and', 'strokes', ',', 'saving', ',', 'lives', 'within', 'the', 'next', 'decade', '.'], ['If', 'you', '’', 're', '-', 'years', 'old', ',', 'you', '’', 're', 'eligible', 'for', 'the', 'NHSCOVIDVaccine', '.', 'If', 'you', '’', 've', 'not', 'had', 'yours', 'yet', ',', 'visit', 'to', 'find', 'your', 'nearest', 'walk-in', 'centre', '.'], ['@', ':', 'Thank', 'you', 'to', 'all', 'colleagues', 'who', 'have', 'helped', 'shape', 'the', 'guidance', 'on', 'digital', 'transformation', ',', 'published', 'today', '.', 'Digital…'], [':', 'Today', 'we', \"'ve\", 'published', 'our', 'What', 'Good', 'Looks', 'Like', 'guidance', 'for', 'digital', 'transformation', '.', 'On', 'our', 'blog', ',', 'our', 'national', 'CIO', '@', 'set…'], [\"'Get\", 'it', 'done', '.', 'I', 'nearly', 'died', '.', \"'\", 'Lucy', 'was', 'rushed', 'into', 'hospital', 'with', 'COVID-', 'at', 'weeks', 'pregnant', 'with', 'her', 'daughter', 'Billie', 'Rae', '.', 'Luckily', 'she', '’', 's', 'now', 'on', 'the', 'mend', ',', 'and', 'is', 'encouraging', 'others', 'to', 'get', 'the', 'vaccine', 'after', 'being', 'on', 'a', 'ventilator', 'at', '.'], ['If', 'you', 'need', 'medical', 'help', 'but', 'it', \"'s\", 'not', 'an', 'emergency', ',', 'use', 'online', '.', 'NHS', 'can', 'book', 'you', 'into', 'an', 'A', '&', 'amp', ';', 'E', 'or', 'direct', 'you', 'to', 'an', 'alternative', 'service', 'if', 'it', '’', 's', 'more', 'appropriate', '.', 'When', 'you', 'need', 'the', 'NHS', '—', 'think', 'online', 'first', '.', 'HelpUsHelpYou'], [':', 'Thousands', 'are', 'set', 'to', 'benefit', 'from', 'genetic', 'testing', 'that', 'is', 'being', 'rolled', 'out', 'across', 'England', '.', 'The', 'testing', 'will', 'spot', 'a', 'r…'], [\"'I\", 'chose', 'to', 'do', 'pharmacy', 'as', 'it', 'combined', 'my', 'passion', 'for', 'science', 'and', 'healthcare', '.', 'My', 'advice', 'to', 'anyone', 'thinking', 'of', 'a', 'career', 'in', 'pharmacy', '—', 'stay', 'motivated', 'and', 'be', 'prepared', 'to', 'work', 'hard', '!', \"'\", 'There', 'are', 'over', 'careers', 'in', 'the', 'NHS', ',', 'like', 'Nyrah', '’', 's', '.', 'Search', \"'NHS\", 'careers', \"'\", 'to', 'find', 'out', 'more', '.'], [\"'It\", '’', 's', 'not', 'only', 'about', 'yourself', ',', 'is', 'it', '.', 'It', '’', 's', 'about', 'keeping', 'everyone', 'around', 'you', 'safe.', '’', 'Tom', 'had', 'his', 'second', 'dose', 'of', 'the', 'NHSCOVIDVaccine', '.', 'There', 'are', 'several', 'ways', 'to', 'get', 'your', 'vaccine', '—', 'book', 'online', 'or', 'find', 'a', 'walk', 'in', 'site', 'near', 'you', '.', '🎥', ':', 'and'], [':', 'Thousands', 'are', 'set', 'to', 'benefit', 'from', 'genetic', 'testing', 'that', 'is', 'being', 'rolled', 'out', 'across', 'England', '.', 'The', 'testing', 'will', 'spot', 'a', 'rare', 'form…'], [\"'Since\", 'I', 'was', 'diagnosed', 'and', 'my', 'treatment', 'was', 'changed', 'from', 'insulin', 'injections', 'to', 'tablets', ',', 'I', 'feel', 'much', 'better', 'in', 'myself', '.', \"'\", 'Jen', 'benefited', 'from', 'genetic', 'testing', 'that', 'spotted', 'her', 'as', 'having', 'monogenic', 'diabetes', '.', 'Since', 'the', 'new', 'diagnosis', 'she', 'has', 'changed', 'treatment', 'and', 'is', 'feeling', 'much', 'better', '.'], ['Thousands', 'are', 'set', 'to', 'benefit', 'from', 'genetic', 'testing', 'that', 'is', 'being', 'rolled', 'out', 'across', 'England', '.', 'The', 'testing', 'will', 'spot', 'a', 'rare', 'form', 'of', 'diabetes', 'known', 'as', 'monogenic', 'diabetes', '.', 'Once', 'diagnosed', 'patients', 'can', 'manage', 'their', 'condition', 'by', 'taking', 'tablets', 'instead', 'of', 'insulin', '.'], ['When', 'you', 'need', 'the', 'NHS', '—', 'think', 'online', 'first', '.', 'If', 'you', 'need', 'medical', 'help', 'but', 'it', \"'s\", 'not', 'an', 'emergency', ',', 'use', 'online', '.', 'NHS', 'can', 'book', 'you', 'into', 'an', 'A', '&', 'amp', ';', 'E', 'or', 'direct', 'you', 'to', 'an', 'alternative', 'service', 'if', 'it', '’', 's', 'more', 'appropriate', '.', 'HelpUsHelpYou'], ['‘', 'As', 'was', 'the', 'case', 'with', 'many', 'student', 'nurses', 'in', ',', 'I', 'did', 'not', 'expect', 'to', 'complete', 'my', 'programme', 'in', 'the', 'middle', 'of', 'a', 'pandemic', 'on', 'placement', '.', \"'\", 'Congratulations', 'Jess', 'on', 'becoming', 'an', 'adult', 'and', 'mental', 'health', 'nurse', 'under', 'such', 'challenging', 'circumstances', '.', 'Welcome', 'to', 'the', 'NHS', '!', '👏'], ['If', 'you', 'need', 'medical', 'help', 'this', 'bank', 'holiday', 'but', 'it', \"'s\", 'not', 'an', 'emergency', ',', 'call', 'your', 'GP', 'Practice', 'first', '.', 'You', 'may', 'be', 'directed', 'to', 'use', 'NHS', '.', 'HelpUsHelpYou'], [\"'I\", 'was', \"n't\", 'planning', 'to', 'come', 'get', 'my', 'vaccine', 'here', ',', 'but', 'I', 'came', 'and', 'saw', 'it', 'and', 'it', 'was', 'so', 'easy', '.', 'It', 'did', \"n't\", 'hurt', 'at', 'all', '.', \"'\", 'Georgia', 'got', 'her', 'NHSCOVIDVaccine', 'from', 'the', '!', 'Find', 'your', 'nearest', 'walk-in', 'site', '.', 'ReadingFestival', '➡️'], ['While', 'some', 'community', 'pharmacy', 'services', 'will', 'be', 'open', 'this', 'bank', 'holiday', ',', 'not', 'all', 'pharmacies', 'will', 'be', 'open', '.', 'Find', 'an', 'open', 'pharmacy', 'near', 'you', '.', '➡️'], ['It', \"'s\", 'easier', 'than', 'ever', 'to', 'get', 'your', 'COVID-', 'jab', '.', 'Visit', 'to', 'find', 'a', 'walk-in', 'site', 'near', 'you', '—', 'including', 'local', 'museums', ',', 'festivals', ',', 'stadiums', 'and', 'theatres', '.', '🎪', '🎭', '⚽'], ['‘', 'If', 'you', '’', 've', 'had', 'your', 'jab', ',', 'then', 'speak', 'to', 'your', 'friends', 'and', 'family', 'and', 'encourage', 'them', 'to', 'come', 'forward', 'too.', '’', 'Since', 'rolling', 'out', 'our', 'GrabAJab', 'campaign', ',', 'the', 'NHS', 'vaccination', 'programme', 'has', 'protected', 'more', 'than', ',', 'people', 'from', 'ethnic', 'minority', 'backgrounds', '.'], ['If', 'you', 'need', 'urgent', 'dental', 'treatment', 'this', 'bank', 'holiday', ',', 'call', 'your', 'dentist', '.', 'If', 'you', 'can', 'not', 'contact', 'your', 'dentist', ',', 'or', 'you', 'do', \"n't\", 'have', 'one', ',', 'use', 'NHS', 'Online', '.', 'HelpUsHelpYou'], ['If', 'you', '’', 're', '-', 'years', 'old', ',', 'you', '’', 're', 'eligible', 'for', 'the', 'NHSCOVIDVaccine', '.', 'If', 'you', '’', 've', 'not', 'had', 'yours', 'yet', ',', 'visit', 'to', 'find', 'your', 'nearest', 'walk-in', 'centre', '.'], [':', '💉Vaccinating', 'in', 'full', 'swing', 'we', 'are', 'here', 'till', 'tonight', 'and', 'all', 'weekend', '💙Amelia', ',', ',', 'just', 'got', 'her', 'jab', '@', '…'], [':', 'No', 'need', 'to', 'wait', '!', 'GetVaccinated', 'and', 'if', 'you', 'have', 'some', 'spare', 'hours', 'why', 'not', 'volunteer', 'htt…'], [':', 'Isabelle', ',', 'is', 'looking', 'forward', 'to', 'holidays', 'and', 'seeing', 'her', 'friends', 'now', 'she', \"'s\", 'had', 'her', 'CovidVaccine', '.', 'What', 'do', 'you', 'want', 'to', 'get', 'bac…'], [':', 'Meet', ',', 'an', 'oral', '&', 'amp', ';', 'maxillofacial', 'trainee', 'surgeon', '.', 'Today', 'he', \"'ll\", 'be', 'sharing', 'with', 'us', 'what', 'it', \"'s\", 'like', 'to', 'be', 'a…'], ['You', '’', 're', 'literally', 'keeping', 'one', 'more', 'person', 'on', 'earth', 'every', 'single', 'time', 'you', 'donate.', '’', 'Layla', 'talks', 'about', 'her', 'daughter', \"'s\", 'Sickle', 'Cell', 'diagnosis', 'and', 'the', 'need', 'for', 'more', 'ethnically', 'matched', 'donors', '.', 'Sign', 'up', 'to', 'GiveBlood', ',', 'and', 'save', 'lives', '.', '❤️'], [':', 'We', \"'ve\", 'been', 'chatting', 'with', 'festival-goers', 'who', 'got', 'their', 'COVID-', 'vaccine', 'at', 'ReadingFestival', '.', 'Georgia', 'got', 'her', 'first', 'jab', 'yester…'], ['More', 'than', ',', 'lives', 'have', 'been', 'saved', 'by', 'the', 'NHSCOVIDVaccine', 'programme', '.', 'Thank', 'you', 'to', 'our', 'NHS', 'staff', 'and', 'volunteers', 'who', 'have', 'been', 'vaccinating', 'at', 'parks', ',', 'festivals', ',', 'places', 'of', 'worship', 'and', 'stadiums', '.', 'This', 'bank', 'holiday', 'GrabAJab', 'at', 'your', 'local', 'walk-in', 'site', '.', '➡️'], ['The', 'COVID-', 'vaccine', 'helps', 'us', 'keep', 'enjoying', 'the', 'things', 'we', 'love', '.', 'Book', 'yours', 'now', 'at', '.'], ['It', \"'s\", 'been', 'an', 'incredibly', 'difficult', 'year', 'for', 'people', 'working', 'in', 'the', 'NHS', '.', 'If', 'you', \"'re\", 'finding', 'things', 'more', 'challenging', 'at', 'the', 'moment', ',', 'and', 'would', 'like', 'to', 'speak', 'to', 'someone', '—', 'please', 'call', ',', 'text', 'or', 'visit', '.'], ['Our', 'staff', 'are', 'incredible', ',', 'but', 'they', 'are', 'also', 'human', '.', 'On', 'Ambulance', 'we', 'saw', 'Student', 'Paramedic', 'Jen', 'stay', 'calm', 'under', 'pressure', 'to', 'help', 'save', 'the', 'life', 'of', 'a', '-week-old', 'baby', '.', 'Thank', 'you', 'Jen', 'for', 'being', 'so', 'calm', 'and', 'courageous', '!', 'We', 'wish', 'you', 'all', 'the', 'best', 'for', 'your', 'future', 'career', 'in', 'the', 'NHS', '.', '💚'], ['@', ':', 'Just', 'in', 'awe', '.', 'How', 'the', 'paramedic', \"'s\", 'console', 'and', 'talk', 'to', 'the', 'person', 'that', 'lost', 'their', 'loved', 'on', 'on', 'scene', '.', 'Truly', 'heartbreaking…'], [':', 'The', 'hardworking', 'crews', 'of', 'NWAS', 'showing', 'their', 'kindness', ',', 'determination', 'and', 'how', 'much', 'they', 'put', 'into', 'this', 'job', 'tonight', '.', 'We', 'will', 'alwa…'], [':', 'Fully', 'respect', 'all', 'the', 'call', 'handlers', 'in', 'ambulance'], [':', 'Call', 'handers', 'from', 'are', 'supporting', 'London', 'Ambulance', 'Service', 'to', 'answer', 'calls', 'as', 'the', 'capital', 'declares', 'a', 'major', 'incident.…'], [':', 'Naomi', 'from', \"'Ambulance\", \"'\", 'on', 'is', 'a', 'fantastic', 'ambassador', 'for', 'the', 'NHS', 'emergency', 'services', '.', 'I', 'take', 'my', 'hat', 'off', 'to', 'people…'], [':', '``', 'If', 'we', 'get', 'anything', 'out', 'of', 'Covid', ',', 'it', '’', 's', 'that', 'it', '’', 's', 'given', 'staff', 'and', 'myself', 'a', 'deeper', 'appreciation', 'for', 'what', 'our', 'job', 'is', '.', 'Just', 'how', 'esse…'], [':', '💉', 'Don', '’', 't', 'forget', 'it', '’', 's', 'easier', 'than', 'ever', 'to', 'get', 'your', 'vaccine', '!', '-', 'year', 'olds', '-', 'visit', 'to', 'find', 'a', 'walk-in', 's…'], [':', 'Ready', 'for', 'a', 'new', 'episode', 'of', 'Ambulance', 'TONIGHT', '?', 'We', '’', 're', 'back', 'on', 'a', 'roller', 'coaster', 'of', 'emotions', 'helping', 'with', 'a', 'number', 'of', 'COVID', 'a…'], ['The', 'NHS', 'is', 'here', 'to', 'support', 'you', 'with', 'your', 'mental', 'health', 'and', 'wellbeing', '—', 'whether', 'it', '’', 's', 'accessing', 'urgent', 'mental', 'health', 'support', 'or', 'just', 'finding', 'out', 'what', 'help', 'is', 'available', '.', 'Visit', 'the', 'NHS', 'Mental', 'Health', 'Hub', '.'], ['People', 'aged', '-', 'currently', 'have', 'the', 'highest', 'COVID-', 'infection', 'rate', 'in', 'England', '.', 'By', 'getting', 'both', 'jabs', 'of', 'the', 'NHSCOVIDVaccine', '—', 'you', 'can', 'greatly', 'reduce', 'the', 'chance', 'of', 'being', 'hospitalised', '.', 'Find', 'out', 'more', '.'], [':', 'We', \"'re\", 'showcasing', 'our', 'StaffBehindTheMask', 'Ruth', 'Williams', 'is', 'a', 'speech', 'and', 'language', 'therapist', '.', '``', 'I', 'support', 'adults', 'with', 'learning', 'd…'], [':', '⃣⃣', 'years', 'ago', 'Maria', 'Jeralyn', 'Montes-Pagcu', ',', 'known', 'as', 'Jerri', ',', '✈️over', ',', 'miles', 'to', 'take', 'up', 'a', 'once', 'in', 'a', 'lifetime', 'opportunity…'], ['More', 'than', 'half', 'a', 'million', 'and', 'year', 'olds', 'in', 'England', 'have', 'now', 'had', 'their', 'COVID-', 'jab', ',', 'and', 'it', '’', 's', 'now', 'easier', 'than', 'ever', 'to', 'get', 'it', 'done', '.', 'Visit', 'to', 'find', 'a', 'walk-in', 'site', 'near', 'you', '—', 'including', 'local', 'museums', ',', 'festivals', ',', 'stadiums', 'and', 'theatres', '.', '🎪', '🎭', '⚽'], [\"'I\", \"'ve\", 'been', 'perfectly', 'fine', 'and', 'I', 'was', 'a', 'bit', 'hesitant', 'because', 'I', 'do', \"n't\", 'like', 'the', 'thought', 'of', 'fainting', 'or', 'needles', '.', \"'\", 'Join', 'the', 'millions', 'that', 'are', 'protecting', 'themselves', 'against', 'COVID-', '.', 'Book', 'your', 'NHSCOVIDVaccine', 'appointment', '.', '🎥', ':', 'and'], [':', 'Yesterday', ',', 'I', 'had', 'the', 'pleasure', 'of', 'catching', 'up', 'with', 'our', 'talented', 'nurses', '.', 'It', 'was', 'great', 'to', 'share', 'my', 'thanks', 'to', 'K…'], ['The', 'NHS', 'is', 'rolling', 'out', 'a', 'new', 'same', 'day', 'blood', 'test', 'to', 'rule', 'out', 'pre-eclampsia', ',', 'a', 'life-threatening', 'condition', 'for', 'both', 'expectant', 'mothers', 'and', 'their', 'babies', '.', 'This', 'means', 'the', 'condition', 'can', 'be', 'ruled', 'out', 'much', 'faster', 'and', 'significantly', 'reduce', 'hospital', 'admissions', '.'], [\"'It\", 'has', 'given', 'me', 'ten', 'more', 'years', 'of', 'my', 'life', '.', \"'\", 'Bill', 'attended', 'a', 'lung', 'health', 'check', 'that', 'found', 'a', 'tumour', '.', 'Luckily', 'catching', 'cancer', 'early', 'makes', 'it', 'more', 'treatable', 'and', 'Bill', 'is', 'now', 'cancer', 'free', '.', 'If', 'you', \"'ve\", 'had', 'a', 'cough', 'for', 'three', 'weeks', 'or', 'more', ',', 'contact', 'your', 'GP', 'Practice', '.', 'HelpUsHelpYou'], [':', 'Learn', 'more', 'about', 'how', 'this', 'world-first', 'blood', 'test', 'can', 'rule', 'out', 'pre-eclampsia', '—', 'removing', 'the', 'stress', 'that', 'comes', 'with', 'the', 'uncerta…'], ['Symptoms', 'of', 'a', 'heart', 'attack', 'can', 'include', 'heavy', 'or', 'tight', 'chest', 'pain', 'that', 'may', 'spread', 'to', 'your', 'arms', ',', 'neck', 'or', 'jaw', ',', 'or', 'make', 'you', 'breathless', ',', 'sick', ',', 'sweaty', 'or', 'light-headed', '.', 'If', 'you', 'experience', 'these', 'symptoms', ',', 'call', '.', 'The', 'NHS', 'is', 'still', 'here', 'to', 'see', 'you', 'safely', '.', 'HelpUsHelpYou'], ['‘', 'It', '’', 's', 'been', 'fabulous', '—', 'I', '’', 've', 'not', 'been', 'in', 'and', 'out', 'of', 'hospital.', '’', 'Rebecca', 'is', 'one', 'of', 'the', 'first', 'pregnant', 'women', 'who', 'benefitted', 'from', 'a', 'same-day', 'life-saving', 'test', 'to', 'rule', 'out', 'a', 'potentially', 'fatal', 'disease', 'in', 'pregnant', 'women', 'which', 'is', 'being', 'rolled', 'out', 'across', 'the', 'NHS', '.'], ['Looking', 'after', 'the', 'wellbeing', 'of', 'OurNHSPeople', 'means', 'they', 'can', 'better', 'look', 'after', 'patients', '.', 'If', 'you', \"'re\", 'finding', 'things', 'difficult', 'or', 'more', 'challenging', 'at', 'the', 'moment', ',', 'and', 'would', 'like', 'to', 'speak', 'to', 'someone', '—', 'please', 'call', ',', 'text', 'or', 'visit', '.', '📞', '💬'], [\"'The\", 'guilt', 'I', 'felt', 'at', 'passing', 'the', 'virus', 'onto', 'him', 'was', 'so', 'immense', '.', 'But', 'now', 'some', 'of', 'that', 'burden', 'has', 'been', 'lifted', 'as', 'I', 'know', 'that', 'he', 'can', 'be', 'cured', 'thanks', 'to', 'the', 'NHS', '.', \"'\", 'Ashleigh', 'is', 'over', 'the', 'moon', 'that', 'her', 'son', 'James', 'will', 'get', 'the', 'Hepatitis', 'C', 'treatment', 'for', 'children', '.'], ['Children', 'in', 'England', 'are', 'set', 'to', 'be', 'the', 'first', 'in', 'the', 'world', 'to', 'be', 'offered', 'a', 'cure', 'for', 'Hepatitis', 'C.', 'The', 'world-first', 'treatment', 'will', 'help', 'the', 'NHS', 'in', 'achieving', 'its', 'goal', 'to', 'eliminate', 'Hepatitis', 'C', 'in', 'England', 'ahead', 'of', 'the', 'target', ',', 'set', 'by', '.', '➡️'], [':', 'Everyone', 'over', 'the', 'age', 'of', 'in', 'England', 'will', 'be', 'able', 'to', 'have', 'their', 'blood', 'pressure', 'checked', 'for', 'free', 'in', 'High', 'Street', 'chemists', 'fro…'], [':', 'The', 'NHS', 'has', 'today', 'announced', 'the', 'nationwide', 'rollout', 'of', 'blood', 'pressure', 'checks', 'in', 'high', 'street', 'pharmacies', ',', 'a', 'move', 'that', 'could', 'potent…'], [\"'Just\", 'being', 'involved', 'is', 'exciting', 'and', 'it', '’', 's', 'a', 'real', 'privilege', 'to', 'be', 'there', '.', \"'\", 'Senior', 'Nurse', 'Kim', 'from', 'is', 'also', 'leading', 'a', 'team', 'of', 'nurses', 'that', 'are', 'supporting', 'Great', 'Britain', \"'s\", 'Paralympian', 'athletes', 'at', 'the', '@', 'Paralympics', '!', '👏', 'Good', 'luck', 'to', 'everyone', 'competing', '!'], [':', 'Why', 'is', 'it', 'important', 'for', 'immunocompromised', 'people', 'to', 'get', 'the', 'vaccination', '?', 'Sonia', 'from', 'finds', 'out', 'more…'], ['The', 'NHS', 'is', 'rolling', 'out', 'high', 'street', 'heart', 'checks', 'to', 'help', 'save', 'thousands', 'of', 'lives', '.', 'From', 'October', ',', 'every', 'NHS', 'pharmacy', 'in', 'England', 'will', 'be', 'able', 'to', 'provide', 'lifesaving', 'blood', 'pressure', 'checks', 'to', 'people', 'aged', 'and', 'over', '.', '❤️👏'], [\"'I\", 'realised', 'how', 'much', 'I', 'enjoyed', 'caring', 'for', 'others', '.', \"'\", 'Chloe', 'started', 'volunteering', 'at', 'her', 'local', 'hospital', 'during', 'the', 'pandemic', 'and', 'is', 'now', 'a', 'healthcare', 'assistant', '!', 'Thank', 'you', 'Chloe', 'and', 'welcome', 'to', 'the', 'NHS', '.', '💙'], [':', '``', 'Nurses', 'and', 'patients', 'could', 'have', 'conversations', 'about', 'our', 'experiences', 'and', 'what', 'could', 'be', 'improved', ',', 'and', 'I', 'felt', 'that', 'I', 'had', 'a…'], [':', 'People', 'aged', '-', 'currently', 'have', 'the', 'highest', 'COVID-', 'infection', 'rate', 'in', 'England', '.', 'But', 'by', 'getting', 'both', 'jabs', ',', 'you', 'can', 'greatly', 'reduc…'], [':', 'Great', 'to', 'see', 'so', 'many', 'people', 'from', 'the', 'younger', 'cohorts', 'coming', 'forward', 'for', 'their', 'CovidVaccine', 'at', 'the', 'weekend', '.', 'Thank', 'you…'], ['If', 'you', '’', 've', 'had', 'COVID-', 'you', 'may', 'still', 'be', 'experiencing', 'some', 'ongoing', 'physical', 'and', 'psychological', 'symptoms', 'that', 'you', '’', 're', 'struggling', 'to', 'recover', 'from', '.', 'Your', 'COVID', 'recovery', 'provides', 'advice', 'to', 'support', 'your', 'health', 'and', 'wellbeing', 'as', 'you', 'recover', '.'], [':', 'The', 'QNI', 'is', 'joining', 'with', 'on', 'a', 'new', 'project', 'to', 'support', 'international', 'recruitment', 'of', 'Registered', 'Nurses', 'to', 'community', 'ser…'], ['The', 'COVID-', 'vaccine', 'is', 'the', 'best', 'way', 'to', 'protect', 'yourself', 'against', 'new', 'variants', 'of', 'the', 'virus', '.', 'If', 'you', 'haven', '’', 't', 'already', ',', 'book', 'your', 'appointment', 'now', '.'], ['If', 'you', 'need', 'support', 'to', 'look', 'after', 'your', 'mental', 'health', '—', 'please', 'use', 'the', 'staff', 'mental', 'health', 'and', 'wellbeing', 'hubs', '.', 'The', 'NHS', 'has', 'set', 'up', 'hubs', 'to', 'provide', 'dedicated', 'support', 'for', 'our', 'staff', '.', 'They', 'provide', 'rapid', 'access', 'to', 'local', 'evidence-based', 'services', 'and', 'support', '.'], ['If', 'you', 'think', 'you', 'need', 'A', '&', 'amp', ';', 'E', 'whilst', 'on', 'your', 'holiday', 'in', 'England', ',', 'use', 'NHS', 'first', '.', 'NHS', 'can', 'book', 'you', 'into', 'a', 'A', '&', 'amp', ';', 'E', 'or', 'direct', 'you', 'to', 'an', 'alternative', 'service', 'if', 'it', '’', 's', 'more', 'appropriate', '.', 'Help', 'us', 'ensure', 'you', 'get', 'the', 'right', 'care', 'in', 'the', 'right', 'place', 'at', 'the', 'right', 'time', '.'], [\"'All\", 'my', 'friends', 'have', 'had', 'two', 'already', '.', 'I', \"'m\", 'the', 'last', 'one', 'to', 'get', 'the', 'second', '.', \"'\", 'Ellie', 'has', 'had', 'two', 'doses', 'of', 'the', 'NHSCOVIDVaccine', '.', 'All', 'adults', 'can', 'get', 'their', 'second', 'dose', 'eight', 'weeks', 'after', 'the', 'first', '.', 'Don', '’', 't', 'delay', 'yours', 'any', 'longer', '.', '➡️', '🎥', ':', 'and'], [\"'Immunoglobulins\", 'saved', 'my', 'family', '.', 'Plasma', 'is', 'the', 'reason', 'I', 'have', 'two', 'healthy', 'little', 'boys', '.', \"'\", 'Around', 'one', 'million', 'blood', 'donations', 'a', 'year', 'will', 'be', 'used', 'to', 'make', 'lifesaving', 'plasma', 'medicine', '!', '👏', 'You', 'can', 'help', 'more', 'families', 'like', 'Kes', \"'\", 'by', 'becoming', 'a', 'plasma', 'donor', '.'], ['Discomfort', 'or', 'diarrhoea', 'for', 'three', 'weeks', 'or', 'more', ',', 'or', 'blood', 'in', 'your', 'pee', '–', 'even', 'just', 'once', ',', 'could', 'be', 'a', 'sign', 'of', 'cancer', '.', 'It', '’', 's', 'probably', 'nothing', 'serious', ',', 'but', 'finding', 'cancer', 'early', 'makes', 'it', 'more', 'treatable', '.', 'Your', 'NHS', 'wants', 'to', 'see', 'you', '.', 'Just', 'contact', 'your', 'GP', 'practice', '.'], ['@', ':', 'Kaftrio', 'is', 'the', 'latest', 'example', 'of', 'the', 'life-changing', 'therapies', 'the', 'NHS', 'is', 'routinely', 'using', 'to', 'transform', 'the', 'lives', 'of', 'patient…'], ['If', 'you', '’', 're', 'feeling', 'unwell', 'whilst', 'on', 'holiday', 'in', 'England', 'and', 'need', 'advice', ',', 'pop', 'into', 'a', 'pharmacy', '.', 'Pharmacists', 'can', 'help', 'with', 'minor', 'health', 'concerns', 'like', 'tummy', 'troubles', ',', 'aches', 'and', 'pains', 'and', 'many', 'more', '.', 'They', 'can', 'also', 'refer', 'you', 'to', 'the', 'right', 'help', 'if', 'it', '’', 's', 'more', 'serious', '.'], [':', '/', 'Cystic', 'Fibrosis', 'Short', 'Story', 'Born', 'Diagnosed', 'Prognosis', '&', 'lt', ';', 'now', 'and', 'fitter', 'than', 'ever', ',', 'literally', 'Progress', 'under', '…'], ['‘', 'When', 'I', 'see', 'family', ',', 'and', 'my', 'grandparents', ',', 'it', '’', 'll', 'be', 'good', 'to', 'know', 'I', '’', 'm', 'safe', ',', 'and', 'that', 'they', '’', 'll', 'be', 'safe', 'as', 'well.', '’', 'Thank', 'you', 'Brad', 'and', 'Oscar', 'from', 'the', 'for', 'sharing', 'your', 'reasons', 'for', 'getting', 'the', 'COVID-', 'vaccine', '.'], [':', '/', 'O', 'N', 'E', 'Y', 'E', 'A', 'R', 'since', 'Kaftrio', 'was', 'licensed', 'In', 'a', 'year', 'that', 'has', 'been', 'tough', 'for', 'many', ',', 'I', 'feel', 'lucky', 'that', 'I', '’', 've', 'been', 'abl…'], [\"'My\", 'Kaftrio', 'journey', 'has', 'been', 'incredible', 'not', 'just', 'for', 'me', ',', 'but', 'to', 'start', 'a', 'family', 'as', 'well', '.', \"'\", 'Laura', 'is', 'one', 'of', 'thousands', 'of', 'people', 'with', 'cystic', 'fibrosis', 'in', 'England', 'who', 'has', 'benefited', 'from', 'a', 'life-changing', 'drug', '—', 'one', 'year', 'on', 'since', 'it', 'was', 'made', 'available', 'on', 'the', 'NHS', '.'], ['When', 'you', 'need', 'the', 'NHS', '—', 'think', 'online', 'first', '.', 'If', 'you', 'need', 'medical', 'help', 'but', 'it', \"'s\", 'not', 'an', 'emergency', ',', 'use', 'online', '.', 'NHS', 'can', 'book', 'you', 'into', 'an', 'A', '&', 'amp', ';', 'E', 'or', 'direct', 'you', 'to', 'an', 'alternative', 'service', 'if', 'it', '’', 's', 'more', 'appropriate', '.', 'HelpUsHelpYou'], ['‘', 'Working', 'for', 'the', 'NHS', 'I', 'really', 'feel', 'the', 'job', 'is', 'there', 'to', 'make', 'a', 'difference', '.', 'It', '’', 's', 'there', 'to', 'help', 'people', ',', 'and', 'it', '’', 's', 'something', 'that', 'we', 'all', 'probably', 'need', 'at', 'some', 'point.', '’', 'Join', 'people', 'like', 'Paul', 'as', 'part', 'of', 'one', 'of', 'the', 'most', 'trusted', 'teams', 'in', 'the', 'country', '.', 'Search', '‘', 'NHS', 'careers', '’', 'now', '.', 'WeAreTheNHS'], ['From', 'today', ',', 'plasma', 'will', 'be', 'recovered', 'from', 'blood', 'donations', 'to', 'make', 'lifesaving', 'immunoglobulins', '.', 'So', 'your', 'blood', 'donations', 'will', 'save', 'even', 'more', 'lives', '.', '👏', 'needs', ',', 'more', 'plasma', 'donors', 'this', 'summer', '.', 'If', 'you', \"'re\", 'interested', '—', 'join', 'the', 'pool', 'of', 'plasma', 'donors', '.'], ['‘', 'That', '’', 's', 'a', 'way', 'to', 'start', 'a', 'Monday', 'morning.', '’', 'Shout-out', 'to', 'call', 'handler', 'Rachel', ',', 'who', 'we', 'saw', 'supporting', 'a', 'family', 'through', 'an', 'unexpected', 'home', 'birth', 'on', 'last', 'night', '’', 's', 'episode', 'of', '’', 's', 'Ambulance', ',', 'earning', 'herself', 'a', 'badge', '.', '👏'], ['The', 'COVID-', 'vaccine', 'helps', 'us', 'keep', 'enjoying', 'the', 'things', 'we', 'love', '.', 'Book', 'yours', 'now', 'at', '.'], [':', 'Delighted', 'to', 'hear', 'the', 'call', 'involving', 'the', 'little', 'girl', 'saw', 'her', 'mum', 'recover', 'and', 'her', 'deservedly', 'rewarded', 'for', 'her', 'bravery', 'and', 'with…'], ['@', ':', 'Another', 'episode', 'of', 'Ambulance', '😭', 'Massive', 'respect', 'for', 'the', 'whole', 'NHS', 'Ambulance', 'service', '👏👏'], ['Thank', 'you', 'Alex', 'for', 'bravely', 'sharing', 'your', 'personal', 'experience', 'of', 'working', 'on', 'the', 'frontline', 'in', 'tonight', '’', 's', 'Ambulance', '.', 'Our', 'remarkable', 'colleagues', 'have', 'faced', 'challenging', 'times', 'and', 'it', '’', 's', 'important', 'to', 'seek', 'help', 'when', 'needed', '.', 'If', 'you', '’', 're', 'struggling', ',', 'please', 'come', 'forward', '.'], ['@', ':', 'The', 'calm', 'and', 'composure', 'of', 'the', 'call', 'handlers', 'is', 'amazing', '❤', 'Ambulance'], [':', '``', 'I', 'look', 'at', 'my', 'colleagues', 'in', 'the', 'ambulance', 'service', 'and', 'all', 'over', 'the', 'health', 'service', 'and', 'they', '’', 're', 'doing', 'the', 'most', 'amazing', 'job', 'in', 'the…'], ['If', 'you', 'need', 'medical', 'help', 'but', 'it', \"'s\", 'not', 'an', 'emergency', ',', 'use', 'online', '.', 'NHS', 'can', 'book', 'you', 'into', 'an', 'A', '&', 'amp', ';', 'E', 'or', 'direct', 'you', 'to', 'an', 'alternative', 'service', 'if', 'it', '’', 's', 'more', 'appropriate', '.', 'When', 'you', 'need', 'the', 'NHS', '—', 'think', 'online', 'first', '.', 'HelpUsHelpYou'], [':', 'Join', 'and', 'national', 'experts', 'for', 'a', 'masterclass', 'on', 'COVID-', 'infection', 'in', 'pregnancy', '—', 'including', 'the', 'science', 'behind', 'the…'], ['‘', 'I', 'was', 'really', 'keen', 'to', 'get', 'vaccinated', 'as', 'it', '’', 's', 'the', 'right', 'thing', 'to', 'do', 'to', 'protect', 'me', 'and', 'others', 'around', 'me', '.', \"'\", 'Well', 'done', 'to', '-year-old', 'Xavier', ',', 'who', 'felt', 'confident', 'in', 'getting', 'his', 'NHSCOVIDVaccine', 'recently', '.'], ['Invitations', 'to', 'get', 'an', 'NHSCOVIDVaccine', 'are', 'being', 'sent', 'to', 'all', 'and', 'year', 'olds', 'from', 'today', '.', 'Letters', 'will', 'be', 'sent', 'inviting', 'them', 'to', 'come', 'to', 'their', 'nearest', 'walk-in', 'centre', '—', 'with', 'many', 'having', 'already', 'received', 'invitations', 'from', 'their', 'GP', 'and', 'taking', 'up', 'the', 'offer', '.'], [':', 'All-new', 'Ambulance', 'TONIGHT', '.', '.', 'This', 'week', \"'s\", 'episode', 'looks', 'back', 'to', 'the', 'second', 'wave', 'of', 'the', 'pandemic', 'as', 'it', 'continue…'], ['The', 'NHS', 'is', 'here', 'to', 'support', 'you', 'with', 'your', 'mental', 'health', 'and', 'wellbeing', '—', 'whether', 'it', '’', 's', 'accessing', 'urgent', 'mental', 'health', 'support', 'or', 'just', 'finding', 'out', 'what', 'help', 'is', 'available', '.', 'Visit', 'the', 'NHS', 'Mental', 'Health', 'Hub', '.'], [\"'This\", 'has', 'made', 'it', 'so', 'much', 'easier', 'just', 'to', 'walk', 'in', '—', 'all', 'done', ',', 'no', 'issues', '.', \"'\", 'Join', 'the', 'millions', ',', 'like', 'Anthony', ',', 'who', 'are', 'protecting', 'themselves', 'against', 'COVID-', '.', 'All', 'adults', 'are', 'eligible', 'for', 'the', 'NHSCOVIDVaccine', '.', '🎥', ':', 'and'], ['The', 'first', 'call', 'for', 'help', 'takes', 'courage', '.', 'If', 'you', 'or', 'someone', 'you', 'know', 'is', 'a', 'veteran', 'who', 'may', 'be', 'struggling', 'this', 'week', '—', 'OpCOURAGE', 'is', 'here', 'to', 'help', '.', 'Make', 'sure', 'you', 'get', 'the', 'right', 'care', 'and', 'support', 'that', 'you', 'need', '.', '➡️'], ['The', 'news', 'can', 'feel', 'overwhelming', 'right', 'now', 'and', 'we', 'have', 'all', 'experienced', 'the', 'impact', 'of', 'COVID-', 'differently', '.', 'It', \"'s\", 'important', 'to', 'look', 'after', 'ourselves', ',', 'as', 'well', 'as', 'each', 'other', '.', 'Find', 'simple', 'tips', 'and', 'advice', 'on', 'the', 'Every', 'Mind', 'Matters', 'COVID-', 'hub', '.', '🧠'], ['The', 'COVID-', 'vaccine', 'is', 'the', 'best', 'way', 'to', 'protect', 'yourself', 'against', 'new', 'variants', 'of', 'the', 'virus', '.', 'If', 'you', 'haven', '’', 't', 'already', ',', 'book', 'your', 'appointment', 'now', '.'], [\"'I\", 'think', 'it', 'reminds', 'them', 'of', 'how', 'tough', 'times', 'were', 'and', 'how', 'proud', 'we', 'all', 'should', 'be', 'coming', 'through', 'it', '.', \"'\", 'Nurse', 'Petro', 'from', 'who', 'captured', 'her', 'colleagues', 'working', 'on', 'the', 'frontline', 'will', 'see', 'her', 'photos', 'in', 'a', 'new', 'exhibition', '—', 'BehindClosedDoors', '.'], ['@', ':', 'Thank', 'you', 'to', 'everyone', 'for', 'sending', 'such', 'kind', 'and', 'supportive', 'messages', 'over', 'the', 'past', 'few', 'weeks', 'as', 'I', 'started', 'as', 'C…'], ['If', 'you', 'or', 'your', 'loved', 'ones', 'have', 'had', 'COVID-', 'and', 'are', 'experiencing', 'on-going', 'symptoms', 'you', 'can', 'find', 'support', 'and', 'advice', 'to', 'help', 'you', 'on', 'your', 'road', 'to', 'recovery', 'at', 'home', '.'], [':', 'Thank', 'you', 'Brad', 'and', 'Oscar', 'from', 'for', 'protecting', 'yourselves', 'and', 'playing', 'your', 'part', 'in', 'beating', 'COVID-', '.', 'B…'], [':', 'You', 'can', 'now', 'bring', 'your', 'appointment', 'for', 'the', 'second', 'dose', 'of', 'your', 'NHSCOVIDVaccine', 'forward', ',', 'from', 'to', 'eight', 'weeks', 'since', 'your…'], ['Symptoms', 'of', 'a', 'heart', 'attack', 'can', 'include', 'heavy', 'or', 'tight', 'chest', 'pain', 'that', 'may', 'spread', 'to', 'your', 'arms', ',', 'neck', 'or', 'jaw', ',', 'or', 'make', 'you', 'breathless', ',', 'sick', ',', 'sweaty', 'or', 'light-headed', '.', 'If', 'you', 'experience', 'these', 'symptoms', ',', 'call', '.', 'The', 'NHS', 'is', 'still', 'here', 'to', 'see', 'you', 'safely', '.', 'HelpUsHelpYou'], ['Let', \"'s\", 'get', 'back', 'to', 'doing', 'the', 'things', 'we', 'love', '.', 'If', 'you', \"'re\", 'over', ',', 'you', 'can', 'book', 'your', 'vaccine', 'now', '.'], [\"'When\", 'work', 'becomes', 'challenging', 'there', 'is', 'no', 'better', 'cure', 'than', 'to', 'roll', 'around', 'on', 'the', 'mats', '.', \"'\", 'Specialist', 'Critical', 'Care', 'Physiotherapist', 'Sam', 'from', 'is', 'also', 'a', 'Brazilian', 'Jiu', 'Jitsu', 'athlete', '.', 'Read', 'how', 'she', 'balances', 'the', 'two', 'careers', '.'], ['Discomfort', 'or', 'diarrhoea', 'for', 'three', 'weeks', 'or', 'more', ',', 'or', 'blood', 'in', 'your', 'pee', '–', 'even', 'just', 'once', ',', 'could', 'be', 'a', 'sign', 'of', 'cancer', '.', 'It', '’', 's', 'probably', 'nothing', 'serious', ',', 'but', 'finding', 'cancer', 'early', 'makes', 'it', 'more', 'treatable', '.', 'Your', 'NHS', 'wants', 'to', 'see', 'you', '.', 'Just', 'contact', 'your', 'GP', 'practice', '.'], ['If', 'the', 'idea', 'of', 'getting', '‘', 'back', 'to', 'normal', '’', 'is', 'causing', 'worry', 'for', 'you', ',', 'there', 'are', 'lots', 'of', 'ways', 'to', 'make', 'this', 'time', 'easier', '.', 'Visit', 'the', 'Every', 'Mind', 'Matters', 'COVID-', 'hub', 'for', 'simple', 'tips', 'and', 'advice', '.', '🧠'], ['If', 'you', 'or', 'your', 'loved', 'ones', 'have', 'had', 'COVID-', 'and', 'are', 'experiencing', 'on-going', 'symptoms', 'you', 'can', 'find', 'support', 'and', 'advice', 'to', 'help', 'you', 'on', 'your', 'road', 'to', 'recovery', 'at', 'home', '.'], ['If', 'you', \"'re\", 'going', 'on', 'holiday', 'in', 'England', ',', 'remember', 'to', 'pack', 'your', 'medicines', '.', '🏖️', 'It', \"'s\", 'also', 'a', 'good', 'idea', 'to', 'make', 'sure', 'you', '’', 've', 'got', 'the', 'contact', 'details', 'for', 'your', 'GP', 'practice', 'at', 'home', '.', 'They', 'can', 'still', 'help', 'while', 'you', '’', 're', 'away', '.'], [\"'It\", \"'s\", 'a', 'game', 'changer', '.', \"'\", 'Meet', 'baby', 'Edward', 'and', 'his', 'family', '.', 'Edward', 'has', 'spinal', 'muscular', 'atrophy', 'and', 'recently', 'received', 'the', 'potentially', 'life-saving', 'drug', 'Zolgensma', 'at', '.', 'We', 'wish', 'you', 'all', 'the', 'best', 'baby', 'Edward', '.', '💙', '🎥', ':'], ['Looking', 'after', 'the', 'wellbeing', 'of', 'OurNHSPeople', 'means', 'they', 'can', 'better', 'look', 'after', 'patients', '.', 'If', 'you', \"'re\", 'finding', 'things', 'difficult', 'or', 'more', 'challenging', 'at', 'the', 'moment', ',', 'and', 'would', 'like', 'to', 'speak', 'to', 'someone', '—', 'please', 'call', ',', 'text', 'or', 'visit', '.', '📞', '💬'], [\"'I\", \"'ve\", 'always', 'had', 'an', 'issue', 'with', 'needles', '.', 'Jen', 'really', 'helped', 'me', 'overcome', 'that', '.', \"'\", 'Shout', 'out', 'to', 'vaccinator', 'Jen', 'from', 'for', 'making', 'people', 'feel', 'calm', 'when', 'getting', 'their', 'NHSCOVIDVaccine', '!', '👏', 'Thank', 'you', 'to', 'all', 'our', 'staff', 'and', 'volunteers', ',', 'like', 'Jen', ',', 'for', 'their', 'work', 'on', 'the', 'vaccine', 'rollout', '.'], ['Research', 'shows', '%', 'of', 'people', 'would', 'delay', 'seeking', 'medical', 'advice', 'compared', 'to', 'before', 'the', 'pandemic', '.', 'National', 'Clinical', 'Director', 'for', 'Cancer', 'urges', 'anyone', 'worried', 'about', 'their', 'symptoms', 'to', 'come', 'forward', '.', 'Your', 'NHS', 'is', 'here', 'to', 'see', 'you', 'safely', '.', '🎥', ':'], ['Finding', 'cancer', 'early', 'makes', 'it', 'more', 'treatable', 'and', 'can', 'save', 'lives', '.', 'If', 'you', \"'re\", 'experiencing', 'any', 'worrying', 'symptoms', '—', 'diarrhoea', 'or', 'tummy', 'discomfort', 'for', 'three', 'weeks', 'or', 'more', ',', 'or', 'blood', 'in', 'pee', 'even', 'once', ',', 'contact', 'your', 'GP', 'practice', '.'], ['The', 'NHS', 'is', 'here', 'to', 'support', 'you', 'with', 'your', 'mental', 'health', 'and', 'wellbeing', '—', 'whether', 'it', '’', 's', 'accessing', 'urgent', 'mental', 'health', 'support', 'or', 'just', 'finding', 'out', 'what', 'help', 'is', 'available', '.', 'Visit', 'the', 'NHS', 'Mental', 'Health', 'Hub', '.'], ['‘', 'It', '’', 's', 'a', 'job', 'that', 'is', 'so', 'different', 'every', 'day', '.', 'If', 'you', '’', 're', 'somebody', 'who', '’', 's', 'quite', 'hands', 'on', ',', 'you', '’', 've', 'got', 'to', 'give', 'it', 'a', 'go.', '’', 'Ripal', 'is', 'one', 'of', 'our', 'amazing', 'podiatrists', ',', 'and', 'she', 'shares', 'why', 'a', 'job', 'in', 'the', 'NHS', 'is', 'like', 'no', 'other', '.', 'Search', '‘', 'NHS', 'careers', '’', 'today', '.', 'WeAreTheNHS'], ['Over', '%', 'of', 'young', 'people', 'aged', 'to', 'in', 'England', 'have', 'had', 'their', 'first', 'dose', 'of', 'the', 'COVID-', 'vaccine', '.', '💉', 'If', 'you', 'have', \"n't\", 'had', 'yours', 'yet', ',', 'it', \"'s\", 'not', 'too', 'late', '.', 'Visit', 'to', 'get', 'started', '.'], ['If', 'you', 'need', 'to', 'access', 'a', 'GP', 'Practice', 'whilst', 'you', \"'re\", 'on', 'holiday', 'in', 'England', ',', 'your', 'usual', 'GP', 'Practice', 'can', 'still', 'help', 'you', 'by', 'phone', ',', 'video', 'or', 'online', 'consultation', '.', 'They', '’', 'll', 'have', 'all', 'your', 'medical', 'records', 'to', 'hand', ',', 'so', 'always', 'contact', 'them', 'first', '.'], [':', 'Let', \"'s\", 'get', 'back', 'to', 'doing', 'the', 'things', 'we', 'love', '.', 'If', 'you', \"'ve\", 'not', 'yet', 'had', 'your', 'COVIDVaccine', ',', 'it', \"'s\", 'not', 'too', 'late', '.', 'Book', 'online', 'a…'], [\"'I\", '’', 've', 'been', 'a', 'vaccination', 'care', 'volunteer', 'with', '—', 'which', 'is', 'exciting', 'as', 'we', 'get', 'to', 'make', 'a', 'difference', '.', \"'\", '-year-old', 'Faleeha', 'is', 'an', 'NHS', 'Cadets', 'graduate', 'and', 'wants', 'to', 'pursue', 'a', 'career', 'in', 'the', 'NHS', '.', 'Feleeha', ',', 'we', 'wish', 'you', 'the', 'best', 'for', 'your', 'future', '!'], ['%', 'of', 'all', 'adults', 'in', 'England', 'have', 'had', 'both', 'doses', 'of', 'the', 'NHSCOVIDVaccine', '!', '💉💉', 'Join', 'Dr', ',', 'Stanley', ',', 'Stephanie', 'and', 'Rosita', 'who', 'have', 'all', 'protected', 'themselves', 'against', 'COVID-', '.', 'All', 'adults', 'can', 'get', 'their', 'second', 'dose', 'eight', 'weeks', 'after', 'the', 'first', '.'], [':', 'Set', 'your', 'alarms', '!', 'The', 'new', 'series', 'of', 'Ambulance', 'starts', 'tonight', 'on', 'featuring', 'staff', 'from', 'Merseyside', 'in', 'action.…'], [':', 'Many', 'young', 'people', 'will', 'have', 'received', 'their', 'results', 'this', 'morning', '.', 'Congratulations', 'if', 'you', 'got', 'the', 'results', 'you…'], [':', '“', 'I', '’', 'll', 'be', 'honest', ',', 'I', 'didn', '’', 't', 'think', 'I', '’', 'd', 'make', 'it', 'to', 'the', 'age', 'of', '.', '”', 'Ask', 'Daniel', 'why', 'we', 'have', 'changed', 'his', 'life', 'forever', '.', 'On…'], ['If', 'your', 'teeth', 'and', 'gums', 'are', 'healthy', ',', 'your', 'check-up', 'may', 'not', 'be', 'needed', 'for', 'up', 'to', 'months', '.', 'If', 'you', 'think', 'you', 'need', 'dental', 'treatment', ',', 'contact', 'your', 'dental', 'practice', 'by', 'phone', 'or', 'email', 'for', 'advice', '.', 'Dentists', 'are', 'seeing', 'patients', 'in', 'order', 'of', 'priority', '.', 'HelpUsHelpYou'], ['From', 'skyline', 'to', 'frontline', '!', '✈️💙', 'Thank', 'you', 'to', 'all', 'the', 'cabin', 'crew', 'staff', 'that', 'supported', 'the', 'NHS', 'while', 'travel', 'was', 'restricted', '.', 'Before', 'they', 'returned', 'to', 'flying', ',', 'cabin', 'crew', 'members', ',', 'who', 'worked', 'at', ',', 'shared', 'their', 'thoughts', 'on', 'working', 'in', 'the', 'NHS', '.'], ['@', ':', 'running', 'a', 'series', 'of', 'webinars', 'focusing', 'on', 'the', 'key', 'priorities', 'for', 'improving', 'health', 'inequalities', ':', '✅Restoring', 'N…'], ['If', 'you', '’', 're', 'aged', 'and', 'are', 'turning', 'within', 'the', 'next', 'three', 'months', ',', 'you', 'can', 'now', 'book', 'your', 'COVID-', 'vaccine', 'online', ',', 'without', 'needing', 'to', 'go', 'via', 'your', 'GP', '.', 'Visit', 'to', 'get', 'started', '.'], ['If', 'you', 'need', 'medical', 'help', 'but', 'it', \"'s\", 'not', 'an', 'emergency', ',', 'use', 'online', '.', 'NHS', 'can', 'book', 'you', 'into', 'an', 'A', '&', 'amp', ';', 'E', 'or', 'direct', 'you', 'to', 'an', 'alternative', 'service', 'if', 'it', '’', 's', 'more', 'appropriate', '.', 'When', 'you', 'need', 'the', 'NHS', '—', 'think', 'online', 'first', '.', 'HelpUsHelpYou'], ['If', 'you', '’', 're', 'feeling', 'unwell', 'whilst', 'on', 'holiday', 'in', 'England', 'and', 'need', 'advice', ',', 'pop', 'into', 'a', 'pharmacy', '.', 'Pharmacists', 'can', 'help', 'with', 'minor', 'health', 'concerns', 'like', 'tummy', 'troubles', ',', 'aches', 'and', 'pains', 'and', 'many', 'more', '.', 'They', 'can', 'also', 'refer', 'you', 'to', 'the', 'right', 'help', 'if', 'it', '’', 's', 'more', 'serious', '.'], ['Lockdown', 'restrictions', 'may', 'have', 'eased', 'but', 'if', 'you', '’', 're', 'continuing', 'to', 'work', 'from', 'home', ',', 'there', 'are', 'many', 'ways', 'to', 'make', 'it', 'a', 'little', 'easier', '.', 'Visit', 'the', 'Every', 'Mind', 'Matters', 'COVID-', 'hub', 'for', 'simple', 'tips', 'and', 'advice', '.'], [':', 'The', 'COVID-', 'vaccine', 'is', 'the', 'best', 'way', 'to', 'protect', 'yourself', 'against', 'new', 'variants', 'of', 'the', 'virus', '.', 'If', 'you', 'have', \"n't\", 'already', ',', 'book', 'your', 'ap…'], [\"'Volunteering\", 'was', 'rewarding', 'and', 'gave', 'me', 'a', 'great', 'introduction', 'to', 'how', 'pathology', 'works', 'in', 'the', 'NHS', '.', 'When', 'the', 'right', 'job', 'came', 'up', ',', 'I', 'immediately', 'applied', 'and', 'was', 'lucky', 'enough', 'to', 'get', 'the', 'post', '.', \"'\", 'Welcome', 'to', 'the', 'NHS', 'Claudia', '!', '💙', 'Find', 'out', 'how', 'you', 'can', 'get', 'involved', '.', '➡️'], ['The', 'COVIDVaccine', 'has', 'the', 'same', 'expected', 'high', 'standards', 'of', 'safety', ',', 'quality', 'and', 'efficacy', 'as', 'other', 'medicines', 'and', 'vaccines', '.', 'For', 'more', 'information', 'about', 'the', 'COVID-', 'vaccine', '—', 'visit', '.'], ['If', 'you', 'need', 'support', 'to', 'look', 'after', 'your', 'mental', 'health', '—', 'please', 'use', 'the', 'staff', 'mental', 'health', 'and', 'wellbeing', 'hubs', '.', 'The', 'NHS', 'has', 'set', 'up', 'hubs', 'to', 'provide', 'dedicated', 'support', 'for', 'our', 'staff', '.', 'They', 'provide', 'rapid', 'access', 'to', 'local', 'evidence-based', 'services', 'and', 'support', '.'], [':', '📣', 'Three', 'in', 'four', 'UK', 'adults', 'have', 'now', 'had', 'both', 'doses', 'of', 'vaccine', '.', 'Getting', 'your', 'second', 'dose', 'is', 'the', 'best', 'way', 'to', 'ensure', 'y…'], ['If', 'you', 'think', 'you', 'need', 'A', '&', 'amp', ';', 'E', 'whilst', 'on', 'your', 'holiday', 'in', 'England', ',', 'use', 'NHS', 'first', '.', 'NHS', 'can', 'book', 'you', 'into', 'a', 'A', '&', 'amp', ';', 'E', 'or', 'direct', 'you', 'to', 'an', 'alternative', 'service', 'if', 'it', '’', 's', 'more', 'appropriate', '.', 'Help', 'us', 'ensure', 'you', 'get', 'the', 'right', 'care', 'in', 'the', 'right', 'place', 'at', 'the', 'right', 'time', '.'], [':', 'Good', 'luck', 'to', 'everyone', 'getting', 'their', 'ALevelResults', 'today', '.', 'If', 'you', '’', 're', 'looking', 'for', 'a', 'rewarding', 'career', 'that', 'allows', 'you', 'to', 'make…'], [':', 'Congratulations', 'to', 'Halima', '!', 'She', 'achieved', 'the', 'highest', 'grade', '-', 'a', 'Triple', 'Distinction', '*', 'in', 'Health', 'and', 'Social', 'Care', 'and', 'is', 'going', 't…'], [':', 'Another', 'top', 'achiever', 'was', 'Harry', 'Preston', 'who', 'achieved', 'A*', 'grades', 'in', 'Biology', ',', 'Chemistry', 'and', 'Maths', 'and', 'is', 'one', 'step', 'closer', 'to', 'ach…'], [':', 'I', 'am', 'VERY', 'proud', 'to', 'be', 'a', 'nurse', 'and', 'today', 'I', 'am', 'bursting', 'with', 'pride', 'that', 'my', 'daughter', 'Hannah', 'was', 'successful', 'in', 'getting', 'her', 'A', 'le…'], [':', 'I', 'didn', '’', 't', 'get', 'the', 'grades', 'needed', 'to', 'study', 'Nursing', 'when', 'I', 'did', 'my', 'A', 'levels', ',', 'went', 'back', 'to', 'education', 'and', 'went', 'to', 'uni', 'later', 'than…'], [':', 'Got', 'into', 'kings', 'college', ',', 'can', '’', 't', 'wait', 'to', 'be', 'your', 'fav', 'midwife', '😩😩😩😩', ',', 'hard', 'work', 'pays', 'off', '!', '!', '!', '!', 'ALevelResults', 'resultsday'], ['This', 'ALevelResults', 'day', ',', 'Mental', 'Health', 'Nurse', 'Rebecca', 'will', 'be', 'answering', 'all', 'your', 'questions', 'about', 'her', 'career', 'journey', 'on', 'our', 'Instagram', 'stories', '!', 'If', 'you', '’', 're', 'looking', 'for', 'a', 'rewarding', 'career', 'that', 'allows', 'you', 'to', 'change', 'lives', ',', 'a', 'nursing', 'degree', 'could', 'be', 'perfect', 'for', 'you', '.', 'WeAreTheNHS'], ['@', ':', 'Good', 'luck', 'to', 'everyone', 'getting', 'their', 'ALevelResults', 'today', '.', 'Over', 'my', 'career', 'I', 'have', 'been', 'privileged', 'to', 'work', 'with', 'so', 'many', 'ta…'], ['Best', 'of', 'luck', 'to', 'everyone', 'getting', 'their', 'ALevelResults', 'today', '!', '💙', 'There', 'are', 'over', 'NHS-related', 'university', 'courses', 'you', 'could', 'take', 'leading', 'you', 'to', 'one', 'of', 'rewarding', 'careers', 'in', 'the', 'NHS', '.', 'Search', \"'NHS\", 'careers', \"'\", 'to', 'find', 'out', 'more', '.', 'WeAreTheNHS'], [\"'It\", 'felt', 'like', 'a', 'friendship', 'milestone', 'and', 'a', 'privilege', 'to', 'go', 'get', 'vaccinated', 'together', '.', \"'\", 'Friends', 'Stephanie', 'and', 'Rosita', 'have', 'had', 'both', 'doses', 'of', 'the', 'NHSCOVIDVaccine', '.', 'All', 'adults', 'can', 'get', 'their', 'second', 'dose', 'of', 'the', 'vaccine', 'eight', 'weeks', 'after', 'the', 'first', '.'], ['NHS', 'Blood', 'and', 'Transplant', 'needs', ',', 'more', 'plasma', 'donors', 'this', 'summer', '.', 'If', 'you', \"'re\", 'interested', '—', 'join', 'the', 'pool', 'of', 'plasma', 'donors', 'and', 'start', 'saving', 'lives', '.', '➡️'], [':', 'Congrats', 'Blackburn', 'Rovers', 'for', 'beating', 'Swansea', 'this', 'weekend', 'in', 'your', 'opening', 'game', 'of', 'the', 'Championship', ',', 'and', 'also', 'bols…'], ['Feeling', 'low', ',', 'anxious', 'or', 'struggling', 'to', 'sleep', '?', 'Continue', 'making', 'time', 'for', 'your', 'mental', 'wellbeing', '.', 'Visit', 'Every', 'Mind', 'Matters', 'to', 'get', 'a', 'free', ',', 'personalised', 'mental', 'health', 'action', 'plan', 'with', 'simple', 'tips', 'to', 'get', 'you', 'started', '.'], ['If', 'you', '’', 've', 'been', 'suffering', 'from', 'diarrhoea', ',', 'bloating', 'or', 'discomfort', 'for', 'three', 'weeks', 'or', 'more', ',', 'it', 'could', 'be', 'a', 'sign', 'of', 'cancer', '.', 'Please', 'speak', 'to', 'your', 'GP', '.', 'Finding', 'cancer', 'early', 'makes', 'it', 'more', 'treatable', '.', 'HelpUsHelpYou'], ['If', 'you', 'need', 'to', 'access', 'a', 'GP', 'Practice', 'whilst', 'you', \"'re\", 'on', 'holiday', 'in', 'England', ',', 'your', 'usual', 'GP', 'Practice', 'can', 'still', 'help', 'you', 'by', 'phone', ',', 'video', 'or', 'online', 'consultation', '.', 'They', '’', 'll', 'have', 'all', 'your', 'medical', 'records', 'to', 'hand', ',', 'so', 'always', 'contact', 'them', 'first', '.'], [\"'Plasma\", 'donation', 'is', 'the', 'reason', 'I', 'have', 'two', 'healthy', 'little', 'boys', 'that', 'keep', 'me', 'on', 'my', 'toes', '.', 'They', 'gave', 'the', 'gift', 'of', 'life', 'for', 'my', 'youngest', 'and', 'saved', 'the', 'life', 'of', 'my', 'eldest', '.', \"'\", 'Trevor', \"'s\", 'mum', 'Kes', 'knows', 'the', 'value', 'of', 'blood', 'plasma', '.', 'Donate', 'today', '.', 'SaveLives'], ['‘', 'It', '’', 's', 'a', 'job', 'that', 'is', 'so', 'different', 'every', 'day', '.', 'If', 'you', '’', 're', 'somebody', 'who', '’', 's', 'quite', 'hands', 'on', ',', 'you', '’', 've', 'got', 'to', 'give', 'it', 'a', 'go.', '’', 'Ripal', 'is', 'one', 'of', 'our', 'amazing', 'podiatrists', ',', 'and', 'she', 'shares', 'why', 'a', 'job', 'in', 'the', 'NHS', 'is', 'like', 'no', 'other', '.', 'Search', '‘', 'NHS', 'careers', '’', 'today', '.', 'WeAreTheNHS'], ['Recovery', 'from', 'COVID-', 'can', 'take', 'time', '.', 'You', 'may', 'be', 'experiencing', 'symptoms', 'that', 'are', 'not', 'going', 'away', '.', 'Your', 'COVID', 'Recovery', 'has', 'information', 'from', 'rehabilitation', 'experts', ',', 'and', 'patients', ',', 'on', 'mental', 'health', 'and', 'wellbeing', 'to', 'physical', 'health', 'and', 'returning', 'to', 'work', '.'], [':', '“', 'You', 'represent', 'some', 'of', 'the', 'best', 'in', 'our', 'societies', 'and', 'our', 'communities', ',', 'and', 'I', 'want', 'to', 'see', 'you', 'strive', 'and', 'flourish.', '”', '…'], [\"'Getting\", 'the', 'COVID-', 'vaccine', 'gives', 'me', 'hope', '.', \"'\", 'All', 'adults', 'are', 'now', 'eligible', 'for', 'the', 'NHSCOVIDVaccine', '.', 'If', 'you', 'have', 'epilepsy', 'like', 'Cece', ',', 'being', 'fully', 'vaccinated', 'provides', 'maximum', 'protection', 'against', 'COVID-', '.', 'It', \"'s\", 'important', 'to', 'attend', 'both', 'appointments', '.'], ['When', 'you', 'need', 'the', 'NHS', '—', 'think', 'online', 'first', '.', 'If', 'you', 'need', 'medical', 'help', 'but', 'it', \"'s\", 'not', 'an', 'emergency', ',', 'use', 'online', '.', 'NHS', 'can', 'book', 'you', 'into', 'an', 'A', '&', 'amp', ';', 'E', 'or', 'direct', 'you', 'to', 'an', 'alternative', 'service', 'if', 'it', '’', 's', 'more', 'appropriate', '.', 'HelpUsHelpYou'], ['Congratulations', 'to', 'the', 'NHS', 'Cadets', 'on', 'their', 'graduation', 'today', '!', '🎉', 'The', 'NHSCadets', 'is', 'run', 'with', 'and', 'supports', 'teenagers', 'to', 'develop', 'skills', 'needed', 'for', 'a', 'career', 'in', 'healthcare', '.', 'Over', 'the', 'past', 'year', ',', 'they', \"'ve\", 'undergone', 'first', 'aid', 'training', 'and', 'volunteered', 'at', 'vaccination', 'sites', '.'], ['If', 'you', \"'re\", 'going', 'on', 'holiday', 'in', 'England', ',', 'remember', 'to', 'pack', 'your', 'medicines', '.', '🏖️', 'It', \"'s\", 'also', 'a', 'good', 'idea', 'to', 'make', 'sure', 'you', '’', 've', 'got', 'the', 'contact', 'details', 'for', 'your', 'GP', 'practice', 'at', 'home', '.', 'They', 'can', 'still', 'help', 'while', 'you', '’', 're', 'away', '.'], ['Over', 'a', 'million', 'children', 'and', 'young', 'people', 'can', 'get', 'an', 'NHSCOVIDVaccine', 'in', 'the', 'latest', 'stage', 'of', 'the', 'NHS', 'vaccination', 'programme', '.', 'and', '-year-olds', ',', 'the', 'country', '’', 's', 'most', 'vulnerable', 'children', 'and', 'those', 'who', 'live', 'with', 'vulnerable', 'adults', 'will', 'be', 'eligible', '.', '➡️'], [':', '“', 'Clinically', 'vulnerable', 'people', 'are', 'TIMES', 'more', 'likely', 'to', 'become', 'seriously', 'ill', 'from', 'than', 'their', 'peers', '”', 'If', 'you', 'are', 'clini…'], ['Breastfeeding', 'can', 'bring', 'many', 'benefits', 'to', 'you', 'and', 'your', 'baby', '.', 'This', 'World', 'Breastfeeding', 'Week', ',', 'find', 'out', 'whether', 'this', 'is', 'a', 'choice', 'for', 'you', '.', 'Find', 'more', 'information', 'and', 'support', '➡️'], [':', 'From', 'September', ',', 'people', 'will', 'be', 'required', 'to', 'have', 'had', 'two', 'doses', 'of', 'a', 'COVID-', 'vaccine', 'to', 'enter', 'nightclubs', 'and', 'other', 'large', 'scale', 'ev…'], ['‘', 'Bryson', 'has', 'been', 'a', 'ray', 'of', 'sunshine', 'since', 'I', 'started', 'working', 'with', 'him', ',', 'so', 'seeing', 'him', 'walk', 'to', 'school', 'is', 'a', 'memory', 'I', '’', 'll', 'cherish', 'forever', '.', 'Shout', 'out', 'to', 'Physiotherapist', 'Lorna', 'from', '!', 'She', 'recently', 'supported', 'Bryson', ',', 'who', 'has', 'cerebral', 'palsy', ',', 'to', 'walk', 'to', 'school', 'unassisted', '!', '💪'], [\"'It\", '’', 's', 'over', 'in', 'five', 'seconds.', '’', 'Harry', 'overcame', 'his', 'fear', 'of', 'needles', 'and', 'had', 'his', 'NHSCOVIDVaccine', '.', 'Our', 'staff', 'are', 'experienced', 'and', 'can', 'help', 'you', 'feel', 'comfortable', 'when', 'getting', 'your', 'vaccine', '.', '🎥', ':'], [\"'Plasma\", 'donation', 'is', 'more', 'important', 'than', 'anything', '—', 'without', 'it', 'we', 'would', 'not', 'have', 'our', 'little', 'boy', '.', \"'\", 'Harley', 'has', 'acute', 'lymphoblastic', 'leukaemia', '.', 'He', 'relies', 'on', 'plasma', 'to', 'create', 'new', 'antibodies', '.', 'need', ',', 'new', 'donors', 'to', 'save', 'more', 'lives', '.', 'Donate', 'now', '.'], [\"'Getting\", 'the', 'COVID-', 'vaccine', 'gives', 'me', 'hope', '.', \"'\", 'All', 'adults', 'are', 'now', 'eligible', 'for', 'the', 'NHSCOVIDVaccine', '.', 'If', 'you', 'have', 'a', 'kidney', 'disease', 'like', 'Maddy', ',', 'being', 'fully', 'vaccinated', 'provides', 'maximum', 'protection', 'against', 'COVID-', '.', 'It', \"'s\", 'important', 'to', 'attend', 'both', 'appointments', '.'], ['‘', 'Cycle', 'to', 'work', '’', 'has', 'a', 'whole', 'different', 'meaning', 'for', 'the', 'incredible', 'paramedics', 'at', 'who', 'are', 'highly', 'skilled', 'at', 'cycling', 'to', 'emergencies', 'all', 'across', 'London', 'whilst', 'working', 'under', 'significant', 'pressures', 'come', 'rain', 'or', 'shine', '.', 'Keep', 'up', 'the', 'great', 'work', 'team', '!', '🚴💙', 'CycleToWorkDay'], ['Join', 'experts', 'Dr', 'and', 'Consultant', 'Respiratory', 'Physician', 'Dr', 'Binita', 'Kane', 'on', 'Saturday', 'as', 'they', 'discuss', 'the', 'impact', 'of', 'COVID-', 'on', 'ethnic', 'minority', 'communities', ',', 'including', 'those', 'who', 'are', 'of', 'South', 'Asian', 'origin', 'for', '.', 'Register', 'your', 'place', '.', '➡️'], [':', 'On', 'her', 'first', 'visit', 'as', 'Chief', 'Executive', ',', '@', 'met', 'with', 'our', 'incredible', 'team', 'at', 'Woodhatch', 'Place', '(', 'reiga…'], ['NHS', 'Chief', 'Executive', '@', 'has', 'urged', 'young', 'people', 'to', 'get', 'the', 'NHSCOVIDVaccine', ',', 'as', 'figures', 'reveal', 'that', 'those', 'aged', '-', 'now', 'make', 'up', 'more', 'than', 'one', 'in', 'five', 'of', 'those', 'admitted', 'to', 'hospital', 'with', 'the', 'virus', '.', 'If', 'you', 'have', \"n't\", 'yet', '—', 'book', 'yours', 'today', '.', '💉'], [':', 'It', \"'s\", 'Pfizer', 'on', 'the', 'dancefloor', 'this', 'weekend', 'at', 'Heaven', 'nightclub', '!', '💃💉', 'Join', 'the', 'team', 'at', 'G-A-Y', 'on', 'Sunday', 'August', 'from', '-…'], ['Symptoms', 'of', 'a', 'heart', 'attack', 'can', 'include', 'heavy', 'or', 'tight', 'chest', 'pain', 'that', 'may', 'spread', 'to', 'your', 'arms', ',', 'neck', 'or', 'jaw', ',', 'or', 'make', 'you', 'breathless', ',', 'sick', ',', 'sweaty', 'or', 'light-headed', '.', 'If', 'you', 'experience', 'these', 'symptoms', ',', 'call', '.', 'The', 'NHS', 'is', 'still', 'here', 'to', 'see', 'you', 'safely', '.', 'HelpUsHelpYou'], ['We', 'are', 'still', 'safely', 'seeing', 'pregnant', 'women', 'every', 'day', '.', 'Please', 'attend', 'your', 'check-ups', 'and', 'speak', 'to', 'your', 'midwife', 'about', 'any', 'concerns', '.', 'Your', 'NHS', 'is', 'here', 'to', 'see', 'you', ',', 'safely', '.', 'HelpUsHelpYou'], ['You', 'might', 'be', 'finding', 'things', 'tough', 'this', 'year', ',', 'but', 'there', 'are', 'lots', 'of', 'things', 'that', 'we', 'can', 'do', 'to', 'feel', 'better', '.', 'Visit', 'the', 'Every', 'Mind', 'Matters', 'COVID-', 'hub', 'for', 'simple', 'tips', '.'], ['‘', 'The', 'feeling', 'of', 'gratitude', 'and', 'excitement', 'as', 'I', 'got', 'my', 'second', 'jab', 'was', 'something', 'I', 'won', '’', 't', 'forget', 'any', 'time', 'soon.', '’', 'Join', 'Omid', 'and', 'the', 'millions', 'of', 'others', 'who', 'have', 'had', 'the', 'NHSCovidVaccine', '—', 'search', \"'NHS\", 'COVID', 'vaccine', \"'\", 'to', 'book', 'your', 'appointment', '.'], ['‘', 'The', 'role', 'of', 'a', 'radiographer', 'is', 'really', 'significant', '.', 'We', '’', 'll', 'often', 'be', 'one', 'of', 'the', 'key', 'people', 'involved', 'at', 'the', 'start', ',', 'to', 'help', 'diagnose', 'what', 'is', 'wrong.', '’', 'Diagnostic', 'Radiographer', 'Rupert', 'shares', 'how', 'meeting', 'radiographers', 'as', 'a', 'patient', 'inspired', 'him', 'to', 'become', 'one', 'himself', '.', 'WeAreTheNHS'], ['If', 'you', 'need', 'support', 'to', 'look', 'after', 'your', 'mental', 'health', '—', 'please', 'use', 'the', 'staff', 'mental', 'health', 'and', 'wellbeing', 'hubs', '.', 'The', 'NHS', 'has', 'set', 'up', 'hubs', 'to', 'provide', 'dedicated', 'support', 'for', 'our', 'staff', '.', 'They', 'provide', 'rapid', 'access', 'to', 'local', 'evidence-based', 'services', 'and', 'support', '.'], [\"'As\", 'someone', 'who', 'has', 'COVID', 'and', 'treated', 'hundreds', 'of', 'positive', 'patients', ',', 'the', 'seriousness', 'of', 'this', 'virus', 'to', 'all', 'age', 'groups', 'can', 'not', 'be', 'underestimated', '.', \"'\", 'Junior', 'Doctor', 'knows', 'the', 'effect', 'COVID-', 'can', 'have', '.', 'The', 'vaccine', 'is', 'your', 'best', 'protection', 'against', 'it', '.'], ['NHS', 'Blood', 'and', 'Transplant', 'needs', ',', 'more', 'plasma', 'donors', 'this', 'summer', '.', 'If', 'you', \"'re\", 'interested', '—', 'join', 'the', 'pool', 'of', 'plasma', 'donors', 'and', 'start', 'saving', 'lives', '.', '➡️'], ['@', ':', 'As', 'the', 'new', 'NHS', 'Chief', 'Executive', ',', 'I', '’', 'd', 'like', 'to', 'thank', 'staff', 'for', 'everything', 'you', 'have', 'done', 'throughout', 'the', 'COVID-', 'pandemic', '.', 'I', '’', '…'], ['Let', \"'s\", 'get', 'back', 'to', 'doing', 'the', 'things', 'we', 'love', '.', 'If', 'you', \"'re\", 'over', ',', 'you', 'can', 'book', 'your', 'vaccine', 'now', '.'], ['💙'], [':', 'It', \"'s\", 'World', 'Breastfeeding', 'Week', '!', 'It', '’', 's', 'normal', 'to', 'need', 'help', 'with', 'breastfeeding', '.', 'Find', 'support', 'and', 'answers', 'to', 'your', 'frequ…'], ['‘', 'I', 'felt', 'extremely', 'nervous', 'about', 'having', 'the', 'jab.', '’', 'If', 'you', 'have', 'a', 'fear', 'of', 'needles', 'like', 'Khadijah', ',', 'our', 'staff', 'are', 'there', 'to', 'help', 'you', 'feel', 'comfortable', 'when', 'getting', 'your', 'NHSCOVIDVaccine', '.', 'Let', 'them', 'know', 'if', 'you', '’', 're', 'anxious', 'or', 'have', 'any', 'concerns', 'when', 'you', 'attend', 'your', 'appointment', '.', '🎥', ':'], ['Every', 'patient', 'who', 'needs', 'kidney', 'dialysis', 'will', 'benefit', 'from', 'free', 'transport', 'to', 'and', 'from', 'vital', 'hospital', 'appointments', '.', 'New', 'rules', 'will', 'make', 'it', 'simpler', 'for', 'other', 'patients', 'to', 'get', 'free', 'transport', ',', 'including', 'those', 'with', 'long', 'term', 'conditions', 'and', 'mobility', 'problems', '.'], ['Remember', 'F.A.S.T', 'for', 'the', 'signs', 'of', 'a', 'stroke', '.', 'Face', '–', 'has', 'their', 'face', 'fallen', 'on', 'one', 'side', '?', 'Arms', '–', 'can', 'they', 'raise', 'both', 'arms', 'and', 'keep', 'them', 'there', '?', 'Speech', '–', 'is', 'it', 'slurred', '?', 'Time', '–', 'it', '’', 's', 'time', 'to', 'call', '.', 'When', 'stroke', 'strikes', 'remember', 'to', 'ActFast'], ['‘', 'For', 'me', ',', 'being', 'part', 'of', 'the', 'NHS', 'affords', 'me', 'that', 'opportunity', 'to', 'learn', 'a', 'lot', 'from', 'the', 'people', 'I', 'look', 'after.', '’', 'There', 'are', 'over', 'rewarding', 'careers', 'in', 'the', 'NHS', '—', 'search', '‘', 'NHS', 'careers', '’', 'to', 'find', 'out', 'which', 'one', 'could', 'be', 'for', 'you', '.', 'WeAreTheNHS'], [':', 'Thanks', 'Gill', 'for', 'putting', 'the', 'advice', 'on', 'Twitter..', 'not', 'acceptable', 'to', 'receive', 'such', 'abuse', ':', '-', '(', 'teamCNO', 'appreciates', 'your', 'support', 'r'], [':', 'Since', 'the', 'pandemic', 'began', ',', 'we', 'have', 'worked', 'hard', 'to', 'get', 'the', 'best', 'advice', 'and', 'support', 'to', 'our', 'members', 'and', 'to', 'pregnant', 'women', '.', 'Yes…'], ['If', 'you', '’', 've', 'had', 'COVID-', 'you', 'may', 'still', 'be', 'experiencing', 'some', 'ongoing', 'physical', 'and', 'psychological', 'symptoms', 'that', 'you', '’', 're', 'struggling', 'to', 'recover', 'from', '.', 'Your', 'COVID', 'recovery', 'provides', 'advice', 'to', 'support', 'your', 'health', 'and', 'wellbeing', 'as', 'you', 'recover', '.'], [\"'He\", 'had', 'no', 'symptoms', ',', 'other', 'than', 'a', 'cough', ',', 'which', 'we', 'put', 'down', 'to', 'smoking', '.', \"'\", 'Danny', 'attended', 'a', 'lung', 'health', 'check', 'where', 'a', 'large', 'growth', 'was', 'found', '.', 'After', 'a', 'successful', 'operation', 'he', 'is', 'cancer', 'free', '!', 'If', 'you', \"'ve\", 'had', 'a', 'cough', 'for', 'three', 'weeks', 'or', 'more', ',', 'contact', 'your', 'GP', 'Practice', '.', 'LungCancerDay'], ['If', 'you', 'need', 'medical', 'help', 'but', 'it', \"'s\", 'not', 'an', 'emergency', ',', 'contact', 'first', ',', 'and', 'they', 'will', 'be', 'able', 'to', 'advise', 'on', 'the', 'service', 'you', 'need', 'or', 'book', 'you', 'into', 'A', '&', 'amp', ';', 'E.', 'HelpUsHelpYou'], ['Feeling', 'low', ',', 'anxious', 'or', 'struggling', 'to', 'sleep', '?', 'Continue', 'making', 'time', 'for', 'your', 'mental', 'wellbeing', '.', 'Visit', 'Every', 'Mind', 'Matters', 'to', 'get', 'a', 'free', ',', 'personalised', 'mental', 'health', 'action', 'plan', 'with', 'simple', 'tips', 'to', 'get', 'you', 'started', '.'], [\"'We\", 'do', 'everything', 'we', 'can', 'to', 'bring', 'hepatitis', 'C', 'testing', 'and', 'treatment', 'to', 'our', 'patients', '.', \"'\", 'Thanks', 'to', 'nurses', 'like', 'Jane', 'and', 'Sophie', 'for', 'their', 'work', 'in', 'the', 'community', 'and', 'for', 'the', 'direct', 'impact', 'they', '’', 're', 'having', 'to', 'help', 'to', 'eliminate', 'hepatitis', 'C', 'in', 'England', '.']]\n"
          ]
        }
      ]
    },
    {
      "cell_type": "markdown",
      "metadata": {
        "id": "nQNkJ-wVTl-y"
      },
      "source": [
        "# Sentence Tokenization"
      ]
    },
    {
      "cell_type": "code",
      "metadata": {
        "colab": {
          "base_uri": "https://localhost:8080/"
        },
        "id": "C_iZxftzTo9k",
        "outputId": "0e2dc604-8627-4a7f-b0f9-dfed0cdb66b8"
      },
      "source": [
        "#Sentence tokenization\n",
        "\n",
        "from nltk.tokenize import sent_tokenize\n",
        "sent_token = [sent_tokenize(doc) for doc in raw_docs['Tweets']]\n",
        "print(sent_token)\n"
      ],
      "execution_count": 13,
      "outputs": [
        {
          "output_type": "stream",
          "name": "stdout",
          "text": [
            "[['Looking after the wellbeing of OurNHSPeople means they can better look after patients.', \"If you're finding things difficult or more challenging at the moment, and would like to speak to someone — please call, text or visit  .\", '📞 💬'], [\"'I've had my COVID- vaccine.\", 'It was quick and easy.', \"I'm really pleased to have had it done.'\", '-year-old Lemuella has had her NHSCOVIDVaccine.', 'Find out more about the vaccine and how you can get yours.', '➡️'], [' : Delighted that the NHS will now be able to offer patients inclisiran, a treatment to lower cholesterol, due to our NHS-fir…'], [' : You have a medicine in your blood but you probably don’t know about it.', '\\U0001fa78🤔\\n\\nYour plasma could be the only thing that save…'], ['A new drug to lower cholesterol will be made available to hundreds of thousands of patients, thanks to a world-leading deal.', \"It's estimated that Inclisiran could prevent , heart attacks and strokes, saving , lives within the next decade.\"], ['If you’re - years old, you’re eligible for the NHSCOVIDVaccine.', 'If you’ve not had yours yet, visit   to find your nearest walk-in centre.'], [' @: Thank you to all colleagues who have helped shape the  guidance on digital transformation, published today.', 'Digital…'], [\" : Today we've published our What Good Looks Like guidance for digital transformation.\", 'On our blog, our national CIO @ set…'], [\"'Get it done.\", \"I nearly died.'\", 'Lucy was rushed into hospital with COVID- at  weeks pregnant with her daughter Billie Rae.', 'Luckily she’s now on the mend, and  is encouraging others to get the vaccine after being on a ventilator at .'], [\"If you need medical help but it's not an emergency, use  online.\", 'NHS  can book you into an A&amp;E or direct you to an alternative service if it’s more appropriate.', 'When you need the NHS — think  online first.', 'HelpUsHelpYou'], [' : Thousands are set to benefit from genetic testing that is being rolled out across England.', 'The testing will spot a r…'], [\"'I chose to do pharmacy as it combined my passion for science and healthcare.\", \"My advice to anyone thinking of a career in pharmacy — stay motivated and be prepared to work hard!'\", 'There are over  careers in the NHS, like Nyrah’s.', \"Search 'NHS careers' to find out more.\"], [\"'It’s not only about yourself, is it.\", 'It’s about keeping everyone around you safe.’\\n\\nTom had his second dose of the NHSCOVIDVaccine.', 'There are several ways to get your vaccine — book online or find a walk in site near you.', '🎥:  and'], [' : Thousands are set to benefit from genetic testing that is being rolled out across England.', 'The testing will spot a rare form…'], [\"'Since I was diagnosed and my treatment was changed from insulin injections to tablets, I feel much better in myself.'\", 'Jen benefited from genetic testing that spotted her as having monogenic diabetes.', 'Since the new diagnosis she has changed treatment and is feeling much better.'], ['Thousands are set to benefit from genetic testing that is being rolled out across England.', 'The testing will spot a rare form of diabetes known as monogenic diabetes.', 'Once diagnosed patients can manage their condition by taking tablets instead of insulin.'], ['When you need the NHS — think  online first.', \"If you need medical help but it's not an emergency, use  online.\", 'NHS  can book you into an A&amp;E or direct you to an alternative service if it’s more appropriate.', 'HelpUsHelpYou'], [\"‘As was the case with many student nurses in , I did not expect to complete my programme in the middle of a pandemic on placement.'\", 'Congratulations Jess on becoming an adult and mental health nurse under such challenging circumstances.', 'Welcome to the NHS!', '👏'], [\"If you need medical help this bank holiday but it's not an emergency, call your GP Practice first.\", 'You may be directed to use NHS .', 'HelpUsHelpYou'], [\"'I wasn't planning to come get my vaccine here, but I came and saw it and it was so easy.\", \"It didn't hurt at all.'\", 'Georgia got her NHSCOVIDVaccine from the !', 'Find your nearest walk-in site.', 'ReadingFestival ➡️'], ['While some community pharmacy services will be open this bank holiday, not all pharmacies will be open.', 'Find an open pharmacy near you.', '➡️'], [\"It's easier than ever to get your COVID- jab.\", 'Visit   to find a walk-in site near you — including local museums, festivals, stadiums and theatres.', '🎪 🎭 ⚽'], ['‘If you’ve had your jab, then speak to your friends and family and encourage them to come forward too.’\\n \\nSince rolling out our GrabAJab campaign, the NHS vaccination programme has protected more than , people from ethnic minority backgrounds.'], ['If you need urgent dental treatment this bank holiday, call your dentist.', \"If you cannot contact your dentist, or you don't have one, use NHS  Online.\", 'HelpUsHelpYou'], ['If you’re - years old, you’re eligible for the NHSCOVIDVaccine.', 'If you’ve not had yours yet, visit   to find your nearest walk-in centre.'], [' : 💉Vaccinating in full swing  we are here till  tonight and all weekend 💙Amelia, , just got her jab @…'], [' : No need to wait !', 'GetVaccinated and if you have some spare hours why not volunteer   htt…'], [\" : Isabelle,  is looking forward to holidays and seeing her friends now she's had her CovidVaccine.\", 'What do you want to get bac…'], [' : Meet , an oral &amp; maxillofacial trainee surgeon .', \"Today he'll be sharing with us what it's like to be a…\"], [\"You’re literally keeping one more person on earth every single time you donate.’\\n \\nLayla talks about her daughter's Sickle Cell diagnosis and the need for more ethnically matched donors.\", 'Sign up to GiveBlood, and save lives.', '❤️'], [\" : We've been chatting with festival-goers who got their COVID- vaccine at ReadingFestival.\", 'Georgia got her first jab yester…'], ['More than , lives have been saved by the NHSCOVIDVaccine programme.', 'Thank you to our NHS staff and volunteers who have been vaccinating at parks, festivals, places of worship and stadiums.', 'This bank holiday GrabAJab at your local walk-in site.', '➡️'], ['The COVID- vaccine helps us keep enjoying the things we love.', 'Book yours now at  .'], [\"It's been an incredibly difficult year for people working in the NHS.\", \"If you're finding things more challenging at the moment, and would like to speak to someone — please call, text or visit  .\"], ['Our staff are incredible, but they are also human.', 'On Ambulance we saw Student Paramedic Jen stay calm under pressure to help save the life of a -week-old baby.', 'Thank you Jen for being so calm and courageous!', 'We wish you all the best for your future career in the NHS.', '💚'], [' @: Just in awe.', \"How the paramedic's console and talk to the person that lost their loved on on scene.\", 'Truly heartbreaking…'], [' : The hardworking crews of NWAS showing their kindness, determination and how much they put into this job tonight.', 'We will alwa…'], [' : Fully respect all the call handlers in ambulance'], [' : Call handers from  are supporting London Ambulance Service to answer calls as the capital declares a major incident.…'], [\" : Naomi from 'Ambulance' on  is a fantastic ambassador for the NHS emergency services.\", 'I take my hat off to people…'], [' : \"If we get anything out of Covid, it’s that it’s given staff and myself a deeper appreciation for what our job is.', 'Just how esse…'], [' : 💉 Don’t forget it’s easier than ever to get your vaccine!', '- year olds - visit   to find a walk-in s…'], [' : Ready for a new episode of Ambulance TONIGHT?', 'We’re back on a roller coaster of emotions helping with a number of COVID a…'], ['The NHS is here to support you with your mental health and wellbeing — whether it’s accessing urgent mental health support or just finding out what help is available.', 'Visit the NHS Mental Health Hub.'], ['People aged - currently have the highest COVID- infection rate in England.', 'By getting both jabs of the NHSCOVIDVaccine — you can greatly reduce the chance of being hospitalised.', 'Find out more.'], [\" : We're showcasing our StaffBehindTheMask\\n\\nRuth Williams is a speech and language therapist.\", '\"I support adults with learning d…'], [' : ⃣⃣ years ago Maria Jeralyn Montes-Pagcu, known as Jerri, ✈️over , miles to take up a once in a lifetime opportunity…'], ['More than half a million  and  year olds in England have now had their COVID- jab, and it’s now easier than ever to get it done.', 'Visit   to find a walk-in site near you — including local museums, festivals, stadiums and theatres.', '🎪 🎭 ⚽'], [\"'I've been perfectly fine and I was a bit hesitant because I don't like the thought of fainting or needles.'\", 'Join the millions that are protecting themselves against COVID-.', 'Book your NHSCOVIDVaccine appointment.', '🎥:  and'], [' : Yesterday, I had the pleasure of catching up with our talented  nurses.', 'It was great to share my thanks to K…'], ['The NHS is rolling out a new same day blood test to rule out pre-eclampsia, a life-threatening condition for both expectant mothers and their babies.', 'This means the condition can be ruled out much faster and significantly reduce hospital admissions.'], [\"'It has given me ten more years of my life.'\", 'Bill attended a lung health check that found a tumour.', 'Luckily catching cancer early makes it more treatable and Bill is now cancer free.', \"If you've had a cough for three weeks or more, contact your GP Practice.\", 'HelpUsHelpYou'], [' : Learn more about how this world-first blood test can rule out pre-eclampsia — removing the stress that comes with the uncerta…'], ['Symptoms of a heart attack can include heavy or tight chest pain that may spread to your arms, neck or jaw, or make you breathless, sick, sweaty or light-headed.', 'If you experience these symptoms, call .', 'The NHS is still here to see you safely.', 'HelpUsHelpYou'], ['‘It’s been fabulous — I’ve not been in and out of hospital.’\\n\\nRebecca is one of the first pregnant women who benefitted from a same-day life-saving test to rule out a potentially fatal disease in pregnant women which is being rolled out across the NHS.'], ['Looking after the wellbeing of OurNHSPeople means they can better look after patients.', \"If you're finding things difficult or more challenging at the moment, and would like to speak to someone — please call, text or visit  .\", '📞 💬'], [\"'The guilt I felt at passing the virus onto him was so immense.\", \"But now some of that burden has been lifted as I know that he can be cured thanks to the NHS.'\", 'Ashleigh is over the moon that her son James will get the Hepatitis C treatment for children.'], ['Children in England are set to be the first in the world to be offered a cure for Hepatitis C.\\n \\nThe world-first treatment will help the NHS in achieving its goal to eliminate Hepatitis C in England ahead of the  target, set by .', '➡️'], [' : Everyone over the age of  in England will be able to have their blood pressure checked for free in High Street chemists fro…'], [' : The NHS has today announced the nationwide rollout of blood pressure checks in high street pharmacies, a move that could potent…'], [\"'Just being involved is exciting and it’s a real privilege to be there.'\", \"Senior Nurse Kim from  is also leading a team of nurses that are supporting Great Britain's Paralympian athletes at the @ Paralympics!\", '👏 Good luck to everyone competing!'], [' : Why is it important for immunocompromised people to get the  vaccination?', 'Sonia from  finds out more…'], ['The NHS is rolling out high street heart checks to help save thousands of lives.', 'From October, every NHS pharmacy in England will be able to provide lifesaving blood pressure checks to people aged  and over.', '❤️👏'], [\"'I realised how much I enjoyed caring for others.'\", 'Chloe started volunteering at her local hospital during the pandemic and is now a healthcare assistant!', 'Thank you Chloe and welcome to the NHS.', '💙'], [' : \"Nurses and patients could have conversations about our experiences and what could be improved, and I felt that I had a…'], [' : People aged - currently have the highest COVID- infection rate in England.', 'But by getting both jabs, you can greatly reduc…'], [' : Great to see so many people from the younger cohorts coming forward for their CovidVaccine at the weekend.', 'Thank you…'], ['If you’ve had COVID- you may still be experiencing some ongoing physical and psychological symptoms that you’re struggling to recover from.', 'Your COVID recovery provides advice to support your health and wellbeing as you recover.'], [' : The QNI is joining with  on a new project to support international recruitment of Registered Nurses to community ser…'], ['The COVID- vaccine is the best way to protect yourself against new variants of the virus.', 'If you haven’t already, book your appointment now.'], ['If you need support to look after your mental health — please use the staff mental health and wellbeing hubs.', 'The NHS has set up hubs to provide dedicated support for our staff.', 'They provide rapid access to local evidence-based services and support.'], ['If you think you need A&amp;E whilst on your holiday in England, use NHS  first.', 'NHS  can book you into a A&amp;E or direct you to an alternative service if it’s more appropriate.', 'Help us ensure you get the right care in the right place at the right time.'], [\"'All my friends have had two already.\", \"I'm the last one to get the second.'\", 'Ellie has had two doses of the NHSCOVIDVaccine.', 'All adults can get their second dose eight weeks after the first.', 'Don’t delay yours any longer.', '➡️  \\n \\n🎥:  and'], [\"'Immunoglobulins saved my family.\", \"Plasma is the reason I have two healthy little boys.'\", 'Around one million blood donations a year will  be used to make lifesaving plasma medicine!', \"👏\\n \\nYou can help more families like Kes' by becoming a plasma donor.\"], ['Discomfort or diarrhoea for three weeks or more, or blood in your pee – even just once, could be a sign of cancer.', 'It’s probably nothing serious, but finding cancer early makes it more treatable.', 'Your NHS wants to see you.', 'Just contact your GP practice.'], [' @: Kaftrio is the latest example of the life-changing therapies the NHS is routinely using to transform the lives of patient…'], ['If you’re feeling unwell whilst on holiday in England and need advice, pop into a pharmacy.', 'Pharmacists can help with minor health concerns like tummy troubles, aches and pains and many more.', 'They can also refer you to the right help if it’s more serious.'], [' : / Cystic Fibrosis Short Story\\nBorn \\nDiagnosed \\nPrognosis&lt;\\n now and fitter than ever, literally \\nProgress under …'], ['‘When I see family, and my grandparents, it’ll be good to know I’m safe, and that they’ll be safe as well.’\\n\\nThank you Brad and Oscar from the  for sharing your reasons for getting the COVID- vaccine.'], [' : / O N E Y E A R  since Kaftrio was licensed \\nIn a year that has been tough for many,  I feel lucky that I’ve been abl…'], [\"'My Kaftrio journey has been incredible not just for me, but to start a family as well.'\", 'Laura is one of thousands of people with cystic fibrosis in England who has benefited from a life-changing drug — one year on since it was made available on the NHS.'], ['When you need the NHS — think  online first.', \"If you need medical help but it's not an emergency, use  online.\", 'NHS  can book you into an A&amp;E or direct you to an alternative service if it’s more appropriate.', 'HelpUsHelpYou'], ['‘Working for the NHS I really feel the job is there to make a difference.', 'It’s there to help people, and it’s something that we all probably need at some point.’\\n\\nJoin people like Paul as part of one of the most trusted teams in the country.', 'Search ‘NHS careers’ now.', 'WeAreTheNHS'], ['From today, plasma will be recovered from blood donations to make lifesaving immunoglobulins.', 'So your blood donations will save even more lives.', '👏\\n \\n needs , more plasma donors this summer.', \"If you're interested — join the pool of plasma donors.\"], ['‘That’s a way to start a Monday morning.’\\n \\nShout-out to  call handler Rachel, who we saw supporting a family through an unexpected home birth on last night’s episode of ’s Ambulance, earning herself a badge.', '👏'], ['The COVID- vaccine helps us keep enjoying the things we love.', 'Book yours now at  .'], [' : Delighted to hear the call involving the little girl saw her mum recover and her deservedly rewarded for her bravery and with…'], [' @: Another episode of Ambulance 😭 Massive respect for the whole NHS Ambulance service 👏👏'], ['Thank you Alex for bravely sharing your personal experience of working on the frontline in tonight’s Ambulance.', 'Our remarkable colleagues have faced challenging times and it’s important to seek help when needed.', 'If you’re struggling, please come forward.'], [' @: The calm and composure of the call handlers is amazing ❤ Ambulance'], [' : \"I look at my colleagues in the ambulance service and all over the health service and they’re doing the most amazing job in the…'], [\"If you need medical help but it's not an emergency, use  online.\", 'NHS  can book you into an A&amp;E or direct you to an alternative service if it’s more appropriate.', 'When you need the NHS — think  online first.', 'HelpUsHelpYou'], [' : Join  and national experts for a masterclass on COVID- infection in pregnancy — including the science behind the…'], [\"‘I was really keen to get vaccinated as it’s the right thing to do to protect me and others around me.'\", 'Well done to -year-old Xavier, who felt confident in getting his NHSCOVIDVaccine recently.'], ['Invitations to get an NHSCOVIDVaccine are being sent to all  and  year olds from today.', 'Letters will be sent inviting them to come to their nearest walk-in centre — with many having already received invitations from their GP and taking up the offer.'], [' : All-new Ambulance TONIGHT.', '.', \"This week's episode looks back to the second wave of the pandemic as it continue…\"], ['The NHS is here to support you with your mental health and wellbeing — whether it’s accessing urgent mental health support or just finding out what help is available.', 'Visit the NHS Mental Health Hub.'], [\"'This has made it so much easier just to walk in — all done, no issues.'\", 'Join the millions, like Anthony, who are protecting themselves against COVID-.', 'All adults are eligible for the NHSCOVIDVaccine.', '🎥:  and'], ['The first call for help takes courage.', 'If you or someone you know is a veteran who may be struggling this week — OpCOURAGE is here to help.', 'Make sure you get the right care and support that you need.', '➡️'], ['The news can feel overwhelming right now and we have all experienced the impact of COVID- differently.', \"It's important to look after ourselves, as well as each other.\", 'Find simple tips and advice on the Every Mind Matters COVID- hub.', '🧠'], ['The COVID- vaccine is the best way to protect yourself against new variants of the virus.', 'If you haven’t already, book your appointment now.'], [\"'I think it reminds them of how tough times were and how proud we all should be coming through it.'\", 'Nurse Petro from  who captured her colleagues working on the frontline will see her photos in a new exhibition — BehindClosedDoors.'], [' @: Thank you to everyone for sending such kind and supportive messages over the past few weeks as I started as  C…'], ['If you or your loved ones have had COVID- and are experiencing on-going symptoms you can find support and advice to help you on your road to recovery at home.'], [' : Thank you Brad and Oscar from  for protecting yourselves and playing your part in beating COVID-.', 'B…'], [' : You can now bring your appointment for the second dose of your NHSCOVIDVaccine forward, from  to eight weeks since your…'], ['Symptoms of a heart attack can include heavy or tight chest pain that may spread to your arms, neck or jaw, or make you breathless, sick, sweaty or light-headed.', 'If you experience these symptoms, call .', 'The NHS is still here to see you safely.', 'HelpUsHelpYou'], [\"Let's get back to doing the things we love.\", \"If you're over , you can book your vaccine now.\"], [\"'When work becomes challenging there is no better cure than to roll around on the mats.'\", 'Specialist Critical Care Physiotherapist Sam from  is also a Brazilian Jiu Jitsu athlete.', 'Read how she balances the two careers.'], ['Discomfort or diarrhoea for three weeks or more, or blood in your pee – even just once, could be a sign of cancer.', 'It’s probably nothing serious, but finding cancer early makes it more treatable.', 'Your NHS wants to see you.', 'Just contact your GP practice.'], ['If the idea of getting ‘back to normal’ is causing worry for you, there are lots of ways to make this time easier.', 'Visit the Every Mind Matters COVID- hub for simple tips and advice.', '🧠'], ['If you or your loved ones have had COVID- and are experiencing on-going symptoms you can find support and advice to help you on your road to recovery at home.'], [\"If you're going on holiday in England, remember to pack your medicines.\", \"🏖️\\n \\nIt's also a good idea to make sure you’ve got the contact details for your GP practice at home.\", 'They can still help while you’re away.'], [\"'It's a game changer.'\", 'Meet baby Edward and his family.', 'Edward has spinal muscular atrophy and recently received the potentially life-saving drug Zolgensma at .', 'We wish you all the best baby Edward.', '💙\\n \\n🎥:'], ['Looking after the wellbeing of OurNHSPeople means they can better look after patients.', \"If you're finding things difficult or more challenging at the moment, and would like to speak to someone — please call, text or visit  .\", '📞 💬'], [\"'I've always had an issue with needles.\", \"Jen really helped me overcome that.'\", 'Shout out to vaccinator Jen from  for making people feel calm when getting their NHSCOVIDVaccine!', '👏 \\n\\nThank you to all our staff and volunteers, like Jen, for their work on the vaccine rollout.'], ['Research shows % of people would delay seeking medical advice compared to before the pandemic.', 'National Clinical Director for Cancer  urges anyone worried about their symptoms to come forward.', 'Your NHS is here to see you safely.', '🎥:'], ['Finding cancer early makes it more treatable and can save lives.', \"If you're experiencing any worrying symptoms — diarrhoea or tummy discomfort for three weeks or more, or blood in pee even once, contact your GP practice.\"], ['The NHS is here to support you with your mental health and wellbeing — whether it’s accessing urgent mental health support or just finding out what help is available.', 'Visit the NHS Mental Health Hub.'], ['‘It’s a job that is so different every day.', 'If you’re somebody who’s quite hands on, you’ve got to give it a go.’\\n\\nRipal is one of our amazing podiatrists, and she shares why a job in the NHS is like no other.', 'Search ‘NHS careers’ today.', 'WeAreTheNHS'], ['Over % of young people aged  to  in England have had their first dose of the COVID- vaccine.', \"💉\\n\\nIf you haven't had yours yet, it's not too late.\", 'Visit   to get started.'], [\"If you need to access a GP Practice whilst you're on holiday in England, your usual GP Practice can still help you by phone, video or online consultation.\", 'They’ll have all your medical records to hand, so always contact them first.'], [\" : Let's get back to doing the things we love.\", \"If you've not yet had your COVIDVaccine, it's not too late.\", 'Book online a…'], [\"'I’ve been a vaccination care volunteer with  — which is exciting as we get to make a difference.'\", '-year-old Faleeha is an NHS Cadets graduate and wants to pursue a career in the NHS.', 'Feleeha, we wish you the best for your future!'], ['% of all adults in England have had both doses of the NHSCOVIDVaccine!', '💉💉\\n \\nJoin Dr , Stanley, Stephanie and Rosita who have all protected themselves against COVID-.', 'All adults can get their second dose eight weeks after the first.'], [' : Set your alarms!', 'The new series of Ambulance starts  tonight on  featuring  staff from Merseyside in action.…'], [' : Many young people will have received their  results this morning.', 'Congratulations if you got the results you…'], [' : “I’ll be honest, I didn’t think I’d make it to the age of .”  \\nAsk Daniel why we have changed his life forever.', 'On…'], ['If your teeth and gums are healthy, your check-up may not be needed for up to  months.', 'If you think you need dental treatment, contact your dental practice by phone or email for advice.', 'Dentists are seeing patients in order of priority.', 'HelpUsHelpYou'], ['From skyline to frontline!', '✈️💙\\n \\nThank you to all the cabin crew staff that supported the NHS while travel was restricted.', 'Before they returned to flying, cabin crew members, who worked at \\n, shared their thoughts on working in the NHS.'], [' @:  running a series of webinars focusing on the  key priorities for improving health inequalities:\\n✅Restoring N…'], ['If you’re aged  and are turning  within the next three months, you can now book your COVID- vaccine online, without needing to go via your GP.', 'Visit   to get started.'], [\"If you need medical help but it's not an emergency, use  online.\", 'NHS  can book you into an A&amp;E or direct you to an alternative service if it’s more appropriate.', 'When you need the NHS — think  online first.', 'HelpUsHelpYou'], ['If you’re feeling unwell whilst on holiday in England and need advice, pop into a pharmacy.', 'Pharmacists can help with minor health concerns like tummy troubles, aches and pains and many more.', 'They can also refer you to the right help if it’s more serious.'], ['Lockdown restrictions may have eased but if you’re continuing to work from home, there are many ways to make it a little easier.', 'Visit the Every Mind Matters COVID- hub for simple tips and advice.'], [' : The COVID- vaccine is the best way to protect yourself against new variants of the virus.', \"If you haven't already, book your ap…\"], [\"'Volunteering was rewarding and gave me a great introduction to how pathology works in the NHS.\", \"When the right job came up, I immediately applied and was lucky enough to get the post.'\", 'Welcome to the NHS Claudia!', '💙 Find out how you can get involved.', '➡️'], ['The COVIDVaccine has the same expected high standards of safety, quality and efficacy as other medicines and vaccines.', 'For more information about the COVID- vaccine — visit  .'], ['If you need support to look after your mental health — please use the staff mental health and wellbeing hubs.', 'The NHS has set up hubs to provide dedicated support for our staff.', 'They provide rapid access to local evidence-based services and support.'], [' : 📣 Three in four UK adults have now had both doses of  vaccine.', 'Getting your second dose is the best way to ensure y…'], ['If you think you need A&amp;E whilst on your holiday in England, use NHS  first.', 'NHS  can book you into a A&amp;E or direct you to an alternative service if it’s more appropriate.', 'Help us ensure you get the right care in the right place at the right time.'], [' : Good luck to everyone getting their ALevelResults today.', 'If you’re looking for a rewarding career that allows you to make…'], [' : Congratulations to Halima!', 'She achieved the highest grade - a Triple Distinction * in Health and Social Care and is going t…'], [' : Another top achiever was Harry Preston who achieved A* grades in Biology, Chemistry and Maths and is one step closer to ach…'], [' : I am VERY proud to be a nurse and today I am bursting with pride that my daughter Hannah was successful in getting her A le…'], [' : I didn’t get the grades needed to study Nursing when I did my A levels, went back to education and went to uni later than…'], [' : Got into kings college ,can’t wait to be your fav  midwife 😩😩😩😩,hard work pays off !!!!', 'ALevelResults resultsday'], ['This ALevelResults day, Mental Health Nurse Rebecca will be answering all your questions about her career journey on our Instagram stories!', 'If you’re looking for a rewarding career that allows you to change lives, a nursing degree could be perfect for you.', 'WeAreTheNHS'], [' @: Good luck to everyone getting their ALevelResults today.', 'Over my career I have been privileged to work with so many ta…'], ['Best of luck to everyone getting their ALevelResults today!', '💙\\n \\nThere are over  NHS-related university courses you could take leading you to one of  rewarding careers in the NHS.', \"Search 'NHS careers' to find out more.\", 'WeAreTheNHS'], [\"'It felt like a friendship milestone and a privilege to go get vaccinated together.'\", 'Friends Stephanie and Rosita have had both doses of the NHSCOVIDVaccine.', 'All adults can get their second dose of the vaccine eight weeks after the first.'], ['NHS Blood and Transplant needs , more plasma donors this summer.', \"If you're interested — join the pool of plasma donors and start saving lives.\", '➡️'], [' : Congrats Blackburn Rovers  for beating Swansea this weekend in your opening game of the  Championship, and also bols…'], ['Feeling low, anxious or struggling to sleep?', 'Continue making time for your mental wellbeing.', 'Visit Every Mind Matters to get a free, personalised mental health action plan with simple tips to get you started.'], ['If you’ve been suffering from diarrhoea, bloating or discomfort for three weeks or more, it could be a sign of cancer.', 'Please speak to your GP.', 'Finding cancer early makes it more treatable.', 'HelpUsHelpYou'], [\"If you need to access a GP Practice whilst you're on holiday in England, your usual GP Practice can still help you by phone, video or online consultation.\", 'They’ll have all your medical records to hand, so always contact them first.'], [\"'Plasma donation is the reason I have two healthy little boys that keep me on my toes.\", \"They gave the gift of life for my youngest and saved the life of my eldest.'\", \"Trevor's mum Kes knows the value of blood plasma.\", 'Donate today.', 'SaveLives'], ['‘It’s a job that is so different every day.', 'If you’re somebody who’s quite hands on, you’ve got to give it a go.’\\n\\nRipal is one of our amazing podiatrists, and she shares why a job in the NHS is like no other.', 'Search ‘NHS careers’ today.', 'WeAreTheNHS'], ['Recovery from COVID- can take time.', 'You may be experiencing symptoms that are not going away.', 'Your COVID Recovery has information from rehabilitation experts, and patients, on mental health and wellbeing to physical health and returning to work.'], [' : “You represent some of the best in our societies and our communities, and I want to see you strive and flourish.”\\n\\n…'], [\"'Getting the COVID- vaccine gives me hope.'\", 'All adults are now eligible for the NHSCOVIDVaccine.', 'If you have epilepsy like Cece, being fully vaccinated provides maximum protection against COVID-.', \"It's important to attend both appointments.\"], ['When you need the NHS — think  online first.', \"If you need medical help but it's not an emergency, use  online.\", 'NHS  can book you into an A&amp;E or direct you to an alternative service if it’s more appropriate.', 'HelpUsHelpYou'], ['Congratulations to the NHS Cadets on their graduation today!', '🎉\\n \\nThe NHSCadets is run with  and supports teenagers to develop skills needed for a career in healthcare.', \"Over the past year, they've undergone first aid training and volunteered at vaccination sites.\"], [\"If you're going on holiday in England, remember to pack your medicines.\", \"🏖️\\n \\nIt's also a good idea to make sure you’ve got the contact details for your GP practice at home.\", 'They can still help while you’re away.'], ['Over a million children and young people can get an NHSCOVIDVaccine in the latest stage of the NHS vaccination programme.', 'and -year-olds, the country’s most vulnerable children and those who live with vulnerable adults will be eligible.', '➡️'], [' : “Clinically vulnerable people are  TIMES more likely to become seriously ill from  than their peers” \\n\\nIf you are clini…'], ['Breastfeeding can bring many benefits to you and your baby.', 'This World Breastfeeding Week, find out whether this is a choice for you.', 'Find more information and support  ➡️'], [' : From September, people will be required to have had two doses of a COVID- vaccine to enter nightclubs and other large scale ev…'], ['‘Bryson has been a ray of sunshine since I started working with him, so seeing him walk to school is a memory I’ll cherish forever.', 'Shout out to Physiotherapist Lorna from !', 'She recently supported Bryson, who has cerebral palsy, to walk to school unassisted!', '💪'], [\"'It’s over in five seconds.’\\n\\nHarry overcame his fear of needles and had his NHSCOVIDVaccine.\", 'Our staff are experienced and can help you feel comfortable when getting your vaccine.', '🎥:'], [\"'Plasma donation is more important than anything — without it we would not have our little boy.'\", 'Harley has acute lymphoblastic leukaemia.', 'He relies on\\nplasma to create new antibodies.', 'need , new donors to save more lives.', 'Donate now.'], [\"'Getting the COVID- vaccine gives me hope.'\", 'All adults are now eligible for the NHSCOVIDVaccine.', 'If you have a kidney disease like Maddy, being fully vaccinated provides maximum protection against COVID-.', \"It's important to attend both appointments.\"], ['‘Cycle to work’ has a whole different meaning for the incredible paramedics at  who are highly skilled at cycling to emergencies all across London whilst working under significant pressures come rain or shine.', 'Keep up the great work team!🚴💙\\n\\nCycleToWorkDay'], ['Join experts Dr  and Consultant Respiratory Physician Dr Binita Kane on Saturday as they discuss the impact of COVID- on ethnic minority communities, including those who are of South Asian origin for .', 'Register your place.', '➡️'], [' : On her first visit as  Chief Executive, @ met with our incredible team at Woodhatch Place (reiga…'], ['NHS Chief Executive @ has urged young people to get the NHSCOVIDVaccine, as figures reveal that those aged - now make up more than one in five of those admitted to hospital with the virus.', \"If you haven't yet — book yours today.\", '💉'], [\" : It's Pfizer on the dancefloor this weekend at Heaven nightclub!\", '💃💉 \\n\\nJoin the team at G-A-Y on Sunday  August from -…'], ['Symptoms of a heart attack can include heavy or tight chest pain that may spread to your arms, neck or jaw, or make you breathless, sick, sweaty or light-headed.', 'If you experience these symptoms, call .', 'The NHS is still here to see you safely.', 'HelpUsHelpYou'], ['We are still safely seeing pregnant women every day.', 'Please attend your check-ups and speak to your midwife about any concerns.', 'Your NHS is here to see you, safely.', 'HelpUsHelpYou'], ['You might be finding things tough this year, but there are lots of things that we can do to feel better.', 'Visit the Every Mind Matters COVID- hub for simple tips.'], [\"‘The feeling of gratitude and excitement as I got my second jab was something I won’t forget any time soon.’\\n \\nJoin Omid  and the millions of others who have had the NHSCovidVaccine — search 'NHS COVID vaccine' to book your appointment.\"], ['‘The role of a radiographer is really significant.', 'We’ll often be one of the key people involved at the start, to help diagnose what is wrong.’\\n\\nDiagnostic Radiographer Rupert shares how meeting radiographers as a patient inspired him to become one himself.', 'WeAreTheNHS'], ['If you need support to look after your mental health — please use the staff mental health and wellbeing hubs.', 'The NHS has set up hubs to provide dedicated support for our staff.', 'They provide rapid access to local evidence-based services and support.'], [\"'As someone who has COVID and treated hundreds of positive patients, the seriousness of this virus to all age groups cannot be underestimated.'\", 'Junior Doctor  knows the effect COVID- can have.', 'The vaccine is your best protection against it.'], ['NHS Blood and Transplant needs , more plasma donors this summer.', \"If you're interested — join the pool of plasma donors and start saving lives.\", '➡️'], [' @: As the new NHS Chief Executive, I’d like to thank staff for everything you have done throughout the COVID- pandemic.', 'I’…'], [\"Let's get back to doing the things we love.\", \"If you're over , you can book your vaccine now.\"], ['💙'], [\" : It's World Breastfeeding Week!\", 'It’s normal to need help with breastfeeding.', 'Find support and answers to your frequ…'], ['‘I felt extremely nervous about having the jab.’\\n\\nIf you have a fear of needles like Khadijah, our staff are there to help you feel comfortable when getting your NHSCOVIDVaccine.', 'Let them know if you’re anxious or have any concerns when you attend your appointment.', '🎥:'], ['Every patient who needs kidney dialysis will benefit from free transport to and from vital hospital appointments.', 'New rules will make it simpler for other patients to get free transport, including those with long term conditions and mobility problems.'], ['Remember F.A.S.T for the signs of a stroke.', 'Face – has their face fallen on one side?', 'Arms – can they raise both arms and keep them there?', 'Speech – is it slurred?', 'Time – it’s time to call .', 'When stroke strikes remember to ActFast'], ['‘For me, being part of the NHS affords me that opportunity to learn a lot from the people I look after.’\\n\\nThere are over  rewarding careers in the NHS — search ‘NHS careers’ to find out which one could be for you.', 'WeAreTheNHS'], [' : Thanks Gill for putting the advice on Twitter.. not acceptable to receive such abuse :-( teamCNO appreciates your support r'], [' : Since the pandemic began, we have worked hard to get the best advice and support to our members and to pregnant women.', 'Yes…'], ['If you’ve had COVID- you may still be experiencing some ongoing physical and psychological symptoms that you’re struggling to recover from.', 'Your COVID recovery provides advice to support your health and wellbeing as you recover.'], [\"'He had no symptoms, other than a cough, which we put down to smoking.'\", 'Danny attended a lung health check where a large growth was found.', 'After a successful operation he is cancer free!', \"If you've had a cough for three weeks or more, contact your GP Practice.\", 'LungCancerDay'], [\"If you need medical help but it's not an emergency, contact  first, and they will be able to advise on the service you need or book you into A&amp;E. HelpUsHelpYou\"], ['Feeling low, anxious or struggling to sleep?', 'Continue making time for your mental wellbeing.', 'Visit Every Mind Matters to get a free, personalised mental health action plan with simple tips to get you started.'], [\"'We do everything we can to bring hepatitis C testing and treatment to our patients.'\", 'Thanks to nurses like Jane and Sophie for their work in the community and for the direct impact they’re having to help to eliminate hepatitis C in England.']]\n"
          ]
        }
      ]
    },
    {
      "cell_type": "markdown",
      "metadata": {
        "id": "8TL8E-fJTrXw"
      },
      "source": [
        "# Remove Punctuation"
      ]
    },
    {
      "cell_type": "code",
      "metadata": {
        "colab": {
          "base_uri": "https://localhost:8080/"
        },
        "id": "ObnpmXyMTtdo",
        "outputId": "827bd6b6-5597-496d-aae0-6144968ab9d6"
      },
      "source": [
        "#Remove punctuations\n",
        "import re\n",
        "import string\n",
        "\n",
        "regex = re.compile('[%s]' % re.escape(string.punctuation))\n",
        "\n",
        "tokenized_docs_no_punctuation = []\n",
        "\n",
        "for review in tokenized_docs:\n",
        "    new_review = []\n",
        "    for token in review:\n",
        "        new_token = regex.sub(u'', token)\n",
        "        if not new_token == u'':\n",
        "            new_review.append(new_token)\n",
        "    \n",
        "    tokenized_docs_no_punctuation.append(new_review)\n",
        "    \n",
        "print(tokenized_docs_no_punctuation)"
      ],
      "execution_count": 14,
      "outputs": [
        {
          "output_type": "stream",
          "name": "stdout",
          "text": [
            "[['Looking', 'after', 'the', 'wellbeing', 'of', 'OurNHSPeople', 'means', 'they', 'can', 'better', 'look', 'after', 'patients', 'If', 'you', 're', 'finding', 'things', 'difficult', 'or', 'more', 'challenging', 'at', 'the', 'moment', 'and', 'would', 'like', 'to', 'speak', 'to', 'someone', '—', 'please', 'call', 'text', 'or', 'visit', '📞', '💬'], ['I', 've', 'had', 'my', 'COVID', 'vaccine', 'It', 'was', 'quick', 'and', 'easy', 'I', 'm', 'really', 'pleased', 'to', 'have', 'had', 'it', 'done', 'yearold', 'Lemuella', 'has', 'had', 'her', 'NHSCOVIDVaccine', 'Find', 'out', 'more', 'about', 'the', 'vaccine', 'and', 'how', 'you', 'can', 'get', 'yours', '➡️'], ['Delighted', 'that', 'the', 'NHS', 'will', 'now', 'be', 'able', 'to', 'offer', 'patients', 'inclisiran', 'a', 'treatment', 'to', 'lower', 'cholesterol', 'due', 'to', 'our', 'NHSfir…'], ['You', 'have', 'a', 'medicine', 'in', 'your', 'blood', 'but', 'you', 'probably', 'don', '’', 't', 'know', 'about', 'it', '\\U0001fa78🤔', 'Your', 'plasma', 'could', 'be', 'the', 'only', 'thing', 'that', 'save…'], ['A', 'new', 'drug', 'to', 'lower', 'cholesterol', 'will', 'be', 'made', 'available', 'to', 'hundreds', 'of', 'thousands', 'of', 'patients', 'thanks', 'to', 'a', 'worldleading', 'deal', 'It', 's', 'estimated', 'that', 'Inclisiran', 'could', 'prevent', 'heart', 'attacks', 'and', 'strokes', 'saving', 'lives', 'within', 'the', 'next', 'decade'], ['If', 'you', '’', 're', 'years', 'old', 'you', '’', 're', 'eligible', 'for', 'the', 'NHSCOVIDVaccine', 'If', 'you', '’', 've', 'not', 'had', 'yours', 'yet', 'visit', 'to', 'find', 'your', 'nearest', 'walkin', 'centre'], ['Thank', 'you', 'to', 'all', 'colleagues', 'who', 'have', 'helped', 'shape', 'the', 'guidance', 'on', 'digital', 'transformation', 'published', 'today', 'Digital…'], ['Today', 'we', 've', 'published', 'our', 'What', 'Good', 'Looks', 'Like', 'guidance', 'for', 'digital', 'transformation', 'On', 'our', 'blog', 'our', 'national', 'CIO', 'set…'], ['Get', 'it', 'done', 'I', 'nearly', 'died', 'Lucy', 'was', 'rushed', 'into', 'hospital', 'with', 'COVID', 'at', 'weeks', 'pregnant', 'with', 'her', 'daughter', 'Billie', 'Rae', 'Luckily', 'she', '’', 's', 'now', 'on', 'the', 'mend', 'and', 'is', 'encouraging', 'others', 'to', 'get', 'the', 'vaccine', 'after', 'being', 'on', 'a', 'ventilator', 'at'], ['If', 'you', 'need', 'medical', 'help', 'but', 'it', 's', 'not', 'an', 'emergency', 'use', 'online', 'NHS', 'can', 'book', 'you', 'into', 'an', 'A', 'amp', 'E', 'or', 'direct', 'you', 'to', 'an', 'alternative', 'service', 'if', 'it', '’', 's', 'more', 'appropriate', 'When', 'you', 'need', 'the', 'NHS', '—', 'think', 'online', 'first', 'HelpUsHelpYou'], ['Thousands', 'are', 'set', 'to', 'benefit', 'from', 'genetic', 'testing', 'that', 'is', 'being', 'rolled', 'out', 'across', 'England', 'The', 'testing', 'will', 'spot', 'a', 'r…'], ['I', 'chose', 'to', 'do', 'pharmacy', 'as', 'it', 'combined', 'my', 'passion', 'for', 'science', 'and', 'healthcare', 'My', 'advice', 'to', 'anyone', 'thinking', 'of', 'a', 'career', 'in', 'pharmacy', '—', 'stay', 'motivated', 'and', 'be', 'prepared', 'to', 'work', 'hard', 'There', 'are', 'over', 'careers', 'in', 'the', 'NHS', 'like', 'Nyrah', '’', 's', 'Search', 'NHS', 'careers', 'to', 'find', 'out', 'more'], ['It', '’', 's', 'not', 'only', 'about', 'yourself', 'is', 'it', 'It', '’', 's', 'about', 'keeping', 'everyone', 'around', 'you', 'safe', '’', 'Tom', 'had', 'his', 'second', 'dose', 'of', 'the', 'NHSCOVIDVaccine', 'There', 'are', 'several', 'ways', 'to', 'get', 'your', 'vaccine', '—', 'book', 'online', 'or', 'find', 'a', 'walk', 'in', 'site', 'near', 'you', '🎥', 'and'], ['Thousands', 'are', 'set', 'to', 'benefit', 'from', 'genetic', 'testing', 'that', 'is', 'being', 'rolled', 'out', 'across', 'England', 'The', 'testing', 'will', 'spot', 'a', 'rare', 'form…'], ['Since', 'I', 'was', 'diagnosed', 'and', 'my', 'treatment', 'was', 'changed', 'from', 'insulin', 'injections', 'to', 'tablets', 'I', 'feel', 'much', 'better', 'in', 'myself', 'Jen', 'benefited', 'from', 'genetic', 'testing', 'that', 'spotted', 'her', 'as', 'having', 'monogenic', 'diabetes', 'Since', 'the', 'new', 'diagnosis', 'she', 'has', 'changed', 'treatment', 'and', 'is', 'feeling', 'much', 'better'], ['Thousands', 'are', 'set', 'to', 'benefit', 'from', 'genetic', 'testing', 'that', 'is', 'being', 'rolled', 'out', 'across', 'England', 'The', 'testing', 'will', 'spot', 'a', 'rare', 'form', 'of', 'diabetes', 'known', 'as', 'monogenic', 'diabetes', 'Once', 'diagnosed', 'patients', 'can', 'manage', 'their', 'condition', 'by', 'taking', 'tablets', 'instead', 'of', 'insulin'], ['When', 'you', 'need', 'the', 'NHS', '—', 'think', 'online', 'first', 'If', 'you', 'need', 'medical', 'help', 'but', 'it', 's', 'not', 'an', 'emergency', 'use', 'online', 'NHS', 'can', 'book', 'you', 'into', 'an', 'A', 'amp', 'E', 'or', 'direct', 'you', 'to', 'an', 'alternative', 'service', 'if', 'it', '’', 's', 'more', 'appropriate', 'HelpUsHelpYou'], ['‘', 'As', 'was', 'the', 'case', 'with', 'many', 'student', 'nurses', 'in', 'I', 'did', 'not', 'expect', 'to', 'complete', 'my', 'programme', 'in', 'the', 'middle', 'of', 'a', 'pandemic', 'on', 'placement', 'Congratulations', 'Jess', 'on', 'becoming', 'an', 'adult', 'and', 'mental', 'health', 'nurse', 'under', 'such', 'challenging', 'circumstances', 'Welcome', 'to', 'the', 'NHS', '👏'], ['If', 'you', 'need', 'medical', 'help', 'this', 'bank', 'holiday', 'but', 'it', 's', 'not', 'an', 'emergency', 'call', 'your', 'GP', 'Practice', 'first', 'You', 'may', 'be', 'directed', 'to', 'use', 'NHS', 'HelpUsHelpYou'], ['I', 'was', 'nt', 'planning', 'to', 'come', 'get', 'my', 'vaccine', 'here', 'but', 'I', 'came', 'and', 'saw', 'it', 'and', 'it', 'was', 'so', 'easy', 'It', 'did', 'nt', 'hurt', 'at', 'all', 'Georgia', 'got', 'her', 'NHSCOVIDVaccine', 'from', 'the', 'Find', 'your', 'nearest', 'walkin', 'site', 'ReadingFestival', '➡️'], ['While', 'some', 'community', 'pharmacy', 'services', 'will', 'be', 'open', 'this', 'bank', 'holiday', 'not', 'all', 'pharmacies', 'will', 'be', 'open', 'Find', 'an', 'open', 'pharmacy', 'near', 'you', '➡️'], ['It', 's', 'easier', 'than', 'ever', 'to', 'get', 'your', 'COVID', 'jab', 'Visit', 'to', 'find', 'a', 'walkin', 'site', 'near', 'you', '—', 'including', 'local', 'museums', 'festivals', 'stadiums', 'and', 'theatres', '🎪', '🎭', '⚽'], ['‘', 'If', 'you', '’', 've', 'had', 'your', 'jab', 'then', 'speak', 'to', 'your', 'friends', 'and', 'family', 'and', 'encourage', 'them', 'to', 'come', 'forward', 'too', '’', 'Since', 'rolling', 'out', 'our', 'GrabAJab', 'campaign', 'the', 'NHS', 'vaccination', 'programme', 'has', 'protected', 'more', 'than', 'people', 'from', 'ethnic', 'minority', 'backgrounds'], ['If', 'you', 'need', 'urgent', 'dental', 'treatment', 'this', 'bank', 'holiday', 'call', 'your', 'dentist', 'If', 'you', 'can', 'not', 'contact', 'your', 'dentist', 'or', 'you', 'do', 'nt', 'have', 'one', 'use', 'NHS', 'Online', 'HelpUsHelpYou'], ['If', 'you', '’', 're', 'years', 'old', 'you', '’', 're', 'eligible', 'for', 'the', 'NHSCOVIDVaccine', 'If', 'you', '’', 've', 'not', 'had', 'yours', 'yet', 'visit', 'to', 'find', 'your', 'nearest', 'walkin', 'centre'], ['💉Vaccinating', 'in', 'full', 'swing', 'we', 'are', 'here', 'till', 'tonight', 'and', 'all', 'weekend', '💙Amelia', 'just', 'got', 'her', 'jab', '…'], ['No', 'need', 'to', 'wait', 'GetVaccinated', 'and', 'if', 'you', 'have', 'some', 'spare', 'hours', 'why', 'not', 'volunteer', 'htt…'], ['Isabelle', 'is', 'looking', 'forward', 'to', 'holidays', 'and', 'seeing', 'her', 'friends', 'now', 'she', 's', 'had', 'her', 'CovidVaccine', 'What', 'do', 'you', 'want', 'to', 'get', 'bac…'], ['Meet', 'an', 'oral', 'amp', 'maxillofacial', 'trainee', 'surgeon', 'Today', 'he', 'll', 'be', 'sharing', 'with', 'us', 'what', 'it', 's', 'like', 'to', 'be', 'a…'], ['You', '’', 're', 'literally', 'keeping', 'one', 'more', 'person', 'on', 'earth', 'every', 'single', 'time', 'you', 'donate', '’', 'Layla', 'talks', 'about', 'her', 'daughter', 's', 'Sickle', 'Cell', 'diagnosis', 'and', 'the', 'need', 'for', 'more', 'ethnically', 'matched', 'donors', 'Sign', 'up', 'to', 'GiveBlood', 'and', 'save', 'lives', '❤️'], ['We', 've', 'been', 'chatting', 'with', 'festivalgoers', 'who', 'got', 'their', 'COVID', 'vaccine', 'at', 'ReadingFestival', 'Georgia', 'got', 'her', 'first', 'jab', 'yester…'], ['More', 'than', 'lives', 'have', 'been', 'saved', 'by', 'the', 'NHSCOVIDVaccine', 'programme', 'Thank', 'you', 'to', 'our', 'NHS', 'staff', 'and', 'volunteers', 'who', 'have', 'been', 'vaccinating', 'at', 'parks', 'festivals', 'places', 'of', 'worship', 'and', 'stadiums', 'This', 'bank', 'holiday', 'GrabAJab', 'at', 'your', 'local', 'walkin', 'site', '➡️'], ['The', 'COVID', 'vaccine', 'helps', 'us', 'keep', 'enjoying', 'the', 'things', 'we', 'love', 'Book', 'yours', 'now', 'at'], ['It', 's', 'been', 'an', 'incredibly', 'difficult', 'year', 'for', 'people', 'working', 'in', 'the', 'NHS', 'If', 'you', 're', 'finding', 'things', 'more', 'challenging', 'at', 'the', 'moment', 'and', 'would', 'like', 'to', 'speak', 'to', 'someone', '—', 'please', 'call', 'text', 'or', 'visit'], ['Our', 'staff', 'are', 'incredible', 'but', 'they', 'are', 'also', 'human', 'On', 'Ambulance', 'we', 'saw', 'Student', 'Paramedic', 'Jen', 'stay', 'calm', 'under', 'pressure', 'to', 'help', 'save', 'the', 'life', 'of', 'a', 'weekold', 'baby', 'Thank', 'you', 'Jen', 'for', 'being', 'so', 'calm', 'and', 'courageous', 'We', 'wish', 'you', 'all', 'the', 'best', 'for', 'your', 'future', 'career', 'in', 'the', 'NHS', '💚'], ['Just', 'in', 'awe', 'How', 'the', 'paramedic', 's', 'console', 'and', 'talk', 'to', 'the', 'person', 'that', 'lost', 'their', 'loved', 'on', 'on', 'scene', 'Truly', 'heartbreaking…'], ['The', 'hardworking', 'crews', 'of', 'NWAS', 'showing', 'their', 'kindness', 'determination', 'and', 'how', 'much', 'they', 'put', 'into', 'this', 'job', 'tonight', 'We', 'will', 'alwa…'], ['Fully', 'respect', 'all', 'the', 'call', 'handlers', 'in', 'ambulance'], ['Call', 'handers', 'from', 'are', 'supporting', 'London', 'Ambulance', 'Service', 'to', 'answer', 'calls', 'as', 'the', 'capital', 'declares', 'a', 'major', 'incident…'], ['Naomi', 'from', 'Ambulance', 'on', 'is', 'a', 'fantastic', 'ambassador', 'for', 'the', 'NHS', 'emergency', 'services', 'I', 'take', 'my', 'hat', 'off', 'to', 'people…'], ['If', 'we', 'get', 'anything', 'out', 'of', 'Covid', 'it', '’', 's', 'that', 'it', '’', 's', 'given', 'staff', 'and', 'myself', 'a', 'deeper', 'appreciation', 'for', 'what', 'our', 'job', 'is', 'Just', 'how', 'esse…'], ['💉', 'Don', '’', 't', 'forget', 'it', '’', 's', 'easier', 'than', 'ever', 'to', 'get', 'your', 'vaccine', 'year', 'olds', 'visit', 'to', 'find', 'a', 'walkin', 's…'], ['Ready', 'for', 'a', 'new', 'episode', 'of', 'Ambulance', 'TONIGHT', 'We', '’', 're', 'back', 'on', 'a', 'roller', 'coaster', 'of', 'emotions', 'helping', 'with', 'a', 'number', 'of', 'COVID', 'a…'], ['The', 'NHS', 'is', 'here', 'to', 'support', 'you', 'with', 'your', 'mental', 'health', 'and', 'wellbeing', '—', 'whether', 'it', '’', 's', 'accessing', 'urgent', 'mental', 'health', 'support', 'or', 'just', 'finding', 'out', 'what', 'help', 'is', 'available', 'Visit', 'the', 'NHS', 'Mental', 'Health', 'Hub'], ['People', 'aged', 'currently', 'have', 'the', 'highest', 'COVID', 'infection', 'rate', 'in', 'England', 'By', 'getting', 'both', 'jabs', 'of', 'the', 'NHSCOVIDVaccine', '—', 'you', 'can', 'greatly', 'reduce', 'the', 'chance', 'of', 'being', 'hospitalised', 'Find', 'out', 'more'], ['We', 're', 'showcasing', 'our', 'StaffBehindTheMask', 'Ruth', 'Williams', 'is', 'a', 'speech', 'and', 'language', 'therapist', 'I', 'support', 'adults', 'with', 'learning', 'd…'], ['⃣⃣', 'years', 'ago', 'Maria', 'Jeralyn', 'MontesPagcu', 'known', 'as', 'Jerri', '✈️over', 'miles', 'to', 'take', 'up', 'a', 'once', 'in', 'a', 'lifetime', 'opportunity…'], ['More', 'than', 'half', 'a', 'million', 'and', 'year', 'olds', 'in', 'England', 'have', 'now', 'had', 'their', 'COVID', 'jab', 'and', 'it', '’', 's', 'now', 'easier', 'than', 'ever', 'to', 'get', 'it', 'done', 'Visit', 'to', 'find', 'a', 'walkin', 'site', 'near', 'you', '—', 'including', 'local', 'museums', 'festivals', 'stadiums', 'and', 'theatres', '🎪', '🎭', '⚽'], ['I', 've', 'been', 'perfectly', 'fine', 'and', 'I', 'was', 'a', 'bit', 'hesitant', 'because', 'I', 'do', 'nt', 'like', 'the', 'thought', 'of', 'fainting', 'or', 'needles', 'Join', 'the', 'millions', 'that', 'are', 'protecting', 'themselves', 'against', 'COVID', 'Book', 'your', 'NHSCOVIDVaccine', 'appointment', '🎥', 'and'], ['Yesterday', 'I', 'had', 'the', 'pleasure', 'of', 'catching', 'up', 'with', 'our', 'talented', 'nurses', 'It', 'was', 'great', 'to', 'share', 'my', 'thanks', 'to', 'K…'], ['The', 'NHS', 'is', 'rolling', 'out', 'a', 'new', 'same', 'day', 'blood', 'test', 'to', 'rule', 'out', 'preeclampsia', 'a', 'lifethreatening', 'condition', 'for', 'both', 'expectant', 'mothers', 'and', 'their', 'babies', 'This', 'means', 'the', 'condition', 'can', 'be', 'ruled', 'out', 'much', 'faster', 'and', 'significantly', 'reduce', 'hospital', 'admissions'], ['It', 'has', 'given', 'me', 'ten', 'more', 'years', 'of', 'my', 'life', 'Bill', 'attended', 'a', 'lung', 'health', 'check', 'that', 'found', 'a', 'tumour', 'Luckily', 'catching', 'cancer', 'early', 'makes', 'it', 'more', 'treatable', 'and', 'Bill', 'is', 'now', 'cancer', 'free', 'If', 'you', 've', 'had', 'a', 'cough', 'for', 'three', 'weeks', 'or', 'more', 'contact', 'your', 'GP', 'Practice', 'HelpUsHelpYou'], ['Learn', 'more', 'about', 'how', 'this', 'worldfirst', 'blood', 'test', 'can', 'rule', 'out', 'preeclampsia', '—', 'removing', 'the', 'stress', 'that', 'comes', 'with', 'the', 'uncerta…'], ['Symptoms', 'of', 'a', 'heart', 'attack', 'can', 'include', 'heavy', 'or', 'tight', 'chest', 'pain', 'that', 'may', 'spread', 'to', 'your', 'arms', 'neck', 'or', 'jaw', 'or', 'make', 'you', 'breathless', 'sick', 'sweaty', 'or', 'lightheaded', 'If', 'you', 'experience', 'these', 'symptoms', 'call', 'The', 'NHS', 'is', 'still', 'here', 'to', 'see', 'you', 'safely', 'HelpUsHelpYou'], ['‘', 'It', '’', 's', 'been', 'fabulous', '—', 'I', '’', 've', 'not', 'been', 'in', 'and', 'out', 'of', 'hospital', '’', 'Rebecca', 'is', 'one', 'of', 'the', 'first', 'pregnant', 'women', 'who', 'benefitted', 'from', 'a', 'sameday', 'lifesaving', 'test', 'to', 'rule', 'out', 'a', 'potentially', 'fatal', 'disease', 'in', 'pregnant', 'women', 'which', 'is', 'being', 'rolled', 'out', 'across', 'the', 'NHS'], ['Looking', 'after', 'the', 'wellbeing', 'of', 'OurNHSPeople', 'means', 'they', 'can', 'better', 'look', 'after', 'patients', 'If', 'you', 're', 'finding', 'things', 'difficult', 'or', 'more', 'challenging', 'at', 'the', 'moment', 'and', 'would', 'like', 'to', 'speak', 'to', 'someone', '—', 'please', 'call', 'text', 'or', 'visit', '📞', '💬'], ['The', 'guilt', 'I', 'felt', 'at', 'passing', 'the', 'virus', 'onto', 'him', 'was', 'so', 'immense', 'But', 'now', 'some', 'of', 'that', 'burden', 'has', 'been', 'lifted', 'as', 'I', 'know', 'that', 'he', 'can', 'be', 'cured', 'thanks', 'to', 'the', 'NHS', 'Ashleigh', 'is', 'over', 'the', 'moon', 'that', 'her', 'son', 'James', 'will', 'get', 'the', 'Hepatitis', 'C', 'treatment', 'for', 'children'], ['Children', 'in', 'England', 'are', 'set', 'to', 'be', 'the', 'first', 'in', 'the', 'world', 'to', 'be', 'offered', 'a', 'cure', 'for', 'Hepatitis', 'C', 'The', 'worldfirst', 'treatment', 'will', 'help', 'the', 'NHS', 'in', 'achieving', 'its', 'goal', 'to', 'eliminate', 'Hepatitis', 'C', 'in', 'England', 'ahead', 'of', 'the', 'target', 'set', 'by', '➡️'], ['Everyone', 'over', 'the', 'age', 'of', 'in', 'England', 'will', 'be', 'able', 'to', 'have', 'their', 'blood', 'pressure', 'checked', 'for', 'free', 'in', 'High', 'Street', 'chemists', 'fro…'], ['The', 'NHS', 'has', 'today', 'announced', 'the', 'nationwide', 'rollout', 'of', 'blood', 'pressure', 'checks', 'in', 'high', 'street', 'pharmacies', 'a', 'move', 'that', 'could', 'potent…'], ['Just', 'being', 'involved', 'is', 'exciting', 'and', 'it', '’', 's', 'a', 'real', 'privilege', 'to', 'be', 'there', 'Senior', 'Nurse', 'Kim', 'from', 'is', 'also', 'leading', 'a', 'team', 'of', 'nurses', 'that', 'are', 'supporting', 'Great', 'Britain', 's', 'Paralympian', 'athletes', 'at', 'the', 'Paralympics', '👏', 'Good', 'luck', 'to', 'everyone', 'competing'], ['Why', 'is', 'it', 'important', 'for', 'immunocompromised', 'people', 'to', 'get', 'the', 'vaccination', 'Sonia', 'from', 'finds', 'out', 'more…'], ['The', 'NHS', 'is', 'rolling', 'out', 'high', 'street', 'heart', 'checks', 'to', 'help', 'save', 'thousands', 'of', 'lives', 'From', 'October', 'every', 'NHS', 'pharmacy', 'in', 'England', 'will', 'be', 'able', 'to', 'provide', 'lifesaving', 'blood', 'pressure', 'checks', 'to', 'people', 'aged', 'and', 'over', '❤️👏'], ['I', 'realised', 'how', 'much', 'I', 'enjoyed', 'caring', 'for', 'others', 'Chloe', 'started', 'volunteering', 'at', 'her', 'local', 'hospital', 'during', 'the', 'pandemic', 'and', 'is', 'now', 'a', 'healthcare', 'assistant', 'Thank', 'you', 'Chloe', 'and', 'welcome', 'to', 'the', 'NHS', '💙'], ['Nurses', 'and', 'patients', 'could', 'have', 'conversations', 'about', 'our', 'experiences', 'and', 'what', 'could', 'be', 'improved', 'and', 'I', 'felt', 'that', 'I', 'had', 'a…'], ['People', 'aged', 'currently', 'have', 'the', 'highest', 'COVID', 'infection', 'rate', 'in', 'England', 'But', 'by', 'getting', 'both', 'jabs', 'you', 'can', 'greatly', 'reduc…'], ['Great', 'to', 'see', 'so', 'many', 'people', 'from', 'the', 'younger', 'cohorts', 'coming', 'forward', 'for', 'their', 'CovidVaccine', 'at', 'the', 'weekend', 'Thank', 'you…'], ['If', 'you', '’', 've', 'had', 'COVID', 'you', 'may', 'still', 'be', 'experiencing', 'some', 'ongoing', 'physical', 'and', 'psychological', 'symptoms', 'that', 'you', '’', 're', 'struggling', 'to', 'recover', 'from', 'Your', 'COVID', 'recovery', 'provides', 'advice', 'to', 'support', 'your', 'health', 'and', 'wellbeing', 'as', 'you', 'recover'], ['The', 'QNI', 'is', 'joining', 'with', 'on', 'a', 'new', 'project', 'to', 'support', 'international', 'recruitment', 'of', 'Registered', 'Nurses', 'to', 'community', 'ser…'], ['The', 'COVID', 'vaccine', 'is', 'the', 'best', 'way', 'to', 'protect', 'yourself', 'against', 'new', 'variants', 'of', 'the', 'virus', 'If', 'you', 'haven', '’', 't', 'already', 'book', 'your', 'appointment', 'now'], ['If', 'you', 'need', 'support', 'to', 'look', 'after', 'your', 'mental', 'health', '—', 'please', 'use', 'the', 'staff', 'mental', 'health', 'and', 'wellbeing', 'hubs', 'The', 'NHS', 'has', 'set', 'up', 'hubs', 'to', 'provide', 'dedicated', 'support', 'for', 'our', 'staff', 'They', 'provide', 'rapid', 'access', 'to', 'local', 'evidencebased', 'services', 'and', 'support'], ['If', 'you', 'think', 'you', 'need', 'A', 'amp', 'E', 'whilst', 'on', 'your', 'holiday', 'in', 'England', 'use', 'NHS', 'first', 'NHS', 'can', 'book', 'you', 'into', 'a', 'A', 'amp', 'E', 'or', 'direct', 'you', 'to', 'an', 'alternative', 'service', 'if', 'it', '’', 's', 'more', 'appropriate', 'Help', 'us', 'ensure', 'you', 'get', 'the', 'right', 'care', 'in', 'the', 'right', 'place', 'at', 'the', 'right', 'time'], ['All', 'my', 'friends', 'have', 'had', 'two', 'already', 'I', 'm', 'the', 'last', 'one', 'to', 'get', 'the', 'second', 'Ellie', 'has', 'had', 'two', 'doses', 'of', 'the', 'NHSCOVIDVaccine', 'All', 'adults', 'can', 'get', 'their', 'second', 'dose', 'eight', 'weeks', 'after', 'the', 'first', 'Don', '’', 't', 'delay', 'yours', 'any', 'longer', '➡️', '🎥', 'and'], ['Immunoglobulins', 'saved', 'my', 'family', 'Plasma', 'is', 'the', 'reason', 'I', 'have', 'two', 'healthy', 'little', 'boys', 'Around', 'one', 'million', 'blood', 'donations', 'a', 'year', 'will', 'be', 'used', 'to', 'make', 'lifesaving', 'plasma', 'medicine', '👏', 'You', 'can', 'help', 'more', 'families', 'like', 'Kes', 'by', 'becoming', 'a', 'plasma', 'donor'], ['Discomfort', 'or', 'diarrhoea', 'for', 'three', 'weeks', 'or', 'more', 'or', 'blood', 'in', 'your', 'pee', '–', 'even', 'just', 'once', 'could', 'be', 'a', 'sign', 'of', 'cancer', 'It', '’', 's', 'probably', 'nothing', 'serious', 'but', 'finding', 'cancer', 'early', 'makes', 'it', 'more', 'treatable', 'Your', 'NHS', 'wants', 'to', 'see', 'you', 'Just', 'contact', 'your', 'GP', 'practice'], ['Kaftrio', 'is', 'the', 'latest', 'example', 'of', 'the', 'lifechanging', 'therapies', 'the', 'NHS', 'is', 'routinely', 'using', 'to', 'transform', 'the', 'lives', 'of', 'patient…'], ['If', 'you', '’', 're', 'feeling', 'unwell', 'whilst', 'on', 'holiday', 'in', 'England', 'and', 'need', 'advice', 'pop', 'into', 'a', 'pharmacy', 'Pharmacists', 'can', 'help', 'with', 'minor', 'health', 'concerns', 'like', 'tummy', 'troubles', 'aches', 'and', 'pains', 'and', 'many', 'more', 'They', 'can', 'also', 'refer', 'you', 'to', 'the', 'right', 'help', 'if', 'it', '’', 's', 'more', 'serious'], ['Cystic', 'Fibrosis', 'Short', 'Story', 'Born', 'Diagnosed', 'Prognosis', 'lt', 'now', 'and', 'fitter', 'than', 'ever', 'literally', 'Progress', 'under', '…'], ['‘', 'When', 'I', 'see', 'family', 'and', 'my', 'grandparents', 'it', '’', 'll', 'be', 'good', 'to', 'know', 'I', '’', 'm', 'safe', 'and', 'that', 'they', '’', 'll', 'be', 'safe', 'as', 'well', '’', 'Thank', 'you', 'Brad', 'and', 'Oscar', 'from', 'the', 'for', 'sharing', 'your', 'reasons', 'for', 'getting', 'the', 'COVID', 'vaccine'], ['O', 'N', 'E', 'Y', 'E', 'A', 'R', 'since', 'Kaftrio', 'was', 'licensed', 'In', 'a', 'year', 'that', 'has', 'been', 'tough', 'for', 'many', 'I', 'feel', 'lucky', 'that', 'I', '’', 've', 'been', 'abl…'], ['My', 'Kaftrio', 'journey', 'has', 'been', 'incredible', 'not', 'just', 'for', 'me', 'but', 'to', 'start', 'a', 'family', 'as', 'well', 'Laura', 'is', 'one', 'of', 'thousands', 'of', 'people', 'with', 'cystic', 'fibrosis', 'in', 'England', 'who', 'has', 'benefited', 'from', 'a', 'lifechanging', 'drug', '—', 'one', 'year', 'on', 'since', 'it', 'was', 'made', 'available', 'on', 'the', 'NHS'], ['When', 'you', 'need', 'the', 'NHS', '—', 'think', 'online', 'first', 'If', 'you', 'need', 'medical', 'help', 'but', 'it', 's', 'not', 'an', 'emergency', 'use', 'online', 'NHS', 'can', 'book', 'you', 'into', 'an', 'A', 'amp', 'E', 'or', 'direct', 'you', 'to', 'an', 'alternative', 'service', 'if', 'it', '’', 's', 'more', 'appropriate', 'HelpUsHelpYou'], ['‘', 'Working', 'for', 'the', 'NHS', 'I', 'really', 'feel', 'the', 'job', 'is', 'there', 'to', 'make', 'a', 'difference', 'It', '’', 's', 'there', 'to', 'help', 'people', 'and', 'it', '’', 's', 'something', 'that', 'we', 'all', 'probably', 'need', 'at', 'some', 'point', '’', 'Join', 'people', 'like', 'Paul', 'as', 'part', 'of', 'one', 'of', 'the', 'most', 'trusted', 'teams', 'in', 'the', 'country', 'Search', '‘', 'NHS', 'careers', '’', 'now', 'WeAreTheNHS'], ['From', 'today', 'plasma', 'will', 'be', 'recovered', 'from', 'blood', 'donations', 'to', 'make', 'lifesaving', 'immunoglobulins', 'So', 'your', 'blood', 'donations', 'will', 'save', 'even', 'more', 'lives', '👏', 'needs', 'more', 'plasma', 'donors', 'this', 'summer', 'If', 'you', 're', 'interested', '—', 'join', 'the', 'pool', 'of', 'plasma', 'donors'], ['‘', 'That', '’', 's', 'a', 'way', 'to', 'start', 'a', 'Monday', 'morning', '’', 'Shoutout', 'to', 'call', 'handler', 'Rachel', 'who', 'we', 'saw', 'supporting', 'a', 'family', 'through', 'an', 'unexpected', 'home', 'birth', 'on', 'last', 'night', '’', 's', 'episode', 'of', '’', 's', 'Ambulance', 'earning', 'herself', 'a', 'badge', '👏'], ['The', 'COVID', 'vaccine', 'helps', 'us', 'keep', 'enjoying', 'the', 'things', 'we', 'love', 'Book', 'yours', 'now', 'at'], ['Delighted', 'to', 'hear', 'the', 'call', 'involving', 'the', 'little', 'girl', 'saw', 'her', 'mum', 'recover', 'and', 'her', 'deservedly', 'rewarded', 'for', 'her', 'bravery', 'and', 'with…'], ['Another', 'episode', 'of', 'Ambulance', '😭', 'Massive', 'respect', 'for', 'the', 'whole', 'NHS', 'Ambulance', 'service', '👏👏'], ['Thank', 'you', 'Alex', 'for', 'bravely', 'sharing', 'your', 'personal', 'experience', 'of', 'working', 'on', 'the', 'frontline', 'in', 'tonight', '’', 's', 'Ambulance', 'Our', 'remarkable', 'colleagues', 'have', 'faced', 'challenging', 'times', 'and', 'it', '’', 's', 'important', 'to', 'seek', 'help', 'when', 'needed', 'If', 'you', '’', 're', 'struggling', 'please', 'come', 'forward'], ['The', 'calm', 'and', 'composure', 'of', 'the', 'call', 'handlers', 'is', 'amazing', '❤', 'Ambulance'], ['I', 'look', 'at', 'my', 'colleagues', 'in', 'the', 'ambulance', 'service', 'and', 'all', 'over', 'the', 'health', 'service', 'and', 'they', '’', 're', 'doing', 'the', 'most', 'amazing', 'job', 'in', 'the…'], ['If', 'you', 'need', 'medical', 'help', 'but', 'it', 's', 'not', 'an', 'emergency', 'use', 'online', 'NHS', 'can', 'book', 'you', 'into', 'an', 'A', 'amp', 'E', 'or', 'direct', 'you', 'to', 'an', 'alternative', 'service', 'if', 'it', '’', 's', 'more', 'appropriate', 'When', 'you', 'need', 'the', 'NHS', '—', 'think', 'online', 'first', 'HelpUsHelpYou'], ['Join', 'and', 'national', 'experts', 'for', 'a', 'masterclass', 'on', 'COVID', 'infection', 'in', 'pregnancy', '—', 'including', 'the', 'science', 'behind', 'the…'], ['‘', 'I', 'was', 'really', 'keen', 'to', 'get', 'vaccinated', 'as', 'it', '’', 's', 'the', 'right', 'thing', 'to', 'do', 'to', 'protect', 'me', 'and', 'others', 'around', 'me', 'Well', 'done', 'to', 'yearold', 'Xavier', 'who', 'felt', 'confident', 'in', 'getting', 'his', 'NHSCOVIDVaccine', 'recently'], ['Invitations', 'to', 'get', 'an', 'NHSCOVIDVaccine', 'are', 'being', 'sent', 'to', 'all', 'and', 'year', 'olds', 'from', 'today', 'Letters', 'will', 'be', 'sent', 'inviting', 'them', 'to', 'come', 'to', 'their', 'nearest', 'walkin', 'centre', '—', 'with', 'many', 'having', 'already', 'received', 'invitations', 'from', 'their', 'GP', 'and', 'taking', 'up', 'the', 'offer'], ['Allnew', 'Ambulance', 'TONIGHT', 'This', 'week', 's', 'episode', 'looks', 'back', 'to', 'the', 'second', 'wave', 'of', 'the', 'pandemic', 'as', 'it', 'continue…'], ['The', 'NHS', 'is', 'here', 'to', 'support', 'you', 'with', 'your', 'mental', 'health', 'and', 'wellbeing', '—', 'whether', 'it', '’', 's', 'accessing', 'urgent', 'mental', 'health', 'support', 'or', 'just', 'finding', 'out', 'what', 'help', 'is', 'available', 'Visit', 'the', 'NHS', 'Mental', 'Health', 'Hub'], ['This', 'has', 'made', 'it', 'so', 'much', 'easier', 'just', 'to', 'walk', 'in', '—', 'all', 'done', 'no', 'issues', 'Join', 'the', 'millions', 'like', 'Anthony', 'who', 'are', 'protecting', 'themselves', 'against', 'COVID', 'All', 'adults', 'are', 'eligible', 'for', 'the', 'NHSCOVIDVaccine', '🎥', 'and'], ['The', 'first', 'call', 'for', 'help', 'takes', 'courage', 'If', 'you', 'or', 'someone', 'you', 'know', 'is', 'a', 'veteran', 'who', 'may', 'be', 'struggling', 'this', 'week', '—', 'OpCOURAGE', 'is', 'here', 'to', 'help', 'Make', 'sure', 'you', 'get', 'the', 'right', 'care', 'and', 'support', 'that', 'you', 'need', '➡️'], ['The', 'news', 'can', 'feel', 'overwhelming', 'right', 'now', 'and', 'we', 'have', 'all', 'experienced', 'the', 'impact', 'of', 'COVID', 'differently', 'It', 's', 'important', 'to', 'look', 'after', 'ourselves', 'as', 'well', 'as', 'each', 'other', 'Find', 'simple', 'tips', 'and', 'advice', 'on', 'the', 'Every', 'Mind', 'Matters', 'COVID', 'hub', '🧠'], ['The', 'COVID', 'vaccine', 'is', 'the', 'best', 'way', 'to', 'protect', 'yourself', 'against', 'new', 'variants', 'of', 'the', 'virus', 'If', 'you', 'haven', '’', 't', 'already', 'book', 'your', 'appointment', 'now'], ['I', 'think', 'it', 'reminds', 'them', 'of', 'how', 'tough', 'times', 'were', 'and', 'how', 'proud', 'we', 'all', 'should', 'be', 'coming', 'through', 'it', 'Nurse', 'Petro', 'from', 'who', 'captured', 'her', 'colleagues', 'working', 'on', 'the', 'frontline', 'will', 'see', 'her', 'photos', 'in', 'a', 'new', 'exhibition', '—', 'BehindClosedDoors'], ['Thank', 'you', 'to', 'everyone', 'for', 'sending', 'such', 'kind', 'and', 'supportive', 'messages', 'over', 'the', 'past', 'few', 'weeks', 'as', 'I', 'started', 'as', 'C…'], ['If', 'you', 'or', 'your', 'loved', 'ones', 'have', 'had', 'COVID', 'and', 'are', 'experiencing', 'ongoing', 'symptoms', 'you', 'can', 'find', 'support', 'and', 'advice', 'to', 'help', 'you', 'on', 'your', 'road', 'to', 'recovery', 'at', 'home'], ['Thank', 'you', 'Brad', 'and', 'Oscar', 'from', 'for', 'protecting', 'yourselves', 'and', 'playing', 'your', 'part', 'in', 'beating', 'COVID', 'B…'], ['You', 'can', 'now', 'bring', 'your', 'appointment', 'for', 'the', 'second', 'dose', 'of', 'your', 'NHSCOVIDVaccine', 'forward', 'from', 'to', 'eight', 'weeks', 'since', 'your…'], ['Symptoms', 'of', 'a', 'heart', 'attack', 'can', 'include', 'heavy', 'or', 'tight', 'chest', 'pain', 'that', 'may', 'spread', 'to', 'your', 'arms', 'neck', 'or', 'jaw', 'or', 'make', 'you', 'breathless', 'sick', 'sweaty', 'or', 'lightheaded', 'If', 'you', 'experience', 'these', 'symptoms', 'call', 'The', 'NHS', 'is', 'still', 'here', 'to', 'see', 'you', 'safely', 'HelpUsHelpYou'], ['Let', 's', 'get', 'back', 'to', 'doing', 'the', 'things', 'we', 'love', 'If', 'you', 're', 'over', 'you', 'can', 'book', 'your', 'vaccine', 'now'], ['When', 'work', 'becomes', 'challenging', 'there', 'is', 'no', 'better', 'cure', 'than', 'to', 'roll', 'around', 'on', 'the', 'mats', 'Specialist', 'Critical', 'Care', 'Physiotherapist', 'Sam', 'from', 'is', 'also', 'a', 'Brazilian', 'Jiu', 'Jitsu', 'athlete', 'Read', 'how', 'she', 'balances', 'the', 'two', 'careers'], ['Discomfort', 'or', 'diarrhoea', 'for', 'three', 'weeks', 'or', 'more', 'or', 'blood', 'in', 'your', 'pee', '–', 'even', 'just', 'once', 'could', 'be', 'a', 'sign', 'of', 'cancer', 'It', '’', 's', 'probably', 'nothing', 'serious', 'but', 'finding', 'cancer', 'early', 'makes', 'it', 'more', 'treatable', 'Your', 'NHS', 'wants', 'to', 'see', 'you', 'Just', 'contact', 'your', 'GP', 'practice'], ['If', 'the', 'idea', 'of', 'getting', '‘', 'back', 'to', 'normal', '’', 'is', 'causing', 'worry', 'for', 'you', 'there', 'are', 'lots', 'of', 'ways', 'to', 'make', 'this', 'time', 'easier', 'Visit', 'the', 'Every', 'Mind', 'Matters', 'COVID', 'hub', 'for', 'simple', 'tips', 'and', 'advice', '🧠'], ['If', 'you', 'or', 'your', 'loved', 'ones', 'have', 'had', 'COVID', 'and', 'are', 'experiencing', 'ongoing', 'symptoms', 'you', 'can', 'find', 'support', 'and', 'advice', 'to', 'help', 'you', 'on', 'your', 'road', 'to', 'recovery', 'at', 'home'], ['If', 'you', 're', 'going', 'on', 'holiday', 'in', 'England', 'remember', 'to', 'pack', 'your', 'medicines', '🏖️', 'It', 's', 'also', 'a', 'good', 'idea', 'to', 'make', 'sure', 'you', '’', 've', 'got', 'the', 'contact', 'details', 'for', 'your', 'GP', 'practice', 'at', 'home', 'They', 'can', 'still', 'help', 'while', 'you', '’', 're', 'away'], ['It', 's', 'a', 'game', 'changer', 'Meet', 'baby', 'Edward', 'and', 'his', 'family', 'Edward', 'has', 'spinal', 'muscular', 'atrophy', 'and', 'recently', 'received', 'the', 'potentially', 'lifesaving', 'drug', 'Zolgensma', 'at', 'We', 'wish', 'you', 'all', 'the', 'best', 'baby', 'Edward', '💙', '🎥'], ['Looking', 'after', 'the', 'wellbeing', 'of', 'OurNHSPeople', 'means', 'they', 'can', 'better', 'look', 'after', 'patients', 'If', 'you', 're', 'finding', 'things', 'difficult', 'or', 'more', 'challenging', 'at', 'the', 'moment', 'and', 'would', 'like', 'to', 'speak', 'to', 'someone', '—', 'please', 'call', 'text', 'or', 'visit', '📞', '💬'], ['I', 've', 'always', 'had', 'an', 'issue', 'with', 'needles', 'Jen', 'really', 'helped', 'me', 'overcome', 'that', 'Shout', 'out', 'to', 'vaccinator', 'Jen', 'from', 'for', 'making', 'people', 'feel', 'calm', 'when', 'getting', 'their', 'NHSCOVIDVaccine', '👏', 'Thank', 'you', 'to', 'all', 'our', 'staff', 'and', 'volunteers', 'like', 'Jen', 'for', 'their', 'work', 'on', 'the', 'vaccine', 'rollout'], ['Research', 'shows', 'of', 'people', 'would', 'delay', 'seeking', 'medical', 'advice', 'compared', 'to', 'before', 'the', 'pandemic', 'National', 'Clinical', 'Director', 'for', 'Cancer', 'urges', 'anyone', 'worried', 'about', 'their', 'symptoms', 'to', 'come', 'forward', 'Your', 'NHS', 'is', 'here', 'to', 'see', 'you', 'safely', '🎥'], ['Finding', 'cancer', 'early', 'makes', 'it', 'more', 'treatable', 'and', 'can', 'save', 'lives', 'If', 'you', 're', 'experiencing', 'any', 'worrying', 'symptoms', '—', 'diarrhoea', 'or', 'tummy', 'discomfort', 'for', 'three', 'weeks', 'or', 'more', 'or', 'blood', 'in', 'pee', 'even', 'once', 'contact', 'your', 'GP', 'practice'], ['The', 'NHS', 'is', 'here', 'to', 'support', 'you', 'with', 'your', 'mental', 'health', 'and', 'wellbeing', '—', 'whether', 'it', '’', 's', 'accessing', 'urgent', 'mental', 'health', 'support', 'or', 'just', 'finding', 'out', 'what', 'help', 'is', 'available', 'Visit', 'the', 'NHS', 'Mental', 'Health', 'Hub'], ['‘', 'It', '’', 's', 'a', 'job', 'that', 'is', 'so', 'different', 'every', 'day', 'If', 'you', '’', 're', 'somebody', 'who', '’', 's', 'quite', 'hands', 'on', 'you', '’', 've', 'got', 'to', 'give', 'it', 'a', 'go', '’', 'Ripal', 'is', 'one', 'of', 'our', 'amazing', 'podiatrists', 'and', 'she', 'shares', 'why', 'a', 'job', 'in', 'the', 'NHS', 'is', 'like', 'no', 'other', 'Search', '‘', 'NHS', 'careers', '’', 'today', 'WeAreTheNHS'], ['Over', 'of', 'young', 'people', 'aged', 'to', 'in', 'England', 'have', 'had', 'their', 'first', 'dose', 'of', 'the', 'COVID', 'vaccine', '💉', 'If', 'you', 'have', 'nt', 'had', 'yours', 'yet', 'it', 's', 'not', 'too', 'late', 'Visit', 'to', 'get', 'started'], ['If', 'you', 'need', 'to', 'access', 'a', 'GP', 'Practice', 'whilst', 'you', 're', 'on', 'holiday', 'in', 'England', 'your', 'usual', 'GP', 'Practice', 'can', 'still', 'help', 'you', 'by', 'phone', 'video', 'or', 'online', 'consultation', 'They', '’', 'll', 'have', 'all', 'your', 'medical', 'records', 'to', 'hand', 'so', 'always', 'contact', 'them', 'first'], ['Let', 's', 'get', 'back', 'to', 'doing', 'the', 'things', 'we', 'love', 'If', 'you', 've', 'not', 'yet', 'had', 'your', 'COVIDVaccine', 'it', 's', 'not', 'too', 'late', 'Book', 'online', 'a…'], ['I', '’', 've', 'been', 'a', 'vaccination', 'care', 'volunteer', 'with', '—', 'which', 'is', 'exciting', 'as', 'we', 'get', 'to', 'make', 'a', 'difference', 'yearold', 'Faleeha', 'is', 'an', 'NHS', 'Cadets', 'graduate', 'and', 'wants', 'to', 'pursue', 'a', 'career', 'in', 'the', 'NHS', 'Feleeha', 'we', 'wish', 'you', 'the', 'best', 'for', 'your', 'future'], ['of', 'all', 'adults', 'in', 'England', 'have', 'had', 'both', 'doses', 'of', 'the', 'NHSCOVIDVaccine', '💉💉', 'Join', 'Dr', 'Stanley', 'Stephanie', 'and', 'Rosita', 'who', 'have', 'all', 'protected', 'themselves', 'against', 'COVID', 'All', 'adults', 'can', 'get', 'their', 'second', 'dose', 'eight', 'weeks', 'after', 'the', 'first'], ['Set', 'your', 'alarms', 'The', 'new', 'series', 'of', 'Ambulance', 'starts', 'tonight', 'on', 'featuring', 'staff', 'from', 'Merseyside', 'in', 'action…'], ['Many', 'young', 'people', 'will', 'have', 'received', 'their', 'results', 'this', 'morning', 'Congratulations', 'if', 'you', 'got', 'the', 'results', 'you…'], ['“', 'I', '’', 'll', 'be', 'honest', 'I', 'didn', '’', 't', 'think', 'I', '’', 'd', 'make', 'it', 'to', 'the', 'age', 'of', '”', 'Ask', 'Daniel', 'why', 'we', 'have', 'changed', 'his', 'life', 'forever', 'On…'], ['If', 'your', 'teeth', 'and', 'gums', 'are', 'healthy', 'your', 'checkup', 'may', 'not', 'be', 'needed', 'for', 'up', 'to', 'months', 'If', 'you', 'think', 'you', 'need', 'dental', 'treatment', 'contact', 'your', 'dental', 'practice', 'by', 'phone', 'or', 'email', 'for', 'advice', 'Dentists', 'are', 'seeing', 'patients', 'in', 'order', 'of', 'priority', 'HelpUsHelpYou'], ['From', 'skyline', 'to', 'frontline', '✈️💙', 'Thank', 'you', 'to', 'all', 'the', 'cabin', 'crew', 'staff', 'that', 'supported', 'the', 'NHS', 'while', 'travel', 'was', 'restricted', 'Before', 'they', 'returned', 'to', 'flying', 'cabin', 'crew', 'members', 'who', 'worked', 'at', 'shared', 'their', 'thoughts', 'on', 'working', 'in', 'the', 'NHS'], ['running', 'a', 'series', 'of', 'webinars', 'focusing', 'on', 'the', 'key', 'priorities', 'for', 'improving', 'health', 'inequalities', '✅Restoring', 'N…'], ['If', 'you', '’', 're', 'aged', 'and', 'are', 'turning', 'within', 'the', 'next', 'three', 'months', 'you', 'can', 'now', 'book', 'your', 'COVID', 'vaccine', 'online', 'without', 'needing', 'to', 'go', 'via', 'your', 'GP', 'Visit', 'to', 'get', 'started'], ['If', 'you', 'need', 'medical', 'help', 'but', 'it', 's', 'not', 'an', 'emergency', 'use', 'online', 'NHS', 'can', 'book', 'you', 'into', 'an', 'A', 'amp', 'E', 'or', 'direct', 'you', 'to', 'an', 'alternative', 'service', 'if', 'it', '’', 's', 'more', 'appropriate', 'When', 'you', 'need', 'the', 'NHS', '—', 'think', 'online', 'first', 'HelpUsHelpYou'], ['If', 'you', '’', 're', 'feeling', 'unwell', 'whilst', 'on', 'holiday', 'in', 'England', 'and', 'need', 'advice', 'pop', 'into', 'a', 'pharmacy', 'Pharmacists', 'can', 'help', 'with', 'minor', 'health', 'concerns', 'like', 'tummy', 'troubles', 'aches', 'and', 'pains', 'and', 'many', 'more', 'They', 'can', 'also', 'refer', 'you', 'to', 'the', 'right', 'help', 'if', 'it', '’', 's', 'more', 'serious'], ['Lockdown', 'restrictions', 'may', 'have', 'eased', 'but', 'if', 'you', '’', 're', 'continuing', 'to', 'work', 'from', 'home', 'there', 'are', 'many', 'ways', 'to', 'make', 'it', 'a', 'little', 'easier', 'Visit', 'the', 'Every', 'Mind', 'Matters', 'COVID', 'hub', 'for', 'simple', 'tips', 'and', 'advice'], ['The', 'COVID', 'vaccine', 'is', 'the', 'best', 'way', 'to', 'protect', 'yourself', 'against', 'new', 'variants', 'of', 'the', 'virus', 'If', 'you', 'have', 'nt', 'already', 'book', 'your', 'ap…'], ['Volunteering', 'was', 'rewarding', 'and', 'gave', 'me', 'a', 'great', 'introduction', 'to', 'how', 'pathology', 'works', 'in', 'the', 'NHS', 'When', 'the', 'right', 'job', 'came', 'up', 'I', 'immediately', 'applied', 'and', 'was', 'lucky', 'enough', 'to', 'get', 'the', 'post', 'Welcome', 'to', 'the', 'NHS', 'Claudia', '💙', 'Find', 'out', 'how', 'you', 'can', 'get', 'involved', '➡️'], ['The', 'COVIDVaccine', 'has', 'the', 'same', 'expected', 'high', 'standards', 'of', 'safety', 'quality', 'and', 'efficacy', 'as', 'other', 'medicines', 'and', 'vaccines', 'For', 'more', 'information', 'about', 'the', 'COVID', 'vaccine', '—', 'visit'], ['If', 'you', 'need', 'support', 'to', 'look', 'after', 'your', 'mental', 'health', '—', 'please', 'use', 'the', 'staff', 'mental', 'health', 'and', 'wellbeing', 'hubs', 'The', 'NHS', 'has', 'set', 'up', 'hubs', 'to', 'provide', 'dedicated', 'support', 'for', 'our', 'staff', 'They', 'provide', 'rapid', 'access', 'to', 'local', 'evidencebased', 'services', 'and', 'support'], ['📣', 'Three', 'in', 'four', 'UK', 'adults', 'have', 'now', 'had', 'both', 'doses', 'of', 'vaccine', 'Getting', 'your', 'second', 'dose', 'is', 'the', 'best', 'way', 'to', 'ensure', 'y…'], ['If', 'you', 'think', 'you', 'need', 'A', 'amp', 'E', 'whilst', 'on', 'your', 'holiday', 'in', 'England', 'use', 'NHS', 'first', 'NHS', 'can', 'book', 'you', 'into', 'a', 'A', 'amp', 'E', 'or', 'direct', 'you', 'to', 'an', 'alternative', 'service', 'if', 'it', '’', 's', 'more', 'appropriate', 'Help', 'us', 'ensure', 'you', 'get', 'the', 'right', 'care', 'in', 'the', 'right', 'place', 'at', 'the', 'right', 'time'], ['Good', 'luck', 'to', 'everyone', 'getting', 'their', 'ALevelResults', 'today', 'If', 'you', '’', 're', 'looking', 'for', 'a', 'rewarding', 'career', 'that', 'allows', 'you', 'to', 'make…'], ['Congratulations', 'to', 'Halima', 'She', 'achieved', 'the', 'highest', 'grade', 'a', 'Triple', 'Distinction', 'in', 'Health', 'and', 'Social', 'Care', 'and', 'is', 'going', 't…'], ['Another', 'top', 'achiever', 'was', 'Harry', 'Preston', 'who', 'achieved', 'A', 'grades', 'in', 'Biology', 'Chemistry', 'and', 'Maths', 'and', 'is', 'one', 'step', 'closer', 'to', 'ach…'], ['I', 'am', 'VERY', 'proud', 'to', 'be', 'a', 'nurse', 'and', 'today', 'I', 'am', 'bursting', 'with', 'pride', 'that', 'my', 'daughter', 'Hannah', 'was', 'successful', 'in', 'getting', 'her', 'A', 'le…'], ['I', 'didn', '’', 't', 'get', 'the', 'grades', 'needed', 'to', 'study', 'Nursing', 'when', 'I', 'did', 'my', 'A', 'levels', 'went', 'back', 'to', 'education', 'and', 'went', 'to', 'uni', 'later', 'than…'], ['Got', 'into', 'kings', 'college', 'can', '’', 't', 'wait', 'to', 'be', 'your', 'fav', 'midwife', '😩😩😩😩', 'hard', 'work', 'pays', 'off', 'ALevelResults', 'resultsday'], ['This', 'ALevelResults', 'day', 'Mental', 'Health', 'Nurse', 'Rebecca', 'will', 'be', 'answering', 'all', 'your', 'questions', 'about', 'her', 'career', 'journey', 'on', 'our', 'Instagram', 'stories', 'If', 'you', '’', 're', 'looking', 'for', 'a', 'rewarding', 'career', 'that', 'allows', 'you', 'to', 'change', 'lives', 'a', 'nursing', 'degree', 'could', 'be', 'perfect', 'for', 'you', 'WeAreTheNHS'], ['Good', 'luck', 'to', 'everyone', 'getting', 'their', 'ALevelResults', 'today', 'Over', 'my', 'career', 'I', 'have', 'been', 'privileged', 'to', 'work', 'with', 'so', 'many', 'ta…'], ['Best', 'of', 'luck', 'to', 'everyone', 'getting', 'their', 'ALevelResults', 'today', '💙', 'There', 'are', 'over', 'NHSrelated', 'university', 'courses', 'you', 'could', 'take', 'leading', 'you', 'to', 'one', 'of', 'rewarding', 'careers', 'in', 'the', 'NHS', 'Search', 'NHS', 'careers', 'to', 'find', 'out', 'more', 'WeAreTheNHS'], ['It', 'felt', 'like', 'a', 'friendship', 'milestone', 'and', 'a', 'privilege', 'to', 'go', 'get', 'vaccinated', 'together', 'Friends', 'Stephanie', 'and', 'Rosita', 'have', 'had', 'both', 'doses', 'of', 'the', 'NHSCOVIDVaccine', 'All', 'adults', 'can', 'get', 'their', 'second', 'dose', 'of', 'the', 'vaccine', 'eight', 'weeks', 'after', 'the', 'first'], ['NHS', 'Blood', 'and', 'Transplant', 'needs', 'more', 'plasma', 'donors', 'this', 'summer', 'If', 'you', 're', 'interested', '—', 'join', 'the', 'pool', 'of', 'plasma', 'donors', 'and', 'start', 'saving', 'lives', '➡️'], ['Congrats', 'Blackburn', 'Rovers', 'for', 'beating', 'Swansea', 'this', 'weekend', 'in', 'your', 'opening', 'game', 'of', 'the', 'Championship', 'and', 'also', 'bols…'], ['Feeling', 'low', 'anxious', 'or', 'struggling', 'to', 'sleep', 'Continue', 'making', 'time', 'for', 'your', 'mental', 'wellbeing', 'Visit', 'Every', 'Mind', 'Matters', 'to', 'get', 'a', 'free', 'personalised', 'mental', 'health', 'action', 'plan', 'with', 'simple', 'tips', 'to', 'get', 'you', 'started'], ['If', 'you', '’', 've', 'been', 'suffering', 'from', 'diarrhoea', 'bloating', 'or', 'discomfort', 'for', 'three', 'weeks', 'or', 'more', 'it', 'could', 'be', 'a', 'sign', 'of', 'cancer', 'Please', 'speak', 'to', 'your', 'GP', 'Finding', 'cancer', 'early', 'makes', 'it', 'more', 'treatable', 'HelpUsHelpYou'], ['If', 'you', 'need', 'to', 'access', 'a', 'GP', 'Practice', 'whilst', 'you', 're', 'on', 'holiday', 'in', 'England', 'your', 'usual', 'GP', 'Practice', 'can', 'still', 'help', 'you', 'by', 'phone', 'video', 'or', 'online', 'consultation', 'They', '’', 'll', 'have', 'all', 'your', 'medical', 'records', 'to', 'hand', 'so', 'always', 'contact', 'them', 'first'], ['Plasma', 'donation', 'is', 'the', 'reason', 'I', 'have', 'two', 'healthy', 'little', 'boys', 'that', 'keep', 'me', 'on', 'my', 'toes', 'They', 'gave', 'the', 'gift', 'of', 'life', 'for', 'my', 'youngest', 'and', 'saved', 'the', 'life', 'of', 'my', 'eldest', 'Trevor', 's', 'mum', 'Kes', 'knows', 'the', 'value', 'of', 'blood', 'plasma', 'Donate', 'today', 'SaveLives'], ['‘', 'It', '’', 's', 'a', 'job', 'that', 'is', 'so', 'different', 'every', 'day', 'If', 'you', '’', 're', 'somebody', 'who', '’', 's', 'quite', 'hands', 'on', 'you', '’', 've', 'got', 'to', 'give', 'it', 'a', 'go', '’', 'Ripal', 'is', 'one', 'of', 'our', 'amazing', 'podiatrists', 'and', 'she', 'shares', 'why', 'a', 'job', 'in', 'the', 'NHS', 'is', 'like', 'no', 'other', 'Search', '‘', 'NHS', 'careers', '’', 'today', 'WeAreTheNHS'], ['Recovery', 'from', 'COVID', 'can', 'take', 'time', 'You', 'may', 'be', 'experiencing', 'symptoms', 'that', 'are', 'not', 'going', 'away', 'Your', 'COVID', 'Recovery', 'has', 'information', 'from', 'rehabilitation', 'experts', 'and', 'patients', 'on', 'mental', 'health', 'and', 'wellbeing', 'to', 'physical', 'health', 'and', 'returning', 'to', 'work'], ['“', 'You', 'represent', 'some', 'of', 'the', 'best', 'in', 'our', 'societies', 'and', 'our', 'communities', 'and', 'I', 'want', 'to', 'see', 'you', 'strive', 'and', 'flourish', '”', '…'], ['Getting', 'the', 'COVID', 'vaccine', 'gives', 'me', 'hope', 'All', 'adults', 'are', 'now', 'eligible', 'for', 'the', 'NHSCOVIDVaccine', 'If', 'you', 'have', 'epilepsy', 'like', 'Cece', 'being', 'fully', 'vaccinated', 'provides', 'maximum', 'protection', 'against', 'COVID', 'It', 's', 'important', 'to', 'attend', 'both', 'appointments'], ['When', 'you', 'need', 'the', 'NHS', '—', 'think', 'online', 'first', 'If', 'you', 'need', 'medical', 'help', 'but', 'it', 's', 'not', 'an', 'emergency', 'use', 'online', 'NHS', 'can', 'book', 'you', 'into', 'an', 'A', 'amp', 'E', 'or', 'direct', 'you', 'to', 'an', 'alternative', 'service', 'if', 'it', '’', 's', 'more', 'appropriate', 'HelpUsHelpYou'], ['Congratulations', 'to', 'the', 'NHS', 'Cadets', 'on', 'their', 'graduation', 'today', '🎉', 'The', 'NHSCadets', 'is', 'run', 'with', 'and', 'supports', 'teenagers', 'to', 'develop', 'skills', 'needed', 'for', 'a', 'career', 'in', 'healthcare', 'Over', 'the', 'past', 'year', 'they', 've', 'undergone', 'first', 'aid', 'training', 'and', 'volunteered', 'at', 'vaccination', 'sites'], ['If', 'you', 're', 'going', 'on', 'holiday', 'in', 'England', 'remember', 'to', 'pack', 'your', 'medicines', '🏖️', 'It', 's', 'also', 'a', 'good', 'idea', 'to', 'make', 'sure', 'you', '’', 've', 'got', 'the', 'contact', 'details', 'for', 'your', 'GP', 'practice', 'at', 'home', 'They', 'can', 'still', 'help', 'while', 'you', '’', 're', 'away'], ['Over', 'a', 'million', 'children', 'and', 'young', 'people', 'can', 'get', 'an', 'NHSCOVIDVaccine', 'in', 'the', 'latest', 'stage', 'of', 'the', 'NHS', 'vaccination', 'programme', 'and', 'yearolds', 'the', 'country', '’', 's', 'most', 'vulnerable', 'children', 'and', 'those', 'who', 'live', 'with', 'vulnerable', 'adults', 'will', 'be', 'eligible', '➡️'], ['“', 'Clinically', 'vulnerable', 'people', 'are', 'TIMES', 'more', 'likely', 'to', 'become', 'seriously', 'ill', 'from', 'than', 'their', 'peers', '”', 'If', 'you', 'are', 'clini…'], ['Breastfeeding', 'can', 'bring', 'many', 'benefits', 'to', 'you', 'and', 'your', 'baby', 'This', 'World', 'Breastfeeding', 'Week', 'find', 'out', 'whether', 'this', 'is', 'a', 'choice', 'for', 'you', 'Find', 'more', 'information', 'and', 'support', '➡️'], ['From', 'September', 'people', 'will', 'be', 'required', 'to', 'have', 'had', 'two', 'doses', 'of', 'a', 'COVID', 'vaccine', 'to', 'enter', 'nightclubs', 'and', 'other', 'large', 'scale', 'ev…'], ['‘', 'Bryson', 'has', 'been', 'a', 'ray', 'of', 'sunshine', 'since', 'I', 'started', 'working', 'with', 'him', 'so', 'seeing', 'him', 'walk', 'to', 'school', 'is', 'a', 'memory', 'I', '’', 'll', 'cherish', 'forever', 'Shout', 'out', 'to', 'Physiotherapist', 'Lorna', 'from', 'She', 'recently', 'supported', 'Bryson', 'who', 'has', 'cerebral', 'palsy', 'to', 'walk', 'to', 'school', 'unassisted', '💪'], ['It', '’', 's', 'over', 'in', 'five', 'seconds', '’', 'Harry', 'overcame', 'his', 'fear', 'of', 'needles', 'and', 'had', 'his', 'NHSCOVIDVaccine', 'Our', 'staff', 'are', 'experienced', 'and', 'can', 'help', 'you', 'feel', 'comfortable', 'when', 'getting', 'your', 'vaccine', '🎥'], ['Plasma', 'donation', 'is', 'more', 'important', 'than', 'anything', '—', 'without', 'it', 'we', 'would', 'not', 'have', 'our', 'little', 'boy', 'Harley', 'has', 'acute', 'lymphoblastic', 'leukaemia', 'He', 'relies', 'on', 'plasma', 'to', 'create', 'new', 'antibodies', 'need', 'new', 'donors', 'to', 'save', 'more', 'lives', 'Donate', 'now'], ['Getting', 'the', 'COVID', 'vaccine', 'gives', 'me', 'hope', 'All', 'adults', 'are', 'now', 'eligible', 'for', 'the', 'NHSCOVIDVaccine', 'If', 'you', 'have', 'a', 'kidney', 'disease', 'like', 'Maddy', 'being', 'fully', 'vaccinated', 'provides', 'maximum', 'protection', 'against', 'COVID', 'It', 's', 'important', 'to', 'attend', 'both', 'appointments'], ['‘', 'Cycle', 'to', 'work', '’', 'has', 'a', 'whole', 'different', 'meaning', 'for', 'the', 'incredible', 'paramedics', 'at', 'who', 'are', 'highly', 'skilled', 'at', 'cycling', 'to', 'emergencies', 'all', 'across', 'London', 'whilst', 'working', 'under', 'significant', 'pressures', 'come', 'rain', 'or', 'shine', 'Keep', 'up', 'the', 'great', 'work', 'team', '🚴💙', 'CycleToWorkDay'], ['Join', 'experts', 'Dr', 'and', 'Consultant', 'Respiratory', 'Physician', 'Dr', 'Binita', 'Kane', 'on', 'Saturday', 'as', 'they', 'discuss', 'the', 'impact', 'of', 'COVID', 'on', 'ethnic', 'minority', 'communities', 'including', 'those', 'who', 'are', 'of', 'South', 'Asian', 'origin', 'for', 'Register', 'your', 'place', '➡️'], ['On', 'her', 'first', 'visit', 'as', 'Chief', 'Executive', 'met', 'with', 'our', 'incredible', 'team', 'at', 'Woodhatch', 'Place', 'reiga…'], ['NHS', 'Chief', 'Executive', 'has', 'urged', 'young', 'people', 'to', 'get', 'the', 'NHSCOVIDVaccine', 'as', 'figures', 'reveal', 'that', 'those', 'aged', 'now', 'make', 'up', 'more', 'than', 'one', 'in', 'five', 'of', 'those', 'admitted', 'to', 'hospital', 'with', 'the', 'virus', 'If', 'you', 'have', 'nt', 'yet', '—', 'book', 'yours', 'today', '💉'], ['It', 's', 'Pfizer', 'on', 'the', 'dancefloor', 'this', 'weekend', 'at', 'Heaven', 'nightclub', '💃💉', 'Join', 'the', 'team', 'at', 'GAY', 'on', 'Sunday', 'August', 'from', '…'], ['Symptoms', 'of', 'a', 'heart', 'attack', 'can', 'include', 'heavy', 'or', 'tight', 'chest', 'pain', 'that', 'may', 'spread', 'to', 'your', 'arms', 'neck', 'or', 'jaw', 'or', 'make', 'you', 'breathless', 'sick', 'sweaty', 'or', 'lightheaded', 'If', 'you', 'experience', 'these', 'symptoms', 'call', 'The', 'NHS', 'is', 'still', 'here', 'to', 'see', 'you', 'safely', 'HelpUsHelpYou'], ['We', 'are', 'still', 'safely', 'seeing', 'pregnant', 'women', 'every', 'day', 'Please', 'attend', 'your', 'checkups', 'and', 'speak', 'to', 'your', 'midwife', 'about', 'any', 'concerns', 'Your', 'NHS', 'is', 'here', 'to', 'see', 'you', 'safely', 'HelpUsHelpYou'], ['You', 'might', 'be', 'finding', 'things', 'tough', 'this', 'year', 'but', 'there', 'are', 'lots', 'of', 'things', 'that', 'we', 'can', 'do', 'to', 'feel', 'better', 'Visit', 'the', 'Every', 'Mind', 'Matters', 'COVID', 'hub', 'for', 'simple', 'tips'], ['‘', 'The', 'feeling', 'of', 'gratitude', 'and', 'excitement', 'as', 'I', 'got', 'my', 'second', 'jab', 'was', 'something', 'I', 'won', '’', 't', 'forget', 'any', 'time', 'soon', '’', 'Join', 'Omid', 'and', 'the', 'millions', 'of', 'others', 'who', 'have', 'had', 'the', 'NHSCovidVaccine', '—', 'search', 'NHS', 'COVID', 'vaccine', 'to', 'book', 'your', 'appointment'], ['‘', 'The', 'role', 'of', 'a', 'radiographer', 'is', 'really', 'significant', 'We', '’', 'll', 'often', 'be', 'one', 'of', 'the', 'key', 'people', 'involved', 'at', 'the', 'start', 'to', 'help', 'diagnose', 'what', 'is', 'wrong', '’', 'Diagnostic', 'Radiographer', 'Rupert', 'shares', 'how', 'meeting', 'radiographers', 'as', 'a', 'patient', 'inspired', 'him', 'to', 'become', 'one', 'himself', 'WeAreTheNHS'], ['If', 'you', 'need', 'support', 'to', 'look', 'after', 'your', 'mental', 'health', '—', 'please', 'use', 'the', 'staff', 'mental', 'health', 'and', 'wellbeing', 'hubs', 'The', 'NHS', 'has', 'set', 'up', 'hubs', 'to', 'provide', 'dedicated', 'support', 'for', 'our', 'staff', 'They', 'provide', 'rapid', 'access', 'to', 'local', 'evidencebased', 'services', 'and', 'support'], ['As', 'someone', 'who', 'has', 'COVID', 'and', 'treated', 'hundreds', 'of', 'positive', 'patients', 'the', 'seriousness', 'of', 'this', 'virus', 'to', 'all', 'age', 'groups', 'can', 'not', 'be', 'underestimated', 'Junior', 'Doctor', 'knows', 'the', 'effect', 'COVID', 'can', 'have', 'The', 'vaccine', 'is', 'your', 'best', 'protection', 'against', 'it'], ['NHS', 'Blood', 'and', 'Transplant', 'needs', 'more', 'plasma', 'donors', 'this', 'summer', 'If', 'you', 're', 'interested', '—', 'join', 'the', 'pool', 'of', 'plasma', 'donors', 'and', 'start', 'saving', 'lives', '➡️'], ['As', 'the', 'new', 'NHS', 'Chief', 'Executive', 'I', '’', 'd', 'like', 'to', 'thank', 'staff', 'for', 'everything', 'you', 'have', 'done', 'throughout', 'the', 'COVID', 'pandemic', 'I', '’', '…'], ['Let', 's', 'get', 'back', 'to', 'doing', 'the', 'things', 'we', 'love', 'If', 'you', 're', 'over', 'you', 'can', 'book', 'your', 'vaccine', 'now'], ['💙'], ['It', 's', 'World', 'Breastfeeding', 'Week', 'It', '’', 's', 'normal', 'to', 'need', 'help', 'with', 'breastfeeding', 'Find', 'support', 'and', 'answers', 'to', 'your', 'frequ…'], ['‘', 'I', 'felt', 'extremely', 'nervous', 'about', 'having', 'the', 'jab', '’', 'If', 'you', 'have', 'a', 'fear', 'of', 'needles', 'like', 'Khadijah', 'our', 'staff', 'are', 'there', 'to', 'help', 'you', 'feel', 'comfortable', 'when', 'getting', 'your', 'NHSCOVIDVaccine', 'Let', 'them', 'know', 'if', 'you', '’', 're', 'anxious', 'or', 'have', 'any', 'concerns', 'when', 'you', 'attend', 'your', 'appointment', '🎥'], ['Every', 'patient', 'who', 'needs', 'kidney', 'dialysis', 'will', 'benefit', 'from', 'free', 'transport', 'to', 'and', 'from', 'vital', 'hospital', 'appointments', 'New', 'rules', 'will', 'make', 'it', 'simpler', 'for', 'other', 'patients', 'to', 'get', 'free', 'transport', 'including', 'those', 'with', 'long', 'term', 'conditions', 'and', 'mobility', 'problems'], ['Remember', 'FAST', 'for', 'the', 'signs', 'of', 'a', 'stroke', 'Face', '–', 'has', 'their', 'face', 'fallen', 'on', 'one', 'side', 'Arms', '–', 'can', 'they', 'raise', 'both', 'arms', 'and', 'keep', 'them', 'there', 'Speech', '–', 'is', 'it', 'slurred', 'Time', '–', 'it', '’', 's', 'time', 'to', 'call', 'When', 'stroke', 'strikes', 'remember', 'to', 'ActFast'], ['‘', 'For', 'me', 'being', 'part', 'of', 'the', 'NHS', 'affords', 'me', 'that', 'opportunity', 'to', 'learn', 'a', 'lot', 'from', 'the', 'people', 'I', 'look', 'after', '’', 'There', 'are', 'over', 'rewarding', 'careers', 'in', 'the', 'NHS', '—', 'search', '‘', 'NHS', 'careers', '’', 'to', 'find', 'out', 'which', 'one', 'could', 'be', 'for', 'you', 'WeAreTheNHS'], ['Thanks', 'Gill', 'for', 'putting', 'the', 'advice', 'on', 'Twitter', 'not', 'acceptable', 'to', 'receive', 'such', 'abuse', 'teamCNO', 'appreciates', 'your', 'support', 'r'], ['Since', 'the', 'pandemic', 'began', 'we', 'have', 'worked', 'hard', 'to', 'get', 'the', 'best', 'advice', 'and', 'support', 'to', 'our', 'members', 'and', 'to', 'pregnant', 'women', 'Yes…'], ['If', 'you', '’', 've', 'had', 'COVID', 'you', 'may', 'still', 'be', 'experiencing', 'some', 'ongoing', 'physical', 'and', 'psychological', 'symptoms', 'that', 'you', '’', 're', 'struggling', 'to', 'recover', 'from', 'Your', 'COVID', 'recovery', 'provides', 'advice', 'to', 'support', 'your', 'health', 'and', 'wellbeing', 'as', 'you', 'recover'], ['He', 'had', 'no', 'symptoms', 'other', 'than', 'a', 'cough', 'which', 'we', 'put', 'down', 'to', 'smoking', 'Danny', 'attended', 'a', 'lung', 'health', 'check', 'where', 'a', 'large', 'growth', 'was', 'found', 'After', 'a', 'successful', 'operation', 'he', 'is', 'cancer', 'free', 'If', 'you', 've', 'had', 'a', 'cough', 'for', 'three', 'weeks', 'or', 'more', 'contact', 'your', 'GP', 'Practice', 'LungCancerDay'], ['If', 'you', 'need', 'medical', 'help', 'but', 'it', 's', 'not', 'an', 'emergency', 'contact', 'first', 'and', 'they', 'will', 'be', 'able', 'to', 'advise', 'on', 'the', 'service', 'you', 'need', 'or', 'book', 'you', 'into', 'A', 'amp', 'E', 'HelpUsHelpYou'], ['Feeling', 'low', 'anxious', 'or', 'struggling', 'to', 'sleep', 'Continue', 'making', 'time', 'for', 'your', 'mental', 'wellbeing', 'Visit', 'Every', 'Mind', 'Matters', 'to', 'get', 'a', 'free', 'personalised', 'mental', 'health', 'action', 'plan', 'with', 'simple', 'tips', 'to', 'get', 'you', 'started'], ['We', 'do', 'everything', 'we', 'can', 'to', 'bring', 'hepatitis', 'C', 'testing', 'and', 'treatment', 'to', 'our', 'patients', 'Thanks', 'to', 'nurses', 'like', 'Jane', 'and', 'Sophie', 'for', 'their', 'work', 'in', 'the', 'community', 'and', 'for', 'the', 'direct', 'impact', 'they', '’', 're', 'having', 'to', 'help', 'to', 'eliminate', 'hepatitis', 'C', 'in', 'England']]\n"
          ]
        }
      ]
    },
    {
      "cell_type": "markdown",
      "metadata": {
        "id": "pKrJUmuVTvth"
      },
      "source": [
        "# Remove StopWords"
      ]
    },
    {
      "cell_type": "code",
      "metadata": {
        "colab": {
          "base_uri": "https://localhost:8080/"
        },
        "id": "2W5UZt2KTyFR",
        "outputId": "e99d0b5a-5271-4b22-fd5d-efef6a13502d"
      },
      "source": [
        "from nltk.corpus import stopwords\n",
        "\n",
        "tokenized_docs_no_stopwords = []\n",
        "\n",
        "for doc in tokenized_docs_no_punctuation:\n",
        "    new_term_vector = []\n",
        "    for word in doc:\n",
        "        if not word.lower() in stopwords.words('english'):\n",
        "            new_term_vector.append(word)\n",
        "    \n",
        "    tokenized_docs_no_stopwords.append(new_term_vector)\n",
        "\n",
        "print(tokenized_docs_no_stopwords)"
      ],
      "execution_count": 15,
      "outputs": [
        {
          "output_type": "stream",
          "name": "stdout",
          "text": [
            "[['Looking', 'wellbeing', 'OurNHSPeople', 'means', 'better', 'look', 'patients', 'finding', 'things', 'difficult', 'challenging', 'moment', 'would', 'like', 'speak', 'someone', '—', 'please', 'call', 'text', 'visit', '📞', '💬'], ['COVID', 'vaccine', 'quick', 'easy', 'really', 'pleased', 'done', 'yearold', 'Lemuella', 'NHSCOVIDVaccine', 'Find', 'vaccine', 'get', '➡️'], ['Delighted', 'NHS', 'able', 'offer', 'patients', 'inclisiran', 'treatment', 'lower', 'cholesterol', 'due', 'NHSfir…'], ['medicine', 'blood', 'probably', '’', 'know', '\\U0001fa78🤔', 'plasma', 'could', 'thing', 'save…'], ['new', 'drug', 'lower', 'cholesterol', 'made', 'available', 'hundreds', 'thousands', 'patients', 'thanks', 'worldleading', 'deal', 'estimated', 'Inclisiran', 'could', 'prevent', 'heart', 'attacks', 'strokes', 'saving', 'lives', 'within', 'next', 'decade'], ['’', 'years', 'old', '’', 'eligible', 'NHSCOVIDVaccine', '’', 'yet', 'visit', 'find', 'nearest', 'walkin', 'centre'], ['Thank', 'colleagues', 'helped', 'shape', 'guidance', 'digital', 'transformation', 'published', 'today', 'Digital…'], ['Today', 'published', 'Good', 'Looks', 'Like', 'guidance', 'digital', 'transformation', 'blog', 'national', 'CIO', 'set…'], ['Get', 'done', 'nearly', 'died', 'Lucy', 'rushed', 'hospital', 'COVID', 'weeks', 'pregnant', 'daughter', 'Billie', 'Rae', 'Luckily', '’', 'mend', 'encouraging', 'others', 'get', 'vaccine', 'ventilator'], ['need', 'medical', 'help', 'emergency', 'use', 'online', 'NHS', 'book', 'amp', 'E', 'direct', 'alternative', 'service', '’', 'appropriate', 'need', 'NHS', '—', 'think', 'online', 'first', 'HelpUsHelpYou'], ['Thousands', 'set', 'benefit', 'genetic', 'testing', 'rolled', 'across', 'England', 'testing', 'spot', 'r…'], ['chose', 'pharmacy', 'combined', 'passion', 'science', 'healthcare', 'advice', 'anyone', 'thinking', 'career', 'pharmacy', '—', 'stay', 'motivated', 'prepared', 'work', 'hard', 'careers', 'NHS', 'like', 'Nyrah', '’', 'Search', 'NHS', 'careers', 'find'], ['’', '’', 'keeping', 'everyone', 'around', 'safe', '’', 'Tom', 'second', 'dose', 'NHSCOVIDVaccine', 'several', 'ways', 'get', 'vaccine', '—', 'book', 'online', 'find', 'walk', 'site', 'near', '🎥'], ['Thousands', 'set', 'benefit', 'genetic', 'testing', 'rolled', 'across', 'England', 'testing', 'spot', 'rare', 'form…'], ['Since', 'diagnosed', 'treatment', 'changed', 'insulin', 'injections', 'tablets', 'feel', 'much', 'better', 'Jen', 'benefited', 'genetic', 'testing', 'spotted', 'monogenic', 'diabetes', 'Since', 'new', 'diagnosis', 'changed', 'treatment', 'feeling', 'much', 'better'], ['Thousands', 'set', 'benefit', 'genetic', 'testing', 'rolled', 'across', 'England', 'testing', 'spot', 'rare', 'form', 'diabetes', 'known', 'monogenic', 'diabetes', 'diagnosed', 'patients', 'manage', 'condition', 'taking', 'tablets', 'instead', 'insulin'], ['need', 'NHS', '—', 'think', 'online', 'first', 'need', 'medical', 'help', 'emergency', 'use', 'online', 'NHS', 'book', 'amp', 'E', 'direct', 'alternative', 'service', '’', 'appropriate', 'HelpUsHelpYou'], ['‘', 'case', 'many', 'student', 'nurses', 'expect', 'complete', 'programme', 'middle', 'pandemic', 'placement', 'Congratulations', 'Jess', 'becoming', 'adult', 'mental', 'health', 'nurse', 'challenging', 'circumstances', 'Welcome', 'NHS', '👏'], ['need', 'medical', 'help', 'bank', 'holiday', 'emergency', 'call', 'GP', 'Practice', 'first', 'may', 'directed', 'use', 'NHS', 'HelpUsHelpYou'], ['nt', 'planning', 'come', 'get', 'vaccine', 'came', 'saw', 'easy', 'nt', 'hurt', 'Georgia', 'got', 'NHSCOVIDVaccine', 'Find', 'nearest', 'walkin', 'site', 'ReadingFestival', '➡️'], ['community', 'pharmacy', 'services', 'open', 'bank', 'holiday', 'pharmacies', 'open', 'Find', 'open', 'pharmacy', 'near', '➡️'], ['easier', 'ever', 'get', 'COVID', 'jab', 'Visit', 'find', 'walkin', 'site', 'near', '—', 'including', 'local', 'museums', 'festivals', 'stadiums', 'theatres', '🎪', '🎭', '⚽'], ['‘', '’', 'jab', 'speak', 'friends', 'family', 'encourage', 'come', 'forward', '’', 'Since', 'rolling', 'GrabAJab', 'campaign', 'NHS', 'vaccination', 'programme', 'protected', 'people', 'ethnic', 'minority', 'backgrounds'], ['need', 'urgent', 'dental', 'treatment', 'bank', 'holiday', 'call', 'dentist', 'contact', 'dentist', 'nt', 'one', 'use', 'NHS', 'Online', 'HelpUsHelpYou'], ['’', 'years', 'old', '’', 'eligible', 'NHSCOVIDVaccine', '’', 'yet', 'visit', 'find', 'nearest', 'walkin', 'centre'], ['💉Vaccinating', 'full', 'swing', 'till', 'tonight', 'weekend', '💙Amelia', 'got', 'jab', '…'], ['need', 'wait', 'GetVaccinated', 'spare', 'hours', 'volunteer', 'htt…'], ['Isabelle', 'looking', 'forward', 'holidays', 'seeing', 'friends', 'CovidVaccine', 'want', 'get', 'bac…'], ['Meet', 'oral', 'amp', 'maxillofacial', 'trainee', 'surgeon', 'Today', 'sharing', 'us', 'like', 'a…'], ['’', 'literally', 'keeping', 'one', 'person', 'earth', 'every', 'single', 'time', 'donate', '’', 'Layla', 'talks', 'daughter', 'Sickle', 'Cell', 'diagnosis', 'need', 'ethnically', 'matched', 'donors', 'Sign', 'GiveBlood', 'save', 'lives', '❤️'], ['chatting', 'festivalgoers', 'got', 'COVID', 'vaccine', 'ReadingFestival', 'Georgia', 'got', 'first', 'jab', 'yester…'], ['lives', 'saved', 'NHSCOVIDVaccine', 'programme', 'Thank', 'NHS', 'staff', 'volunteers', 'vaccinating', 'parks', 'festivals', 'places', 'worship', 'stadiums', 'bank', 'holiday', 'GrabAJab', 'local', 'walkin', 'site', '➡️'], ['COVID', 'vaccine', 'helps', 'us', 'keep', 'enjoying', 'things', 'love', 'Book'], ['incredibly', 'difficult', 'year', 'people', 'working', 'NHS', 'finding', 'things', 'challenging', 'moment', 'would', 'like', 'speak', 'someone', '—', 'please', 'call', 'text', 'visit'], ['staff', 'incredible', 'also', 'human', 'Ambulance', 'saw', 'Student', 'Paramedic', 'Jen', 'stay', 'calm', 'pressure', 'help', 'save', 'life', 'weekold', 'baby', 'Thank', 'Jen', 'calm', 'courageous', 'wish', 'best', 'future', 'career', 'NHS', '💚'], ['awe', 'paramedic', 'console', 'talk', 'person', 'lost', 'loved', 'scene', 'Truly', 'heartbreaking…'], ['hardworking', 'crews', 'NWAS', 'showing', 'kindness', 'determination', 'much', 'put', 'job', 'tonight', 'alwa…'], ['Fully', 'respect', 'call', 'handlers', 'ambulance'], ['Call', 'handers', 'supporting', 'London', 'Ambulance', 'Service', 'answer', 'calls', 'capital', 'declares', 'major', 'incident…'], ['Naomi', 'Ambulance', 'fantastic', 'ambassador', 'NHS', 'emergency', 'services', 'take', 'hat', 'people…'], ['get', 'anything', 'Covid', '’', '’', 'given', 'staff', 'deeper', 'appreciation', 'job', 'esse…'], ['💉', '’', 'forget', '’', 'easier', 'ever', 'get', 'vaccine', 'year', 'olds', 'visit', 'find', 'walkin', 's…'], ['Ready', 'new', 'episode', 'Ambulance', 'TONIGHT', '’', 'back', 'roller', 'coaster', 'emotions', 'helping', 'number', 'COVID', 'a…'], ['NHS', 'support', 'mental', 'health', 'wellbeing', '—', 'whether', '’', 'accessing', 'urgent', 'mental', 'health', 'support', 'finding', 'help', 'available', 'Visit', 'NHS', 'Mental', 'Health', 'Hub'], ['People', 'aged', 'currently', 'highest', 'COVID', 'infection', 'rate', 'England', 'getting', 'jabs', 'NHSCOVIDVaccine', '—', 'greatly', 'reduce', 'chance', 'hospitalised', 'Find'], ['showcasing', 'StaffBehindTheMask', 'Ruth', 'Williams', 'speech', 'language', 'therapist', 'support', 'adults', 'learning', 'd…'], ['⃣⃣', 'years', 'ago', 'Maria', 'Jeralyn', 'MontesPagcu', 'known', 'Jerri', '✈️over', 'miles', 'take', 'lifetime', 'opportunity…'], ['half', 'million', 'year', 'olds', 'England', 'COVID', 'jab', '’', 'easier', 'ever', 'get', 'done', 'Visit', 'find', 'walkin', 'site', 'near', '—', 'including', 'local', 'museums', 'festivals', 'stadiums', 'theatres', '🎪', '🎭', '⚽'], ['perfectly', 'fine', 'bit', 'hesitant', 'nt', 'like', 'thought', 'fainting', 'needles', 'Join', 'millions', 'protecting', 'COVID', 'Book', 'NHSCOVIDVaccine', 'appointment', '🎥'], ['Yesterday', 'pleasure', 'catching', 'talented', 'nurses', 'great', 'share', 'thanks', 'K…'], ['NHS', 'rolling', 'new', 'day', 'blood', 'test', 'rule', 'preeclampsia', 'lifethreatening', 'condition', 'expectant', 'mothers', 'babies', 'means', 'condition', 'ruled', 'much', 'faster', 'significantly', 'reduce', 'hospital', 'admissions'], ['given', 'ten', 'years', 'life', 'Bill', 'attended', 'lung', 'health', 'check', 'found', 'tumour', 'Luckily', 'catching', 'cancer', 'early', 'makes', 'treatable', 'Bill', 'cancer', 'free', 'cough', 'three', 'weeks', 'contact', 'GP', 'Practice', 'HelpUsHelpYou'], ['Learn', 'worldfirst', 'blood', 'test', 'rule', 'preeclampsia', '—', 'removing', 'stress', 'comes', 'uncerta…'], ['Symptoms', 'heart', 'attack', 'include', 'heavy', 'tight', 'chest', 'pain', 'may', 'spread', 'arms', 'neck', 'jaw', 'make', 'breathless', 'sick', 'sweaty', 'lightheaded', 'experience', 'symptoms', 'call', 'NHS', 'still', 'see', 'safely', 'HelpUsHelpYou'], ['‘', '’', 'fabulous', '—', '’', 'hospital', '’', 'Rebecca', 'one', 'first', 'pregnant', 'women', 'benefitted', 'sameday', 'lifesaving', 'test', 'rule', 'potentially', 'fatal', 'disease', 'pregnant', 'women', 'rolled', 'across', 'NHS'], ['Looking', 'wellbeing', 'OurNHSPeople', 'means', 'better', 'look', 'patients', 'finding', 'things', 'difficult', 'challenging', 'moment', 'would', 'like', 'speak', 'someone', '—', 'please', 'call', 'text', 'visit', '📞', '💬'], ['guilt', 'felt', 'passing', 'virus', 'onto', 'immense', 'burden', 'lifted', 'know', 'cured', 'thanks', 'NHS', 'Ashleigh', 'moon', 'son', 'James', 'get', 'Hepatitis', 'C', 'treatment', 'children'], ['Children', 'England', 'set', 'first', 'world', 'offered', 'cure', 'Hepatitis', 'C', 'worldfirst', 'treatment', 'help', 'NHS', 'achieving', 'goal', 'eliminate', 'Hepatitis', 'C', 'England', 'ahead', 'target', 'set', '➡️'], ['Everyone', 'age', 'England', 'able', 'blood', 'pressure', 'checked', 'free', 'High', 'Street', 'chemists', 'fro…'], ['NHS', 'today', 'announced', 'nationwide', 'rollout', 'blood', 'pressure', 'checks', 'high', 'street', 'pharmacies', 'move', 'could', 'potent…'], ['involved', 'exciting', '’', 'real', 'privilege', 'Senior', 'Nurse', 'Kim', 'also', 'leading', 'team', 'nurses', 'supporting', 'Great', 'Britain', 'Paralympian', 'athletes', 'Paralympics', '👏', 'Good', 'luck', 'everyone', 'competing'], ['important', 'immunocompromised', 'people', 'get', 'vaccination', 'Sonia', 'finds', 'more…'], ['NHS', 'rolling', 'high', 'street', 'heart', 'checks', 'help', 'save', 'thousands', 'lives', 'October', 'every', 'NHS', 'pharmacy', 'England', 'able', 'provide', 'lifesaving', 'blood', 'pressure', 'checks', 'people', 'aged', '❤️👏'], ['realised', 'much', 'enjoyed', 'caring', 'others', 'Chloe', 'started', 'volunteering', 'local', 'hospital', 'pandemic', 'healthcare', 'assistant', 'Thank', 'Chloe', 'welcome', 'NHS', '💙'], ['Nurses', 'patients', 'could', 'conversations', 'experiences', 'could', 'improved', 'felt', 'a…'], ['People', 'aged', 'currently', 'highest', 'COVID', 'infection', 'rate', 'England', 'getting', 'jabs', 'greatly', 'reduc…'], ['Great', 'see', 'many', 'people', 'younger', 'cohorts', 'coming', 'forward', 'CovidVaccine', 'weekend', 'Thank', 'you…'], ['’', 'COVID', 'may', 'still', 'experiencing', 'ongoing', 'physical', 'psychological', 'symptoms', '’', 'struggling', 'recover', 'COVID', 'recovery', 'provides', 'advice', 'support', 'health', 'wellbeing', 'recover'], ['QNI', 'joining', 'new', 'project', 'support', 'international', 'recruitment', 'Registered', 'Nurses', 'community', 'ser…'], ['COVID', 'vaccine', 'best', 'way', 'protect', 'new', 'variants', 'virus', '’', 'already', 'book', 'appointment'], ['need', 'support', 'look', 'mental', 'health', '—', 'please', 'use', 'staff', 'mental', 'health', 'wellbeing', 'hubs', 'NHS', 'set', 'hubs', 'provide', 'dedicated', 'support', 'staff', 'provide', 'rapid', 'access', 'local', 'evidencebased', 'services', 'support'], ['think', 'need', 'amp', 'E', 'whilst', 'holiday', 'England', 'use', 'NHS', 'first', 'NHS', 'book', 'amp', 'E', 'direct', 'alternative', 'service', '’', 'appropriate', 'Help', 'us', 'ensure', 'get', 'right', 'care', 'right', 'place', 'right', 'time'], ['friends', 'two', 'already', 'last', 'one', 'get', 'second', 'Ellie', 'two', 'doses', 'NHSCOVIDVaccine', 'adults', 'get', 'second', 'dose', 'eight', 'weeks', 'first', '’', 'delay', 'longer', '➡️', '🎥'], ['Immunoglobulins', 'saved', 'family', 'Plasma', 'reason', 'two', 'healthy', 'little', 'boys', 'Around', 'one', 'million', 'blood', 'donations', 'year', 'used', 'make', 'lifesaving', 'plasma', 'medicine', '👏', 'help', 'families', 'like', 'Kes', 'becoming', 'plasma', 'donor'], ['Discomfort', 'diarrhoea', 'three', 'weeks', 'blood', 'pee', '–', 'even', 'could', 'sign', 'cancer', '’', 'probably', 'nothing', 'serious', 'finding', 'cancer', 'early', 'makes', 'treatable', 'NHS', 'wants', 'see', 'contact', 'GP', 'practice'], ['Kaftrio', 'latest', 'example', 'lifechanging', 'therapies', 'NHS', 'routinely', 'using', 'transform', 'lives', 'patient…'], ['’', 'feeling', 'unwell', 'whilst', 'holiday', 'England', 'need', 'advice', 'pop', 'pharmacy', 'Pharmacists', 'help', 'minor', 'health', 'concerns', 'like', 'tummy', 'troubles', 'aches', 'pains', 'many', 'also', 'refer', 'right', 'help', '’', 'serious'], ['Cystic', 'Fibrosis', 'Short', 'Story', 'Born', 'Diagnosed', 'Prognosis', 'lt', 'fitter', 'ever', 'literally', 'Progress', '…'], ['‘', 'see', 'family', 'grandparents', '’', 'good', 'know', '’', 'safe', '’', 'safe', 'well', '’', 'Thank', 'Brad', 'Oscar', 'sharing', 'reasons', 'getting', 'COVID', 'vaccine'], ['N', 'E', 'E', 'R', 'since', 'Kaftrio', 'licensed', 'year', 'tough', 'many', 'feel', 'lucky', '’', 'abl…'], ['Kaftrio', 'journey', 'incredible', 'start', 'family', 'well', 'Laura', 'one', 'thousands', 'people', 'cystic', 'fibrosis', 'England', 'benefited', 'lifechanging', 'drug', '—', 'one', 'year', 'since', 'made', 'available', 'NHS'], ['need', 'NHS', '—', 'think', 'online', 'first', 'need', 'medical', 'help', 'emergency', 'use', 'online', 'NHS', 'book', 'amp', 'E', 'direct', 'alternative', 'service', '’', 'appropriate', 'HelpUsHelpYou'], ['‘', 'Working', 'NHS', 'really', 'feel', 'job', 'make', 'difference', '’', 'help', 'people', '’', 'something', 'probably', 'need', 'point', '’', 'Join', 'people', 'like', 'Paul', 'part', 'one', 'trusted', 'teams', 'country', 'Search', '‘', 'NHS', 'careers', '’', 'WeAreTheNHS'], ['today', 'plasma', 'recovered', 'blood', 'donations', 'make', 'lifesaving', 'immunoglobulins', 'blood', 'donations', 'save', 'even', 'lives', '👏', 'needs', 'plasma', 'donors', 'summer', 'interested', '—', 'join', 'pool', 'plasma', 'donors'], ['‘', '’', 'way', 'start', 'Monday', 'morning', '’', 'Shoutout', 'call', 'handler', 'Rachel', 'saw', 'supporting', 'family', 'unexpected', 'home', 'birth', 'last', 'night', '’', 'episode', '’', 'Ambulance', 'earning', 'badge', '👏'], ['COVID', 'vaccine', 'helps', 'us', 'keep', 'enjoying', 'things', 'love', 'Book'], ['Delighted', 'hear', 'call', 'involving', 'little', 'girl', 'saw', 'mum', 'recover', 'deservedly', 'rewarded', 'bravery', 'with…'], ['Another', 'episode', 'Ambulance', '😭', 'Massive', 'respect', 'whole', 'NHS', 'Ambulance', 'service', '👏👏'], ['Thank', 'Alex', 'bravely', 'sharing', 'personal', 'experience', 'working', 'frontline', 'tonight', '’', 'Ambulance', 'remarkable', 'colleagues', 'faced', 'challenging', 'times', '’', 'important', 'seek', 'help', 'needed', '’', 'struggling', 'please', 'come', 'forward'], ['calm', 'composure', 'call', 'handlers', 'amazing', '❤', 'Ambulance'], ['look', 'colleagues', 'ambulance', 'service', 'health', 'service', '’', 'amazing', 'job', 'the…'], ['need', 'medical', 'help', 'emergency', 'use', 'online', 'NHS', 'book', 'amp', 'E', 'direct', 'alternative', 'service', '’', 'appropriate', 'need', 'NHS', '—', 'think', 'online', 'first', 'HelpUsHelpYou'], ['Join', 'national', 'experts', 'masterclass', 'COVID', 'infection', 'pregnancy', '—', 'including', 'science', 'behind', 'the…'], ['‘', 'really', 'keen', 'get', 'vaccinated', '’', 'right', 'thing', 'protect', 'others', 'around', 'Well', 'done', 'yearold', 'Xavier', 'felt', 'confident', 'getting', 'NHSCOVIDVaccine', 'recently'], ['Invitations', 'get', 'NHSCOVIDVaccine', 'sent', 'year', 'olds', 'today', 'Letters', 'sent', 'inviting', 'come', 'nearest', 'walkin', 'centre', '—', 'many', 'already', 'received', 'invitations', 'GP', 'taking', 'offer'], ['Allnew', 'Ambulance', 'TONIGHT', 'week', 'episode', 'looks', 'back', 'second', 'wave', 'pandemic', 'continue…'], ['NHS', 'support', 'mental', 'health', 'wellbeing', '—', 'whether', '’', 'accessing', 'urgent', 'mental', 'health', 'support', 'finding', 'help', 'available', 'Visit', 'NHS', 'Mental', 'Health', 'Hub'], ['made', 'much', 'easier', 'walk', '—', 'done', 'issues', 'Join', 'millions', 'like', 'Anthony', 'protecting', 'COVID', 'adults', 'eligible', 'NHSCOVIDVaccine', '🎥'], ['first', 'call', 'help', 'takes', 'courage', 'someone', 'know', 'veteran', 'may', 'struggling', 'week', '—', 'OpCOURAGE', 'help', 'Make', 'sure', 'get', 'right', 'care', 'support', 'need', '➡️'], ['news', 'feel', 'overwhelming', 'right', 'experienced', 'impact', 'COVID', 'differently', 'important', 'look', 'well', 'Find', 'simple', 'tips', 'advice', 'Every', 'Mind', 'Matters', 'COVID', 'hub', '🧠'], ['COVID', 'vaccine', 'best', 'way', 'protect', 'new', 'variants', 'virus', '’', 'already', 'book', 'appointment'], ['think', 'reminds', 'tough', 'times', 'proud', 'coming', 'Nurse', 'Petro', 'captured', 'colleagues', 'working', 'frontline', 'see', 'photos', 'new', 'exhibition', '—', 'BehindClosedDoors'], ['Thank', 'everyone', 'sending', 'kind', 'supportive', 'messages', 'past', 'weeks', 'started', 'C…'], ['loved', 'ones', 'COVID', 'experiencing', 'ongoing', 'symptoms', 'find', 'support', 'advice', 'help', 'road', 'recovery', 'home'], ['Thank', 'Brad', 'Oscar', 'protecting', 'playing', 'part', 'beating', 'COVID', 'B…'], ['bring', 'appointment', 'second', 'dose', 'NHSCOVIDVaccine', 'forward', 'eight', 'weeks', 'since', 'your…'], ['Symptoms', 'heart', 'attack', 'include', 'heavy', 'tight', 'chest', 'pain', 'may', 'spread', 'arms', 'neck', 'jaw', 'make', 'breathless', 'sick', 'sweaty', 'lightheaded', 'experience', 'symptoms', 'call', 'NHS', 'still', 'see', 'safely', 'HelpUsHelpYou'], ['Let', 'get', 'back', 'things', 'love', 'book', 'vaccine'], ['work', 'becomes', 'challenging', 'better', 'cure', 'roll', 'around', 'mats', 'Specialist', 'Critical', 'Care', 'Physiotherapist', 'Sam', 'also', 'Brazilian', 'Jiu', 'Jitsu', 'athlete', 'Read', 'balances', 'two', 'careers'], ['Discomfort', 'diarrhoea', 'three', 'weeks', 'blood', 'pee', '–', 'even', 'could', 'sign', 'cancer', '’', 'probably', 'nothing', 'serious', 'finding', 'cancer', 'early', 'makes', 'treatable', 'NHS', 'wants', 'see', 'contact', 'GP', 'practice'], ['idea', 'getting', '‘', 'back', 'normal', '’', 'causing', 'worry', 'lots', 'ways', 'make', 'time', 'easier', 'Visit', 'Every', 'Mind', 'Matters', 'COVID', 'hub', 'simple', 'tips', 'advice', '🧠'], ['loved', 'ones', 'COVID', 'experiencing', 'ongoing', 'symptoms', 'find', 'support', 'advice', 'help', 'road', 'recovery', 'home'], ['going', 'holiday', 'England', 'remember', 'pack', 'medicines', '🏖️', 'also', 'good', 'idea', 'make', 'sure', '’', 'got', 'contact', 'details', 'GP', 'practice', 'home', 'still', 'help', '’', 'away'], ['game', 'changer', 'Meet', 'baby', 'Edward', 'family', 'Edward', 'spinal', 'muscular', 'atrophy', 'recently', 'received', 'potentially', 'lifesaving', 'drug', 'Zolgensma', 'wish', 'best', 'baby', 'Edward', '💙', '🎥'], ['Looking', 'wellbeing', 'OurNHSPeople', 'means', 'better', 'look', 'patients', 'finding', 'things', 'difficult', 'challenging', 'moment', 'would', 'like', 'speak', 'someone', '—', 'please', 'call', 'text', 'visit', '📞', '💬'], ['always', 'issue', 'needles', 'Jen', 'really', 'helped', 'overcome', 'Shout', 'vaccinator', 'Jen', 'making', 'people', 'feel', 'calm', 'getting', 'NHSCOVIDVaccine', '👏', 'Thank', 'staff', 'volunteers', 'like', 'Jen', 'work', 'vaccine', 'rollout'], ['Research', 'shows', 'people', 'would', 'delay', 'seeking', 'medical', 'advice', 'compared', 'pandemic', 'National', 'Clinical', 'Director', 'Cancer', 'urges', 'anyone', 'worried', 'symptoms', 'come', 'forward', 'NHS', 'see', 'safely', '🎥'], ['Finding', 'cancer', 'early', 'makes', 'treatable', 'save', 'lives', 'experiencing', 'worrying', 'symptoms', '—', 'diarrhoea', 'tummy', 'discomfort', 'three', 'weeks', 'blood', 'pee', 'even', 'contact', 'GP', 'practice'], ['NHS', 'support', 'mental', 'health', 'wellbeing', '—', 'whether', '’', 'accessing', 'urgent', 'mental', 'health', 'support', 'finding', 'help', 'available', 'Visit', 'NHS', 'Mental', 'Health', 'Hub'], ['‘', '’', 'job', 'different', 'every', 'day', '’', 'somebody', '’', 'quite', 'hands', '’', 'got', 'give', 'go', '’', 'Ripal', 'one', 'amazing', 'podiatrists', 'shares', 'job', 'NHS', 'like', 'Search', '‘', 'NHS', 'careers', '’', 'today', 'WeAreTheNHS'], ['young', 'people', 'aged', 'England', 'first', 'dose', 'COVID', 'vaccine', '💉', 'nt', 'yet', 'late', 'Visit', 'get', 'started'], ['need', 'access', 'GP', 'Practice', 'whilst', 'holiday', 'England', 'usual', 'GP', 'Practice', 'still', 'help', 'phone', 'video', 'online', 'consultation', '’', 'medical', 'records', 'hand', 'always', 'contact', 'first'], ['Let', 'get', 'back', 'things', 'love', 'yet', 'COVIDVaccine', 'late', 'Book', 'online', 'a…'], ['’', 'vaccination', 'care', 'volunteer', '—', 'exciting', 'get', 'make', 'difference', 'yearold', 'Faleeha', 'NHS', 'Cadets', 'graduate', 'wants', 'pursue', 'career', 'NHS', 'Feleeha', 'wish', 'best', 'future'], ['adults', 'England', 'doses', 'NHSCOVIDVaccine', '💉💉', 'Join', 'Dr', 'Stanley', 'Stephanie', 'Rosita', 'protected', 'COVID', 'adults', 'get', 'second', 'dose', 'eight', 'weeks', 'first'], ['Set', 'alarms', 'new', 'series', 'Ambulance', 'starts', 'tonight', 'featuring', 'staff', 'Merseyside', 'action…'], ['Many', 'young', 'people', 'received', 'results', 'morning', 'Congratulations', 'got', 'results', 'you…'], ['“', '’', 'honest', '’', 'think', '’', 'make', 'age', '”', 'Ask', 'Daniel', 'changed', 'life', 'forever', 'On…'], ['teeth', 'gums', 'healthy', 'checkup', 'may', 'needed', 'months', 'think', 'need', 'dental', 'treatment', 'contact', 'dental', 'practice', 'phone', 'email', 'advice', 'Dentists', 'seeing', 'patients', 'order', 'priority', 'HelpUsHelpYou'], ['skyline', 'frontline', '✈️💙', 'Thank', 'cabin', 'crew', 'staff', 'supported', 'NHS', 'travel', 'restricted', 'returned', 'flying', 'cabin', 'crew', 'members', 'worked', 'shared', 'thoughts', 'working', 'NHS'], ['running', 'series', 'webinars', 'focusing', 'key', 'priorities', 'improving', 'health', 'inequalities', '✅Restoring', 'N…'], ['’', 'aged', 'turning', 'within', 'next', 'three', 'months', 'book', 'COVID', 'vaccine', 'online', 'without', 'needing', 'go', 'via', 'GP', 'Visit', 'get', 'started'], ['need', 'medical', 'help', 'emergency', 'use', 'online', 'NHS', 'book', 'amp', 'E', 'direct', 'alternative', 'service', '’', 'appropriate', 'need', 'NHS', '—', 'think', 'online', 'first', 'HelpUsHelpYou'], ['’', 'feeling', 'unwell', 'whilst', 'holiday', 'England', 'need', 'advice', 'pop', 'pharmacy', 'Pharmacists', 'help', 'minor', 'health', 'concerns', 'like', 'tummy', 'troubles', 'aches', 'pains', 'many', 'also', 'refer', 'right', 'help', '’', 'serious'], ['Lockdown', 'restrictions', 'may', 'eased', '’', 'continuing', 'work', 'home', 'many', 'ways', 'make', 'little', 'easier', 'Visit', 'Every', 'Mind', 'Matters', 'COVID', 'hub', 'simple', 'tips', 'advice'], ['COVID', 'vaccine', 'best', 'way', 'protect', 'new', 'variants', 'virus', 'nt', 'already', 'book', 'ap…'], ['Volunteering', 'rewarding', 'gave', 'great', 'introduction', 'pathology', 'works', 'NHS', 'right', 'job', 'came', 'immediately', 'applied', 'lucky', 'enough', 'get', 'post', 'Welcome', 'NHS', 'Claudia', '💙', 'Find', 'get', 'involved', '➡️'], ['COVIDVaccine', 'expected', 'high', 'standards', 'safety', 'quality', 'efficacy', 'medicines', 'vaccines', 'information', 'COVID', 'vaccine', '—', 'visit'], ['need', 'support', 'look', 'mental', 'health', '—', 'please', 'use', 'staff', 'mental', 'health', 'wellbeing', 'hubs', 'NHS', 'set', 'hubs', 'provide', 'dedicated', 'support', 'staff', 'provide', 'rapid', 'access', 'local', 'evidencebased', 'services', 'support'], ['📣', 'Three', 'four', 'UK', 'adults', 'doses', 'vaccine', 'Getting', 'second', 'dose', 'best', 'way', 'ensure', 'y…'], ['think', 'need', 'amp', 'E', 'whilst', 'holiday', 'England', 'use', 'NHS', 'first', 'NHS', 'book', 'amp', 'E', 'direct', 'alternative', 'service', '’', 'appropriate', 'Help', 'us', 'ensure', 'get', 'right', 'care', 'right', 'place', 'right', 'time'], ['Good', 'luck', 'everyone', 'getting', 'ALevelResults', 'today', '’', 'looking', 'rewarding', 'career', 'allows', 'make…'], ['Congratulations', 'Halima', 'achieved', 'highest', 'grade', 'Triple', 'Distinction', 'Health', 'Social', 'Care', 'going', 't…'], ['Another', 'top', 'achiever', 'Harry', 'Preston', 'achieved', 'grades', 'Biology', 'Chemistry', 'Maths', 'one', 'step', 'closer', 'ach…'], ['proud', 'nurse', 'today', 'bursting', 'pride', 'daughter', 'Hannah', 'successful', 'getting', 'le…'], ['’', 'get', 'grades', 'needed', 'study', 'Nursing', 'levels', 'went', 'back', 'education', 'went', 'uni', 'later', 'than…'], ['Got', 'kings', 'college', '’', 'wait', 'fav', 'midwife', '😩😩😩😩', 'hard', 'work', 'pays', 'ALevelResults', 'resultsday'], ['ALevelResults', 'day', 'Mental', 'Health', 'Nurse', 'Rebecca', 'answering', 'questions', 'career', 'journey', 'Instagram', 'stories', '’', 'looking', 'rewarding', 'career', 'allows', 'change', 'lives', 'nursing', 'degree', 'could', 'perfect', 'WeAreTheNHS'], ['Good', 'luck', 'everyone', 'getting', 'ALevelResults', 'today', 'career', 'privileged', 'work', 'many', 'ta…'], ['Best', 'luck', 'everyone', 'getting', 'ALevelResults', 'today', '💙', 'NHSrelated', 'university', 'courses', 'could', 'take', 'leading', 'one', 'rewarding', 'careers', 'NHS', 'Search', 'NHS', 'careers', 'find', 'WeAreTheNHS'], ['felt', 'like', 'friendship', 'milestone', 'privilege', 'go', 'get', 'vaccinated', 'together', 'Friends', 'Stephanie', 'Rosita', 'doses', 'NHSCOVIDVaccine', 'adults', 'get', 'second', 'dose', 'vaccine', 'eight', 'weeks', 'first'], ['NHS', 'Blood', 'Transplant', 'needs', 'plasma', 'donors', 'summer', 'interested', '—', 'join', 'pool', 'plasma', 'donors', 'start', 'saving', 'lives', '➡️'], ['Congrats', 'Blackburn', 'Rovers', 'beating', 'Swansea', 'weekend', 'opening', 'game', 'Championship', 'also', 'bols…'], ['Feeling', 'low', 'anxious', 'struggling', 'sleep', 'Continue', 'making', 'time', 'mental', 'wellbeing', 'Visit', 'Every', 'Mind', 'Matters', 'get', 'free', 'personalised', 'mental', 'health', 'action', 'plan', 'simple', 'tips', 'get', 'started'], ['’', 'suffering', 'diarrhoea', 'bloating', 'discomfort', 'three', 'weeks', 'could', 'sign', 'cancer', 'Please', 'speak', 'GP', 'Finding', 'cancer', 'early', 'makes', 'treatable', 'HelpUsHelpYou'], ['need', 'access', 'GP', 'Practice', 'whilst', 'holiday', 'England', 'usual', 'GP', 'Practice', 'still', 'help', 'phone', 'video', 'online', 'consultation', '’', 'medical', 'records', 'hand', 'always', 'contact', 'first'], ['Plasma', 'donation', 'reason', 'two', 'healthy', 'little', 'boys', 'keep', 'toes', 'gave', 'gift', 'life', 'youngest', 'saved', 'life', 'eldest', 'Trevor', 'mum', 'Kes', 'knows', 'value', 'blood', 'plasma', 'Donate', 'today', 'SaveLives'], ['‘', '’', 'job', 'different', 'every', 'day', '’', 'somebody', '’', 'quite', 'hands', '’', 'got', 'give', 'go', '’', 'Ripal', 'one', 'amazing', 'podiatrists', 'shares', 'job', 'NHS', 'like', 'Search', '‘', 'NHS', 'careers', '’', 'today', 'WeAreTheNHS'], ['Recovery', 'COVID', 'take', 'time', 'may', 'experiencing', 'symptoms', 'going', 'away', 'COVID', 'Recovery', 'information', 'rehabilitation', 'experts', 'patients', 'mental', 'health', 'wellbeing', 'physical', 'health', 'returning', 'work'], ['“', 'represent', 'best', 'societies', 'communities', 'want', 'see', 'strive', 'flourish', '”', '…'], ['Getting', 'COVID', 'vaccine', 'gives', 'hope', 'adults', 'eligible', 'NHSCOVIDVaccine', 'epilepsy', 'like', 'Cece', 'fully', 'vaccinated', 'provides', 'maximum', 'protection', 'COVID', 'important', 'attend', 'appointments'], ['need', 'NHS', '—', 'think', 'online', 'first', 'need', 'medical', 'help', 'emergency', 'use', 'online', 'NHS', 'book', 'amp', 'E', 'direct', 'alternative', 'service', '’', 'appropriate', 'HelpUsHelpYou'], ['Congratulations', 'NHS', 'Cadets', 'graduation', 'today', '🎉', 'NHSCadets', 'run', 'supports', 'teenagers', 'develop', 'skills', 'needed', 'career', 'healthcare', 'past', 'year', 'undergone', 'first', 'aid', 'training', 'volunteered', 'vaccination', 'sites'], ['going', 'holiday', 'England', 'remember', 'pack', 'medicines', '🏖️', 'also', 'good', 'idea', 'make', 'sure', '’', 'got', 'contact', 'details', 'GP', 'practice', 'home', 'still', 'help', '’', 'away'], ['million', 'children', 'young', 'people', 'get', 'NHSCOVIDVaccine', 'latest', 'stage', 'NHS', 'vaccination', 'programme', 'yearolds', 'country', '’', 'vulnerable', 'children', 'live', 'vulnerable', 'adults', 'eligible', '➡️'], ['“', 'Clinically', 'vulnerable', 'people', 'TIMES', 'likely', 'become', 'seriously', 'ill', 'peers', '”', 'clini…'], ['Breastfeeding', 'bring', 'many', 'benefits', 'baby', 'World', 'Breastfeeding', 'Week', 'find', 'whether', 'choice', 'Find', 'information', 'support', '➡️'], ['September', 'people', 'required', 'two', 'doses', 'COVID', 'vaccine', 'enter', 'nightclubs', 'large', 'scale', 'ev…'], ['‘', 'Bryson', 'ray', 'sunshine', 'since', 'started', 'working', 'seeing', 'walk', 'school', 'memory', '’', 'cherish', 'forever', 'Shout', 'Physiotherapist', 'Lorna', 'recently', 'supported', 'Bryson', 'cerebral', 'palsy', 'walk', 'school', 'unassisted', '💪'], ['’', 'five', 'seconds', '’', 'Harry', 'overcame', 'fear', 'needles', 'NHSCOVIDVaccine', 'staff', 'experienced', 'help', 'feel', 'comfortable', 'getting', 'vaccine', '🎥'], ['Plasma', 'donation', 'important', 'anything', '—', 'without', 'would', 'little', 'boy', 'Harley', 'acute', 'lymphoblastic', 'leukaemia', 'relies', 'plasma', 'create', 'new', 'antibodies', 'need', 'new', 'donors', 'save', 'lives', 'Donate'], ['Getting', 'COVID', 'vaccine', 'gives', 'hope', 'adults', 'eligible', 'NHSCOVIDVaccine', 'kidney', 'disease', 'like', 'Maddy', 'fully', 'vaccinated', 'provides', 'maximum', 'protection', 'COVID', 'important', 'attend', 'appointments'], ['‘', 'Cycle', 'work', '’', 'whole', 'different', 'meaning', 'incredible', 'paramedics', 'highly', 'skilled', 'cycling', 'emergencies', 'across', 'London', 'whilst', 'working', 'significant', 'pressures', 'come', 'rain', 'shine', 'Keep', 'great', 'work', 'team', '🚴💙', 'CycleToWorkDay'], ['Join', 'experts', 'Dr', 'Consultant', 'Respiratory', 'Physician', 'Dr', 'Binita', 'Kane', 'Saturday', 'discuss', 'impact', 'COVID', 'ethnic', 'minority', 'communities', 'including', 'South', 'Asian', 'origin', 'Register', 'place', '➡️'], ['first', 'visit', 'Chief', 'Executive', 'met', 'incredible', 'team', 'Woodhatch', 'Place', 'reiga…'], ['NHS', 'Chief', 'Executive', 'urged', 'young', 'people', 'get', 'NHSCOVIDVaccine', 'figures', 'reveal', 'aged', 'make', 'one', 'five', 'admitted', 'hospital', 'virus', 'nt', 'yet', '—', 'book', 'today', '💉'], ['Pfizer', 'dancefloor', 'weekend', 'Heaven', 'nightclub', '💃💉', 'Join', 'team', 'GAY', 'Sunday', 'August', '…'], ['Symptoms', 'heart', 'attack', 'include', 'heavy', 'tight', 'chest', 'pain', 'may', 'spread', 'arms', 'neck', 'jaw', 'make', 'breathless', 'sick', 'sweaty', 'lightheaded', 'experience', 'symptoms', 'call', 'NHS', 'still', 'see', 'safely', 'HelpUsHelpYou'], ['still', 'safely', 'seeing', 'pregnant', 'women', 'every', 'day', 'Please', 'attend', 'checkups', 'speak', 'midwife', 'concerns', 'NHS', 'see', 'safely', 'HelpUsHelpYou'], ['might', 'finding', 'things', 'tough', 'year', 'lots', 'things', 'feel', 'better', 'Visit', 'Every', 'Mind', 'Matters', 'COVID', 'hub', 'simple', 'tips'], ['‘', 'feeling', 'gratitude', 'excitement', 'got', 'second', 'jab', 'something', '’', 'forget', 'time', 'soon', '’', 'Join', 'Omid', 'millions', 'others', 'NHSCovidVaccine', '—', 'search', 'NHS', 'COVID', 'vaccine', 'book', 'appointment'], ['‘', 'role', 'radiographer', 'really', 'significant', '’', 'often', 'one', 'key', 'people', 'involved', 'start', 'help', 'diagnose', 'wrong', '’', 'Diagnostic', 'Radiographer', 'Rupert', 'shares', 'meeting', 'radiographers', 'patient', 'inspired', 'become', 'one', 'WeAreTheNHS'], ['need', 'support', 'look', 'mental', 'health', '—', 'please', 'use', 'staff', 'mental', 'health', 'wellbeing', 'hubs', 'NHS', 'set', 'hubs', 'provide', 'dedicated', 'support', 'staff', 'provide', 'rapid', 'access', 'local', 'evidencebased', 'services', 'support'], ['someone', 'COVID', 'treated', 'hundreds', 'positive', 'patients', 'seriousness', 'virus', 'age', 'groups', 'underestimated', 'Junior', 'Doctor', 'knows', 'effect', 'COVID', 'vaccine', 'best', 'protection'], ['NHS', 'Blood', 'Transplant', 'needs', 'plasma', 'donors', 'summer', 'interested', '—', 'join', 'pool', 'plasma', 'donors', 'start', 'saving', 'lives', '➡️'], ['new', 'NHS', 'Chief', 'Executive', '’', 'like', 'thank', 'staff', 'everything', 'done', 'throughout', 'COVID', 'pandemic', '’', '…'], ['Let', 'get', 'back', 'things', 'love', 'book', 'vaccine'], ['💙'], ['World', 'Breastfeeding', 'Week', '’', 'normal', 'need', 'help', 'breastfeeding', 'Find', 'support', 'answers', 'frequ…'], ['‘', 'felt', 'extremely', 'nervous', 'jab', '’', 'fear', 'needles', 'like', 'Khadijah', 'staff', 'help', 'feel', 'comfortable', 'getting', 'NHSCOVIDVaccine', 'Let', 'know', '’', 'anxious', 'concerns', 'attend', 'appointment', '🎥'], ['Every', 'patient', 'needs', 'kidney', 'dialysis', 'benefit', 'free', 'transport', 'vital', 'hospital', 'appointments', 'New', 'rules', 'make', 'simpler', 'patients', 'get', 'free', 'transport', 'including', 'long', 'term', 'conditions', 'mobility', 'problems'], ['Remember', 'FAST', 'signs', 'stroke', 'Face', '–', 'face', 'fallen', 'one', 'side', 'Arms', '–', 'raise', 'arms', 'keep', 'Speech', '–', 'slurred', 'Time', '–', '’', 'time', 'call', 'stroke', 'strikes', 'remember', 'ActFast'], ['‘', 'part', 'NHS', 'affords', 'opportunity', 'learn', 'lot', 'people', 'look', '’', 'rewarding', 'careers', 'NHS', '—', 'search', '‘', 'NHS', 'careers', '’', 'find', 'one', 'could', 'WeAreTheNHS'], ['Thanks', 'Gill', 'putting', 'advice', 'Twitter', 'acceptable', 'receive', 'abuse', 'teamCNO', 'appreciates', 'support', 'r'], ['Since', 'pandemic', 'began', 'worked', 'hard', 'get', 'best', 'advice', 'support', 'members', 'pregnant', 'women', 'Yes…'], ['’', 'COVID', 'may', 'still', 'experiencing', 'ongoing', 'physical', 'psychological', 'symptoms', '’', 'struggling', 'recover', 'COVID', 'recovery', 'provides', 'advice', 'support', 'health', 'wellbeing', 'recover'], ['symptoms', 'cough', 'put', 'smoking', 'Danny', 'attended', 'lung', 'health', 'check', 'large', 'growth', 'found', 'successful', 'operation', 'cancer', 'free', 'cough', 'three', 'weeks', 'contact', 'GP', 'Practice', 'LungCancerDay'], ['need', 'medical', 'help', 'emergency', 'contact', 'first', 'able', 'advise', 'service', 'need', 'book', 'amp', 'E', 'HelpUsHelpYou'], ['Feeling', 'low', 'anxious', 'struggling', 'sleep', 'Continue', 'making', 'time', 'mental', 'wellbeing', 'Visit', 'Every', 'Mind', 'Matters', 'get', 'free', 'personalised', 'mental', 'health', 'action', 'plan', 'simple', 'tips', 'get', 'started'], ['everything', 'bring', 'hepatitis', 'C', 'testing', 'treatment', 'patients', 'Thanks', 'nurses', 'like', 'Jane', 'Sophie', 'work', 'community', 'direct', 'impact', '’', 'help', 'eliminate', 'hepatitis', 'C', 'England']]\n"
          ]
        }
      ]
    },
    {
      "cell_type": "markdown",
      "metadata": {
        "id": "WpLOP3WET0oB"
      },
      "source": [
        "# Lemmatization"
      ]
    },
    {
      "cell_type": "code",
      "metadata": {
        "colab": {
          "base_uri": "https://localhost:8080/"
        },
        "id": "K_0XE6mET3Hu",
        "outputId": "89189051-042b-4fbc-eab4-ebc08493035d"
      },
      "source": [
        "# Stemming and Lemmatization\n",
        "from nltk.stem.porter import PorterStemmer\n",
        "from nltk.stem.wordnet import WordNetLemmatizer\n",
        "\n",
        "porter = PorterStemmer()\n",
        "wordnet = WordNetLemmatizer()\n",
        "\n",
        "preprocessed_docs = []\n",
        "preprocessed_docs1 = []\n",
        "\n",
        "for doc in tokenized_docs_no_stopwords:\n",
        "    final_doc = []\n",
        "    \n",
        "    for word in doc:\n",
        "      # final_doc.append(porter.stem(word))\n",
        "       #if word.lower() not in {\"’\",\"nt\",\"‘\",\"…\",\"rt\",\"—\",\"–\",\"nh\"}:\n",
        "       if word.lower() not in {\"nt\",\"…\",\"rt\",\"—\",\"–\",\"nh\"}:\n",
        "         final_doc.append(wordnet.lemmatize(word.lower()))\n",
        "         \n",
        "    preprocessed_docs.append(final_doc)\n",
        "# for x in preprocessed_docs:\n",
        "#   final_doc1=[]\n",
        "\n",
        "#   for words in x:\n",
        "\n",
        "#      final_doc1.append(porter.stem(words))\n",
        "\n",
        "#   preprocessed_docs1.append(final_doc1)\n",
        "\n",
        "print(preprocessed_docs)"
      ],
      "execution_count": 16,
      "outputs": [
        {
          "output_type": "stream",
          "name": "stdout",
          "text": [
            "[['looking', 'wellbeing', 'ournhspeople', 'mean', 'better', 'look', 'patient', 'finding', 'thing', 'difficult', 'challenging', 'moment', 'would', 'like', 'speak', 'someone', 'please', 'call', 'text', 'visit', '📞', '💬'], ['covid', 'vaccine', 'quick', 'easy', 'really', 'pleased', 'done', 'yearold', 'lemuella', 'nhscovidvaccine', 'find', 'vaccine', 'get', '➡️'], ['delighted', 'nh', 'able', 'offer', 'patient', 'inclisiran', 'treatment', 'lower', 'cholesterol', 'due', 'nhsfir…'], ['medicine', 'blood', 'probably', '’', 'know', '\\U0001fa78🤔', 'plasma', 'could', 'thing', 'save…'], ['new', 'drug', 'lower', 'cholesterol', 'made', 'available', 'hundred', 'thousand', 'patient', 'thanks', 'worldleading', 'deal', 'estimated', 'inclisiran', 'could', 'prevent', 'heart', 'attack', 'stroke', 'saving', 'life', 'within', 'next', 'decade'], ['’', 'year', 'old', '’', 'eligible', 'nhscovidvaccine', '’', 'yet', 'visit', 'find', 'nearest', 'walkin', 'centre'], ['thank', 'colleague', 'helped', 'shape', 'guidance', 'digital', 'transformation', 'published', 'today', 'digital…'], ['today', 'published', 'good', 'look', 'like', 'guidance', 'digital', 'transformation', 'blog', 'national', 'cio', 'set…'], ['get', 'done', 'nearly', 'died', 'lucy', 'rushed', 'hospital', 'covid', 'week', 'pregnant', 'daughter', 'billie', 'rae', 'luckily', '’', 'mend', 'encouraging', 'others', 'get', 'vaccine', 'ventilator'], ['need', 'medical', 'help', 'emergency', 'use', 'online', 'nh', 'book', 'amp', 'e', 'direct', 'alternative', 'service', '’', 'appropriate', 'need', 'nh', 'think', 'online', 'first', 'helpushelpyou'], ['thousand', 'set', 'benefit', 'genetic', 'testing', 'rolled', 'across', 'england', 'testing', 'spot', 'r…'], ['chose', 'pharmacy', 'combined', 'passion', 'science', 'healthcare', 'advice', 'anyone', 'thinking', 'career', 'pharmacy', 'stay', 'motivated', 'prepared', 'work', 'hard', 'career', 'nh', 'like', 'nyrah', '’', 'search', 'nh', 'career', 'find'], ['’', '’', 'keeping', 'everyone', 'around', 'safe', '’', 'tom', 'second', 'dose', 'nhscovidvaccine', 'several', 'way', 'get', 'vaccine', 'book', 'online', 'find', 'walk', 'site', 'near', '🎥'], ['thousand', 'set', 'benefit', 'genetic', 'testing', 'rolled', 'across', 'england', 'testing', 'spot', 'rare', 'form…'], ['since', 'diagnosed', 'treatment', 'changed', 'insulin', 'injection', 'tablet', 'feel', 'much', 'better', 'jen', 'benefited', 'genetic', 'testing', 'spotted', 'monogenic', 'diabetes', 'since', 'new', 'diagnosis', 'changed', 'treatment', 'feeling', 'much', 'better'], ['thousand', 'set', 'benefit', 'genetic', 'testing', 'rolled', 'across', 'england', 'testing', 'spot', 'rare', 'form', 'diabetes', 'known', 'monogenic', 'diabetes', 'diagnosed', 'patient', 'manage', 'condition', 'taking', 'tablet', 'instead', 'insulin'], ['need', 'nh', 'think', 'online', 'first', 'need', 'medical', 'help', 'emergency', 'use', 'online', 'nh', 'book', 'amp', 'e', 'direct', 'alternative', 'service', '’', 'appropriate', 'helpushelpyou'], ['‘', 'case', 'many', 'student', 'nurse', 'expect', 'complete', 'programme', 'middle', 'pandemic', 'placement', 'congratulation', 'jess', 'becoming', 'adult', 'mental', 'health', 'nurse', 'challenging', 'circumstance', 'welcome', 'nh', '👏'], ['need', 'medical', 'help', 'bank', 'holiday', 'emergency', 'call', 'gp', 'practice', 'first', 'may', 'directed', 'use', 'nh', 'helpushelpyou'], ['planning', 'come', 'get', 'vaccine', 'came', 'saw', 'easy', 'hurt', 'georgia', 'got', 'nhscovidvaccine', 'find', 'nearest', 'walkin', 'site', 'readingfestival', '➡️'], ['community', 'pharmacy', 'service', 'open', 'bank', 'holiday', 'pharmacy', 'open', 'find', 'open', 'pharmacy', 'near', '➡️'], ['easier', 'ever', 'get', 'covid', 'jab', 'visit', 'find', 'walkin', 'site', 'near', 'including', 'local', 'museum', 'festival', 'stadium', 'theatre', '🎪', '🎭', '⚽'], ['‘', '’', 'jab', 'speak', 'friend', 'family', 'encourage', 'come', 'forward', '’', 'since', 'rolling', 'grabajab', 'campaign', 'nh', 'vaccination', 'programme', 'protected', 'people', 'ethnic', 'minority', 'background'], ['need', 'urgent', 'dental', 'treatment', 'bank', 'holiday', 'call', 'dentist', 'contact', 'dentist', 'one', 'use', 'nh', 'online', 'helpushelpyou'], ['’', 'year', 'old', '’', 'eligible', 'nhscovidvaccine', '’', 'yet', 'visit', 'find', 'nearest', 'walkin', 'centre'], ['💉vaccinating', 'full', 'swing', 'till', 'tonight', 'weekend', '💙amelia', 'got', 'jab'], ['need', 'wait', 'getvaccinated', 'spare', 'hour', 'volunteer', 'htt…'], ['isabelle', 'looking', 'forward', 'holiday', 'seeing', 'friend', 'covidvaccine', 'want', 'get', 'bac…'], ['meet', 'oral', 'amp', 'maxillofacial', 'trainee', 'surgeon', 'today', 'sharing', 'u', 'like', 'a…'], ['’', 'literally', 'keeping', 'one', 'person', 'earth', 'every', 'single', 'time', 'donate', '’', 'layla', 'talk', 'daughter', 'sickle', 'cell', 'diagnosis', 'need', 'ethnically', 'matched', 'donor', 'sign', 'giveblood', 'save', 'life', '❤️'], ['chatting', 'festivalgoers', 'got', 'covid', 'vaccine', 'readingfestival', 'georgia', 'got', 'first', 'jab', 'yester…'], ['life', 'saved', 'nhscovidvaccine', 'programme', 'thank', 'nh', 'staff', 'volunteer', 'vaccinating', 'park', 'festival', 'place', 'worship', 'stadium', 'bank', 'holiday', 'grabajab', 'local', 'walkin', 'site', '➡️'], ['covid', 'vaccine', 'help', 'u', 'keep', 'enjoying', 'thing', 'love', 'book'], ['incredibly', 'difficult', 'year', 'people', 'working', 'nh', 'finding', 'thing', 'challenging', 'moment', 'would', 'like', 'speak', 'someone', 'please', 'call', 'text', 'visit'], ['staff', 'incredible', 'also', 'human', 'ambulance', 'saw', 'student', 'paramedic', 'jen', 'stay', 'calm', 'pressure', 'help', 'save', 'life', 'weekold', 'baby', 'thank', 'jen', 'calm', 'courageous', 'wish', 'best', 'future', 'career', 'nh', '💚'], ['awe', 'paramedic', 'console', 'talk', 'person', 'lost', 'loved', 'scene', 'truly', 'heartbreaking…'], ['hardworking', 'crew', 'nwas', 'showing', 'kindness', 'determination', 'much', 'put', 'job', 'tonight', 'alwa…'], ['fully', 'respect', 'call', 'handler', 'ambulance'], ['call', 'handers', 'supporting', 'london', 'ambulance', 'service', 'answer', 'call', 'capital', 'declares', 'major', 'incident…'], ['naomi', 'ambulance', 'fantastic', 'ambassador', 'nh', 'emergency', 'service', 'take', 'hat', 'people…'], ['get', 'anything', 'covid', '’', '’', 'given', 'staff', 'deeper', 'appreciation', 'job', 'esse…'], ['💉', '’', 'forget', '’', 'easier', 'ever', 'get', 'vaccine', 'year', 'old', 'visit', 'find', 'walkin', 's…'], ['ready', 'new', 'episode', 'ambulance', 'tonight', '’', 'back', 'roller', 'coaster', 'emotion', 'helping', 'number', 'covid', 'a…'], ['nh', 'support', 'mental', 'health', 'wellbeing', 'whether', '’', 'accessing', 'urgent', 'mental', 'health', 'support', 'finding', 'help', 'available', 'visit', 'nh', 'mental', 'health', 'hub'], ['people', 'aged', 'currently', 'highest', 'covid', 'infection', 'rate', 'england', 'getting', 'jab', 'nhscovidvaccine', 'greatly', 'reduce', 'chance', 'hospitalised', 'find'], ['showcasing', 'staffbehindthemask', 'ruth', 'williams', 'speech', 'language', 'therapist', 'support', 'adult', 'learning', 'd…'], ['⃣⃣', 'year', 'ago', 'maria', 'jeralyn', 'montespagcu', 'known', 'jerri', '✈️over', 'mile', 'take', 'lifetime', 'opportunity…'], ['half', 'million', 'year', 'old', 'england', 'covid', 'jab', '’', 'easier', 'ever', 'get', 'done', 'visit', 'find', 'walkin', 'site', 'near', 'including', 'local', 'museum', 'festival', 'stadium', 'theatre', '🎪', '🎭', '⚽'], ['perfectly', 'fine', 'bit', 'hesitant', 'like', 'thought', 'fainting', 'needle', 'join', 'million', 'protecting', 'covid', 'book', 'nhscovidvaccine', 'appointment', '🎥'], ['yesterday', 'pleasure', 'catching', 'talented', 'nurse', 'great', 'share', 'thanks', 'k…'], ['nh', 'rolling', 'new', 'day', 'blood', 'test', 'rule', 'preeclampsia', 'lifethreatening', 'condition', 'expectant', 'mother', 'baby', 'mean', 'condition', 'ruled', 'much', 'faster', 'significantly', 'reduce', 'hospital', 'admission'], ['given', 'ten', 'year', 'life', 'bill', 'attended', 'lung', 'health', 'check', 'found', 'tumour', 'luckily', 'catching', 'cancer', 'early', 'make', 'treatable', 'bill', 'cancer', 'free', 'cough', 'three', 'week', 'contact', 'gp', 'practice', 'helpushelpyou'], ['learn', 'worldfirst', 'blood', 'test', 'rule', 'preeclampsia', 'removing', 'stress', 'come', 'uncerta…'], ['symptom', 'heart', 'attack', 'include', 'heavy', 'tight', 'chest', 'pain', 'may', 'spread', 'arm', 'neck', 'jaw', 'make', 'breathless', 'sick', 'sweaty', 'lightheaded', 'experience', 'symptom', 'call', 'nh', 'still', 'see', 'safely', 'helpushelpyou'], ['‘', '’', 'fabulous', '’', 'hospital', '’', 'rebecca', 'one', 'first', 'pregnant', 'woman', 'benefitted', 'sameday', 'lifesaving', 'test', 'rule', 'potentially', 'fatal', 'disease', 'pregnant', 'woman', 'rolled', 'across', 'nh'], ['looking', 'wellbeing', 'ournhspeople', 'mean', 'better', 'look', 'patient', 'finding', 'thing', 'difficult', 'challenging', 'moment', 'would', 'like', 'speak', 'someone', 'please', 'call', 'text', 'visit', '📞', '💬'], ['guilt', 'felt', 'passing', 'virus', 'onto', 'immense', 'burden', 'lifted', 'know', 'cured', 'thanks', 'nh', 'ashleigh', 'moon', 'son', 'james', 'get', 'hepatitis', 'c', 'treatment', 'child'], ['child', 'england', 'set', 'first', 'world', 'offered', 'cure', 'hepatitis', 'c', 'worldfirst', 'treatment', 'help', 'nh', 'achieving', 'goal', 'eliminate', 'hepatitis', 'c', 'england', 'ahead', 'target', 'set', '➡️'], ['everyone', 'age', 'england', 'able', 'blood', 'pressure', 'checked', 'free', 'high', 'street', 'chemist', 'fro…'], ['nh', 'today', 'announced', 'nationwide', 'rollout', 'blood', 'pressure', 'check', 'high', 'street', 'pharmacy', 'move', 'could', 'potent…'], ['involved', 'exciting', '’', 'real', 'privilege', 'senior', 'nurse', 'kim', 'also', 'leading', 'team', 'nurse', 'supporting', 'great', 'britain', 'paralympian', 'athlete', 'paralympics', '👏', 'good', 'luck', 'everyone', 'competing'], ['important', 'immunocompromised', 'people', 'get', 'vaccination', 'sonia', 'find', 'more…'], ['nh', 'rolling', 'high', 'street', 'heart', 'check', 'help', 'save', 'thousand', 'life', 'october', 'every', 'nh', 'pharmacy', 'england', 'able', 'provide', 'lifesaving', 'blood', 'pressure', 'check', 'people', 'aged', '❤️👏'], ['realised', 'much', 'enjoyed', 'caring', 'others', 'chloe', 'started', 'volunteering', 'local', 'hospital', 'pandemic', 'healthcare', 'assistant', 'thank', 'chloe', 'welcome', 'nh', '💙'], ['nurse', 'patient', 'could', 'conversation', 'experience', 'could', 'improved', 'felt', 'a…'], ['people', 'aged', 'currently', 'highest', 'covid', 'infection', 'rate', 'england', 'getting', 'jab', 'greatly', 'reduc…'], ['great', 'see', 'many', 'people', 'younger', 'cohort', 'coming', 'forward', 'covidvaccine', 'weekend', 'thank', 'you…'], ['’', 'covid', 'may', 'still', 'experiencing', 'ongoing', 'physical', 'psychological', 'symptom', '’', 'struggling', 'recover', 'covid', 'recovery', 'provides', 'advice', 'support', 'health', 'wellbeing', 'recover'], ['qni', 'joining', 'new', 'project', 'support', 'international', 'recruitment', 'registered', 'nurse', 'community', 'ser…'], ['covid', 'vaccine', 'best', 'way', 'protect', 'new', 'variant', 'virus', '’', 'already', 'book', 'appointment'], ['need', 'support', 'look', 'mental', 'health', 'please', 'use', 'staff', 'mental', 'health', 'wellbeing', 'hub', 'nh', 'set', 'hub', 'provide', 'dedicated', 'support', 'staff', 'provide', 'rapid', 'access', 'local', 'evidencebased', 'service', 'support'], ['think', 'need', 'amp', 'e', 'whilst', 'holiday', 'england', 'use', 'nh', 'first', 'nh', 'book', 'amp', 'e', 'direct', 'alternative', 'service', '’', 'appropriate', 'help', 'u', 'ensure', 'get', 'right', 'care', 'right', 'place', 'right', 'time'], ['friend', 'two', 'already', 'last', 'one', 'get', 'second', 'ellie', 'two', 'dos', 'nhscovidvaccine', 'adult', 'get', 'second', 'dose', 'eight', 'week', 'first', '’', 'delay', 'longer', '➡️', '🎥'], ['immunoglobulin', 'saved', 'family', 'plasma', 'reason', 'two', 'healthy', 'little', 'boy', 'around', 'one', 'million', 'blood', 'donation', 'year', 'used', 'make', 'lifesaving', 'plasma', 'medicine', '👏', 'help', 'family', 'like', 'kes', 'becoming', 'plasma', 'donor'], ['discomfort', 'diarrhoea', 'three', 'week', 'blood', 'pee', 'even', 'could', 'sign', 'cancer', '’', 'probably', 'nothing', 'serious', 'finding', 'cancer', 'early', 'make', 'treatable', 'nh', 'want', 'see', 'contact', 'gp', 'practice'], ['kaftrio', 'latest', 'example', 'lifechanging', 'therapy', 'nh', 'routinely', 'using', 'transform', 'life', 'patient…'], ['’', 'feeling', 'unwell', 'whilst', 'holiday', 'england', 'need', 'advice', 'pop', 'pharmacy', 'pharmacist', 'help', 'minor', 'health', 'concern', 'like', 'tummy', 'trouble', 'ache', 'pain', 'many', 'also', 'refer', 'right', 'help', '’', 'serious'], ['cystic', 'fibrosis', 'short', 'story', 'born', 'diagnosed', 'prognosis', 'lt', 'fitter', 'ever', 'literally', 'progress'], ['‘', 'see', 'family', 'grandparent', '’', 'good', 'know', '’', 'safe', '’', 'safe', 'well', '’', 'thank', 'brad', 'oscar', 'sharing', 'reason', 'getting', 'covid', 'vaccine'], ['n', 'e', 'e', 'r', 'since', 'kaftrio', 'licensed', 'year', 'tough', 'many', 'feel', 'lucky', '’', 'abl…'], ['kaftrio', 'journey', 'incredible', 'start', 'family', 'well', 'laura', 'one', 'thousand', 'people', 'cystic', 'fibrosis', 'england', 'benefited', 'lifechanging', 'drug', 'one', 'year', 'since', 'made', 'available', 'nh'], ['need', 'nh', 'think', 'online', 'first', 'need', 'medical', 'help', 'emergency', 'use', 'online', 'nh', 'book', 'amp', 'e', 'direct', 'alternative', 'service', '’', 'appropriate', 'helpushelpyou'], ['‘', 'working', 'nh', 'really', 'feel', 'job', 'make', 'difference', '’', 'help', 'people', '’', 'something', 'probably', 'need', 'point', '’', 'join', 'people', 'like', 'paul', 'part', 'one', 'trusted', 'team', 'country', 'search', '‘', 'nh', 'career', '’', 'wearethenhs'], ['today', 'plasma', 'recovered', 'blood', 'donation', 'make', 'lifesaving', 'immunoglobulin', 'blood', 'donation', 'save', 'even', 'life', '👏', 'need', 'plasma', 'donor', 'summer', 'interested', 'join', 'pool', 'plasma', 'donor'], ['‘', '’', 'way', 'start', 'monday', 'morning', '’', 'shoutout', 'call', 'handler', 'rachel', 'saw', 'supporting', 'family', 'unexpected', 'home', 'birth', 'last', 'night', '’', 'episode', '’', 'ambulance', 'earning', 'badge', '👏'], ['covid', 'vaccine', 'help', 'u', 'keep', 'enjoying', 'thing', 'love', 'book'], ['delighted', 'hear', 'call', 'involving', 'little', 'girl', 'saw', 'mum', 'recover', 'deservedly', 'rewarded', 'bravery', 'with…'], ['another', 'episode', 'ambulance', '😭', 'massive', 'respect', 'whole', 'nh', 'ambulance', 'service', '👏👏'], ['thank', 'alex', 'bravely', 'sharing', 'personal', 'experience', 'working', 'frontline', 'tonight', '’', 'ambulance', 'remarkable', 'colleague', 'faced', 'challenging', 'time', '’', 'important', 'seek', 'help', 'needed', '’', 'struggling', 'please', 'come', 'forward'], ['calm', 'composure', 'call', 'handler', 'amazing', '❤', 'ambulance'], ['look', 'colleague', 'ambulance', 'service', 'health', 'service', '’', 'amazing', 'job', 'the…'], ['need', 'medical', 'help', 'emergency', 'use', 'online', 'nh', 'book', 'amp', 'e', 'direct', 'alternative', 'service', '’', 'appropriate', 'need', 'nh', 'think', 'online', 'first', 'helpushelpyou'], ['join', 'national', 'expert', 'masterclass', 'covid', 'infection', 'pregnancy', 'including', 'science', 'behind', 'the…'], ['‘', 'really', 'keen', 'get', 'vaccinated', '’', 'right', 'thing', 'protect', 'others', 'around', 'well', 'done', 'yearold', 'xavier', 'felt', 'confident', 'getting', 'nhscovidvaccine', 'recently'], ['invitation', 'get', 'nhscovidvaccine', 'sent', 'year', 'old', 'today', 'letter', 'sent', 'inviting', 'come', 'nearest', 'walkin', 'centre', 'many', 'already', 'received', 'invitation', 'gp', 'taking', 'offer'], ['allnew', 'ambulance', 'tonight', 'week', 'episode', 'look', 'back', 'second', 'wave', 'pandemic', 'continue…'], ['nh', 'support', 'mental', 'health', 'wellbeing', 'whether', '’', 'accessing', 'urgent', 'mental', 'health', 'support', 'finding', 'help', 'available', 'visit', 'nh', 'mental', 'health', 'hub'], ['made', 'much', 'easier', 'walk', 'done', 'issue', 'join', 'million', 'like', 'anthony', 'protecting', 'covid', 'adult', 'eligible', 'nhscovidvaccine', '🎥'], ['first', 'call', 'help', 'take', 'courage', 'someone', 'know', 'veteran', 'may', 'struggling', 'week', 'opcourage', 'help', 'make', 'sure', 'get', 'right', 'care', 'support', 'need', '➡️'], ['news', 'feel', 'overwhelming', 'right', 'experienced', 'impact', 'covid', 'differently', 'important', 'look', 'well', 'find', 'simple', 'tip', 'advice', 'every', 'mind', 'matter', 'covid', 'hub', '🧠'], ['covid', 'vaccine', 'best', 'way', 'protect', 'new', 'variant', 'virus', '’', 'already', 'book', 'appointment'], ['think', 'reminds', 'tough', 'time', 'proud', 'coming', 'nurse', 'petro', 'captured', 'colleague', 'working', 'frontline', 'see', 'photo', 'new', 'exhibition', 'behindcloseddoors'], ['thank', 'everyone', 'sending', 'kind', 'supportive', 'message', 'past', 'week', 'started', 'c…'], ['loved', 'one', 'covid', 'experiencing', 'ongoing', 'symptom', 'find', 'support', 'advice', 'help', 'road', 'recovery', 'home'], ['thank', 'brad', 'oscar', 'protecting', 'playing', 'part', 'beating', 'covid', 'b…'], ['bring', 'appointment', 'second', 'dose', 'nhscovidvaccine', 'forward', 'eight', 'week', 'since', 'your…'], ['symptom', 'heart', 'attack', 'include', 'heavy', 'tight', 'chest', 'pain', 'may', 'spread', 'arm', 'neck', 'jaw', 'make', 'breathless', 'sick', 'sweaty', 'lightheaded', 'experience', 'symptom', 'call', 'nh', 'still', 'see', 'safely', 'helpushelpyou'], ['let', 'get', 'back', 'thing', 'love', 'book', 'vaccine'], ['work', 'becomes', 'challenging', 'better', 'cure', 'roll', 'around', 'mat', 'specialist', 'critical', 'care', 'physiotherapist', 'sam', 'also', 'brazilian', 'jiu', 'jitsu', 'athlete', 'read', 'balance', 'two', 'career'], ['discomfort', 'diarrhoea', 'three', 'week', 'blood', 'pee', 'even', 'could', 'sign', 'cancer', '’', 'probably', 'nothing', 'serious', 'finding', 'cancer', 'early', 'make', 'treatable', 'nh', 'want', 'see', 'contact', 'gp', 'practice'], ['idea', 'getting', '‘', 'back', 'normal', '’', 'causing', 'worry', 'lot', 'way', 'make', 'time', 'easier', 'visit', 'every', 'mind', 'matter', 'covid', 'hub', 'simple', 'tip', 'advice', '🧠'], ['loved', 'one', 'covid', 'experiencing', 'ongoing', 'symptom', 'find', 'support', 'advice', 'help', 'road', 'recovery', 'home'], ['going', 'holiday', 'england', 'remember', 'pack', 'medicine', '🏖️', 'also', 'good', 'idea', 'make', 'sure', '’', 'got', 'contact', 'detail', 'gp', 'practice', 'home', 'still', 'help', '’', 'away'], ['game', 'changer', 'meet', 'baby', 'edward', 'family', 'edward', 'spinal', 'muscular', 'atrophy', 'recently', 'received', 'potentially', 'lifesaving', 'drug', 'zolgensma', 'wish', 'best', 'baby', 'edward', '💙', '🎥'], ['looking', 'wellbeing', 'ournhspeople', 'mean', 'better', 'look', 'patient', 'finding', 'thing', 'difficult', 'challenging', 'moment', 'would', 'like', 'speak', 'someone', 'please', 'call', 'text', 'visit', '📞', '💬'], ['always', 'issue', 'needle', 'jen', 'really', 'helped', 'overcome', 'shout', 'vaccinator', 'jen', 'making', 'people', 'feel', 'calm', 'getting', 'nhscovidvaccine', '👏', 'thank', 'staff', 'volunteer', 'like', 'jen', 'work', 'vaccine', 'rollout'], ['research', 'show', 'people', 'would', 'delay', 'seeking', 'medical', 'advice', 'compared', 'pandemic', 'national', 'clinical', 'director', 'cancer', 'urge', 'anyone', 'worried', 'symptom', 'come', 'forward', 'nh', 'see', 'safely', '🎥'], ['finding', 'cancer', 'early', 'make', 'treatable', 'save', 'life', 'experiencing', 'worrying', 'symptom', 'diarrhoea', 'tummy', 'discomfort', 'three', 'week', 'blood', 'pee', 'even', 'contact', 'gp', 'practice'], ['nh', 'support', 'mental', 'health', 'wellbeing', 'whether', '’', 'accessing', 'urgent', 'mental', 'health', 'support', 'finding', 'help', 'available', 'visit', 'nh', 'mental', 'health', 'hub'], ['‘', '’', 'job', 'different', 'every', 'day', '’', 'somebody', '’', 'quite', 'hand', '’', 'got', 'give', 'go', '’', 'ripal', 'one', 'amazing', 'podiatrist', 'share', 'job', 'nh', 'like', 'search', '‘', 'nh', 'career', '’', 'today', 'wearethenhs'], ['young', 'people', 'aged', 'england', 'first', 'dose', 'covid', 'vaccine', '💉', 'yet', 'late', 'visit', 'get', 'started'], ['need', 'access', 'gp', 'practice', 'whilst', 'holiday', 'england', 'usual', 'gp', 'practice', 'still', 'help', 'phone', 'video', 'online', 'consultation', '’', 'medical', 'record', 'hand', 'always', 'contact', 'first'], ['let', 'get', 'back', 'thing', 'love', 'yet', 'covidvaccine', 'late', 'book', 'online', 'a…'], ['’', 'vaccination', 'care', 'volunteer', 'exciting', 'get', 'make', 'difference', 'yearold', 'faleeha', 'nh', 'cadet', 'graduate', 'want', 'pursue', 'career', 'nh', 'feleeha', 'wish', 'best', 'future'], ['adult', 'england', 'dos', 'nhscovidvaccine', '💉💉', 'join', 'dr', 'stanley', 'stephanie', 'rosita', 'protected', 'covid', 'adult', 'get', 'second', 'dose', 'eight', 'week', 'first'], ['set', 'alarm', 'new', 'series', 'ambulance', 'start', 'tonight', 'featuring', 'staff', 'merseyside', 'action…'], ['many', 'young', 'people', 'received', 'result', 'morning', 'congratulation', 'got', 'result', 'you…'], ['“', '’', 'honest', '’', 'think', '’', 'make', 'age', '”', 'ask', 'daniel', 'changed', 'life', 'forever', 'on…'], ['teeth', 'gum', 'healthy', 'checkup', 'may', 'needed', 'month', 'think', 'need', 'dental', 'treatment', 'contact', 'dental', 'practice', 'phone', 'email', 'advice', 'dentist', 'seeing', 'patient', 'order', 'priority', 'helpushelpyou'], ['skyline', 'frontline', '✈️💙', 'thank', 'cabin', 'crew', 'staff', 'supported', 'nh', 'travel', 'restricted', 'returned', 'flying', 'cabin', 'crew', 'member', 'worked', 'shared', 'thought', 'working', 'nh'], ['running', 'series', 'webinars', 'focusing', 'key', 'priority', 'improving', 'health', 'inequality', '✅restoring', 'n…'], ['’', 'aged', 'turning', 'within', 'next', 'three', 'month', 'book', 'covid', 'vaccine', 'online', 'without', 'needing', 'go', 'via', 'gp', 'visit', 'get', 'started'], ['need', 'medical', 'help', 'emergency', 'use', 'online', 'nh', 'book', 'amp', 'e', 'direct', 'alternative', 'service', '’', 'appropriate', 'need', 'nh', 'think', 'online', 'first', 'helpushelpyou'], ['’', 'feeling', 'unwell', 'whilst', 'holiday', 'england', 'need', 'advice', 'pop', 'pharmacy', 'pharmacist', 'help', 'minor', 'health', 'concern', 'like', 'tummy', 'trouble', 'ache', 'pain', 'many', 'also', 'refer', 'right', 'help', '’', 'serious'], ['lockdown', 'restriction', 'may', 'eased', '’', 'continuing', 'work', 'home', 'many', 'way', 'make', 'little', 'easier', 'visit', 'every', 'mind', 'matter', 'covid', 'hub', 'simple', 'tip', 'advice'], ['covid', 'vaccine', 'best', 'way', 'protect', 'new', 'variant', 'virus', 'already', 'book', 'ap…'], ['volunteering', 'rewarding', 'gave', 'great', 'introduction', 'pathology', 'work', 'nh', 'right', 'job', 'came', 'immediately', 'applied', 'lucky', 'enough', 'get', 'post', 'welcome', 'nh', 'claudia', '💙', 'find', 'get', 'involved', '➡️'], ['covidvaccine', 'expected', 'high', 'standard', 'safety', 'quality', 'efficacy', 'medicine', 'vaccine', 'information', 'covid', 'vaccine', 'visit'], ['need', 'support', 'look', 'mental', 'health', 'please', 'use', 'staff', 'mental', 'health', 'wellbeing', 'hub', 'nh', 'set', 'hub', 'provide', 'dedicated', 'support', 'staff', 'provide', 'rapid', 'access', 'local', 'evidencebased', 'service', 'support'], ['📣', 'three', 'four', 'uk', 'adult', 'dos', 'vaccine', 'getting', 'second', 'dose', 'best', 'way', 'ensure', 'y…'], ['think', 'need', 'amp', 'e', 'whilst', 'holiday', 'england', 'use', 'nh', 'first', 'nh', 'book', 'amp', 'e', 'direct', 'alternative', 'service', '’', 'appropriate', 'help', 'u', 'ensure', 'get', 'right', 'care', 'right', 'place', 'right', 'time'], ['good', 'luck', 'everyone', 'getting', 'alevelresults', 'today', '’', 'looking', 'rewarding', 'career', 'allows', 'make…'], ['congratulation', 'halima', 'achieved', 'highest', 'grade', 'triple', 'distinction', 'health', 'social', 'care', 'going', 't…'], ['another', 'top', 'achiever', 'harry', 'preston', 'achieved', 'grade', 'biology', 'chemistry', 'math', 'one', 'step', 'closer', 'ach…'], ['proud', 'nurse', 'today', 'bursting', 'pride', 'daughter', 'hannah', 'successful', 'getting', 'le…'], ['’', 'get', 'grade', 'needed', 'study', 'nursing', 'level', 'went', 'back', 'education', 'went', 'uni', 'later', 'than…'], ['got', 'king', 'college', '’', 'wait', 'fav', 'midwife', '😩😩😩😩', 'hard', 'work', 'pay', 'alevelresults', 'resultsday'], ['alevelresults', 'day', 'mental', 'health', 'nurse', 'rebecca', 'answering', 'question', 'career', 'journey', 'instagram', 'story', '’', 'looking', 'rewarding', 'career', 'allows', 'change', 'life', 'nursing', 'degree', 'could', 'perfect', 'wearethenhs'], ['good', 'luck', 'everyone', 'getting', 'alevelresults', 'today', 'career', 'privileged', 'work', 'many', 'ta…'], ['best', 'luck', 'everyone', 'getting', 'alevelresults', 'today', '💙', 'nhsrelated', 'university', 'course', 'could', 'take', 'leading', 'one', 'rewarding', 'career', 'nh', 'search', 'nh', 'career', 'find', 'wearethenhs'], ['felt', 'like', 'friendship', 'milestone', 'privilege', 'go', 'get', 'vaccinated', 'together', 'friend', 'stephanie', 'rosita', 'dos', 'nhscovidvaccine', 'adult', 'get', 'second', 'dose', 'vaccine', 'eight', 'week', 'first'], ['nh', 'blood', 'transplant', 'need', 'plasma', 'donor', 'summer', 'interested', 'join', 'pool', 'plasma', 'donor', 'start', 'saving', 'life', '➡️'], ['congrats', 'blackburn', 'rover', 'beating', 'swansea', 'weekend', 'opening', 'game', 'championship', 'also', 'bols…'], ['feeling', 'low', 'anxious', 'struggling', 'sleep', 'continue', 'making', 'time', 'mental', 'wellbeing', 'visit', 'every', 'mind', 'matter', 'get', 'free', 'personalised', 'mental', 'health', 'action', 'plan', 'simple', 'tip', 'get', 'started'], ['’', 'suffering', 'diarrhoea', 'bloating', 'discomfort', 'three', 'week', 'could', 'sign', 'cancer', 'please', 'speak', 'gp', 'finding', 'cancer', 'early', 'make', 'treatable', 'helpushelpyou'], ['need', 'access', 'gp', 'practice', 'whilst', 'holiday', 'england', 'usual', 'gp', 'practice', 'still', 'help', 'phone', 'video', 'online', 'consultation', '’', 'medical', 'record', 'hand', 'always', 'contact', 'first'], ['plasma', 'donation', 'reason', 'two', 'healthy', 'little', 'boy', 'keep', 'toe', 'gave', 'gift', 'life', 'youngest', 'saved', 'life', 'eldest', 'trevor', 'mum', 'kes', 'know', 'value', 'blood', 'plasma', 'donate', 'today', 'savelives'], ['‘', '’', 'job', 'different', 'every', 'day', '’', 'somebody', '’', 'quite', 'hand', '’', 'got', 'give', 'go', '’', 'ripal', 'one', 'amazing', 'podiatrist', 'share', 'job', 'nh', 'like', 'search', '‘', 'nh', 'career', '’', 'today', 'wearethenhs'], ['recovery', 'covid', 'take', 'time', 'may', 'experiencing', 'symptom', 'going', 'away', 'covid', 'recovery', 'information', 'rehabilitation', 'expert', 'patient', 'mental', 'health', 'wellbeing', 'physical', 'health', 'returning', 'work'], ['“', 'represent', 'best', 'society', 'community', 'want', 'see', 'strive', 'flourish', '”'], ['getting', 'covid', 'vaccine', 'give', 'hope', 'adult', 'eligible', 'nhscovidvaccine', 'epilepsy', 'like', 'cece', 'fully', 'vaccinated', 'provides', 'maximum', 'protection', 'covid', 'important', 'attend', 'appointment'], ['need', 'nh', 'think', 'online', 'first', 'need', 'medical', 'help', 'emergency', 'use', 'online', 'nh', 'book', 'amp', 'e', 'direct', 'alternative', 'service', '’', 'appropriate', 'helpushelpyou'], ['congratulation', 'nh', 'cadet', 'graduation', 'today', '🎉', 'nhscadets', 'run', 'support', 'teenager', 'develop', 'skill', 'needed', 'career', 'healthcare', 'past', 'year', 'undergone', 'first', 'aid', 'training', 'volunteered', 'vaccination', 'site'], ['going', 'holiday', 'england', 'remember', 'pack', 'medicine', '🏖️', 'also', 'good', 'idea', 'make', 'sure', '’', 'got', 'contact', 'detail', 'gp', 'practice', 'home', 'still', 'help', '’', 'away'], ['million', 'child', 'young', 'people', 'get', 'nhscovidvaccine', 'latest', 'stage', 'nh', 'vaccination', 'programme', 'yearolds', 'country', '’', 'vulnerable', 'child', 'live', 'vulnerable', 'adult', 'eligible', '➡️'], ['“', 'clinically', 'vulnerable', 'people', 'time', 'likely', 'become', 'seriously', 'ill', 'peer', '”', 'clini…'], ['breastfeeding', 'bring', 'many', 'benefit', 'baby', 'world', 'breastfeeding', 'week', 'find', 'whether', 'choice', 'find', 'information', 'support', '➡️'], ['september', 'people', 'required', 'two', 'dos', 'covid', 'vaccine', 'enter', 'nightclub', 'large', 'scale', 'ev…'], ['‘', 'bryson', 'ray', 'sunshine', 'since', 'started', 'working', 'seeing', 'walk', 'school', 'memory', '’', 'cherish', 'forever', 'shout', 'physiotherapist', 'lorna', 'recently', 'supported', 'bryson', 'cerebral', 'palsy', 'walk', 'school', 'unassisted', '💪'], ['’', 'five', 'second', '’', 'harry', 'overcame', 'fear', 'needle', 'nhscovidvaccine', 'staff', 'experienced', 'help', 'feel', 'comfortable', 'getting', 'vaccine', '🎥'], ['plasma', 'donation', 'important', 'anything', 'without', 'would', 'little', 'boy', 'harley', 'acute', 'lymphoblastic', 'leukaemia', 'relies', 'plasma', 'create', 'new', 'antibody', 'need', 'new', 'donor', 'save', 'life', 'donate'], ['getting', 'covid', 'vaccine', 'give', 'hope', 'adult', 'eligible', 'nhscovidvaccine', 'kidney', 'disease', 'like', 'maddy', 'fully', 'vaccinated', 'provides', 'maximum', 'protection', 'covid', 'important', 'attend', 'appointment'], ['‘', 'cycle', 'work', '’', 'whole', 'different', 'meaning', 'incredible', 'paramedic', 'highly', 'skilled', 'cycling', 'emergency', 'across', 'london', 'whilst', 'working', 'significant', 'pressure', 'come', 'rain', 'shine', 'keep', 'great', 'work', 'team', '🚴💙', 'cycletoworkday'], ['join', 'expert', 'dr', 'consultant', 'respiratory', 'physician', 'dr', 'binita', 'kane', 'saturday', 'discus', 'impact', 'covid', 'ethnic', 'minority', 'community', 'including', 'south', 'asian', 'origin', 'register', 'place', '➡️'], ['first', 'visit', 'chief', 'executive', 'met', 'incredible', 'team', 'woodhatch', 'place', 'reiga…'], ['nh', 'chief', 'executive', 'urged', 'young', 'people', 'get', 'nhscovidvaccine', 'figure', 'reveal', 'aged', 'make', 'one', 'five', 'admitted', 'hospital', 'virus', 'yet', 'book', 'today', '💉'], ['pfizer', 'dancefloor', 'weekend', 'heaven', 'nightclub', '💃💉', 'join', 'team', 'gay', 'sunday', 'august'], ['symptom', 'heart', 'attack', 'include', 'heavy', 'tight', 'chest', 'pain', 'may', 'spread', 'arm', 'neck', 'jaw', 'make', 'breathless', 'sick', 'sweaty', 'lightheaded', 'experience', 'symptom', 'call', 'nh', 'still', 'see', 'safely', 'helpushelpyou'], ['still', 'safely', 'seeing', 'pregnant', 'woman', 'every', 'day', 'please', 'attend', 'checkup', 'speak', 'midwife', 'concern', 'nh', 'see', 'safely', 'helpushelpyou'], ['might', 'finding', 'thing', 'tough', 'year', 'lot', 'thing', 'feel', 'better', 'visit', 'every', 'mind', 'matter', 'covid', 'hub', 'simple', 'tip'], ['‘', 'feeling', 'gratitude', 'excitement', 'got', 'second', 'jab', 'something', '’', 'forget', 'time', 'soon', '’', 'join', 'omid', 'million', 'others', 'nhscovidvaccine', 'search', 'nh', 'covid', 'vaccine', 'book', 'appointment'], ['‘', 'role', 'radiographer', 'really', 'significant', '’', 'often', 'one', 'key', 'people', 'involved', 'start', 'help', 'diagnose', 'wrong', '’', 'diagnostic', 'radiographer', 'rupert', 'share', 'meeting', 'radiographer', 'patient', 'inspired', 'become', 'one', 'wearethenhs'], ['need', 'support', 'look', 'mental', 'health', 'please', 'use', 'staff', 'mental', 'health', 'wellbeing', 'hub', 'nh', 'set', 'hub', 'provide', 'dedicated', 'support', 'staff', 'provide', 'rapid', 'access', 'local', 'evidencebased', 'service', 'support'], ['someone', 'covid', 'treated', 'hundred', 'positive', 'patient', 'seriousness', 'virus', 'age', 'group', 'underestimated', 'junior', 'doctor', 'know', 'effect', 'covid', 'vaccine', 'best', 'protection'], ['nh', 'blood', 'transplant', 'need', 'plasma', 'donor', 'summer', 'interested', 'join', 'pool', 'plasma', 'donor', 'start', 'saving', 'life', '➡️'], ['new', 'nh', 'chief', 'executive', '’', 'like', 'thank', 'staff', 'everything', 'done', 'throughout', 'covid', 'pandemic', '’'], ['let', 'get', 'back', 'thing', 'love', 'book', 'vaccine'], ['💙'], ['world', 'breastfeeding', 'week', '’', 'normal', 'need', 'help', 'breastfeeding', 'find', 'support', 'answer', 'frequ…'], ['‘', 'felt', 'extremely', 'nervous', 'jab', '’', 'fear', 'needle', 'like', 'khadijah', 'staff', 'help', 'feel', 'comfortable', 'getting', 'nhscovidvaccine', 'let', 'know', '’', 'anxious', 'concern', 'attend', 'appointment', '🎥'], ['every', 'patient', 'need', 'kidney', 'dialysis', 'benefit', 'free', 'transport', 'vital', 'hospital', 'appointment', 'new', 'rule', 'make', 'simpler', 'patient', 'get', 'free', 'transport', 'including', 'long', 'term', 'condition', 'mobility', 'problem'], ['remember', 'fast', 'sign', 'stroke', 'face', 'face', 'fallen', 'one', 'side', 'arm', 'raise', 'arm', 'keep', 'speech', 'slurred', 'time', '’', 'time', 'call', 'stroke', 'strike', 'remember', 'actfast'], ['‘', 'part', 'nh', 'affords', 'opportunity', 'learn', 'lot', 'people', 'look', '’', 'rewarding', 'career', 'nh', 'search', '‘', 'nh', 'career', '’', 'find', 'one', 'could', 'wearethenhs'], ['thanks', 'gill', 'putting', 'advice', 'twitter', 'acceptable', 'receive', 'abuse', 'teamcno', 'appreciates', 'support', 'r'], ['since', 'pandemic', 'began', 'worked', 'hard', 'get', 'best', 'advice', 'support', 'member', 'pregnant', 'woman', 'yes…'], ['’', 'covid', 'may', 'still', 'experiencing', 'ongoing', 'physical', 'psychological', 'symptom', '’', 'struggling', 'recover', 'covid', 'recovery', 'provides', 'advice', 'support', 'health', 'wellbeing', 'recover'], ['symptom', 'cough', 'put', 'smoking', 'danny', 'attended', 'lung', 'health', 'check', 'large', 'growth', 'found', 'successful', 'operation', 'cancer', 'free', 'cough', 'three', 'week', 'contact', 'gp', 'practice', 'lungcancerday'], ['need', 'medical', 'help', 'emergency', 'contact', 'first', 'able', 'advise', 'service', 'need', 'book', 'amp', 'e', 'helpushelpyou'], ['feeling', 'low', 'anxious', 'struggling', 'sleep', 'continue', 'making', 'time', 'mental', 'wellbeing', 'visit', 'every', 'mind', 'matter', 'get', 'free', 'personalised', 'mental', 'health', 'action', 'plan', 'simple', 'tip', 'get', 'started'], ['everything', 'bring', 'hepatitis', 'c', 'testing', 'treatment', 'patient', 'thanks', 'nurse', 'like', 'jane', 'sophie', 'work', 'community', 'direct', 'impact', '’', 'help', 'eliminate', 'hepatitis', 'c', 'england']]\n"
          ]
        }
      ]
    },
    {
      "cell_type": "markdown",
      "metadata": {
        "id": "rdjNF2tEUDKF"
      },
      "source": [
        "# Another Cleanning"
      ]
    },
    {
      "cell_type": "code",
      "metadata": {
        "id": "LKMKi2OZUCMJ"
      },
      "source": [
        "\n",
        "with open(\"./{screenname}-Tweets.csv\".format(screenname=screen_name),'w') as f:\n",
        "    f.write('Tweets')\n",
        "    f.writelines('\\n')\n",
        "    for sublist in preprocessed_docs:\n",
        "        for item in sublist:\n",
        "          if item.lower() not in {\"’\",\"nt\",\"‘\",\"…\",\"rt\",\"—\",\"–\",\"nh\",\"youve\",\"youre\",\"weve\",\"u\",\"ve\",\"re\",\"“\"}:\n",
        "            f.write(item.lower() + ' ')\n",
        "        f.writelines('\\n')\n",
        "\n",
        "\n",
        "# for sublist in preprocessed_docs:\n",
        "#         for item in sublist:\n",
        "#           if item.lower() in {\"’\",\"nt\",\"‘\",\"…\",\"rt\",\"—\",\"–\",\"nh\",\"youve\",\"weve\",\"u\",\"ve\",\"re\",\"“\"}:\n",
        "#             sublist.remove(item)\n",
        "\n",
        "# preprocessed_docs"
      ],
      "execution_count": 17,
      "outputs": []
    },
    {
      "cell_type": "markdown",
      "metadata": {
        "id": "Znh0Jl6UUdDX"
      },
      "source": [
        "# Vectorization"
      ]
    },
    {
      "cell_type": "code",
      "metadata": {
        "id": "2woviKgMUZ0a"
      },
      "source": [
        "import spacy\n",
        "!python -m spacy download en_core_web_lg\n",
        "import en_core_web_lg\n",
        "nlp = en_core_web_lg.load()"
      ],
      "execution_count": null,
      "outputs": []
    },
    {
      "cell_type": "code",
      "metadata": {
        "id": "P_gJid-GUg2W"
      },
      "source": [
        "def get_vec(x):\n",
        "      doc = nlp(x)\n",
        "      vec = doc.vector\n",
        "      return vec\n",
        "\n",
        "df=pd.read_csv(\"./{screenname}-Tweets.csv\".format(screenname=screen_name))\n",
        "\n",
        "df['vec'] = df['Tweets'].apply(lambda x: get_vec(x))\n",
        "df.to_csv(\"./{screenname}-Final-Vectorized.csv\".format(screenname=screen_name))\n",
        "print(df.head())"
      ],
      "execution_count": null,
      "outputs": []
    },
    {
      "cell_type": "code",
      "metadata": {
        "id": "X_W8PNAc85pZ"
      },
      "source": [
        "#!pip install wordcloud-fa\n",
        "# import matplotlib.pyplot as plt\n",
        "# from wordcloud_fa import WordCloudFa\n",
        "\n",
        "\n",
        "# dd = pd.read_csv(\"./{screenname}-Final-Vectorized.csv\".format(screenname=screen_name))\n",
        "\n",
        "# text=' '.join(dd[\"Tweets\"].tolist())\n",
        "\n",
        "# wordcloud = WordCloudFa(include_numbers=True,width=1920,height=1080)\n",
        "\n",
        "# wc = wordcloud.generate(text)\n",
        "# image = wc.to_image()\n",
        "# image.show()\n",
        "# image.save('wordcloud.png')\n",
        "# plt.figure(figsize=(10,10))\n",
        "# plt.imshow(wordcloud)\n",
        "# plt.axis('off')\n",
        "# plt.tight_layout(pad=0)\n",
        "# plt.show()"
      ],
      "execution_count": null,
      "outputs": []
    },
    {
      "cell_type": "markdown",
      "metadata": {
        "id": "yF_lRBJHUvMp"
      },
      "source": [
        "# WordCloud"
      ]
    },
    {
      "cell_type": "code",
      "metadata": {
        "id": "c5-aFhn-Uw3j"
      },
      "source": [
        "\n",
        "import wordcloud\n",
        "from wordcloud import WordCloud\n",
        "import matplotlib.pyplot as plt\n",
        "\n",
        "dd = pd.read_csv(\"./{screenname}-Final-Vectorized.csv\".format(screenname=screen_name))\n",
        "\n",
        "text=' '.join(dd[\"Tweets\"].tolist())\n",
        "result = ''.join([i for i in text if not i.isdigit()])\n",
        "\n",
        "wordcloud = WordCloud(width=1920,height=1080, background_color=\"black\").generate(text)\n",
        "# plt.figure(figsize=(10,10))\n",
        "#plt.imshow(wordcloud, interpolation=\"bilinear\")\n",
        "# plt.axis(\"off\")\n",
        "# plt.show()\n",
        "plt.figure(figsize=(10,10))\n",
        "plt.imshow(wordcloud)\n",
        "plt.axis('off')\n",
        "plt.tight_layout(pad=0)\n",
        "plt.show()"
      ],
      "execution_count": null,
      "outputs": []
    },
    {
      "cell_type": "markdown",
      "metadata": {
        "id": "tc4Lnt8FSRJm"
      },
      "source": [
        "# Correlation (Document to Matrix DTM)"
      ]
    },
    {
      "cell_type": "code",
      "metadata": {
        "id": "vbkX7RxTivQu"
      },
      "source": [
        "from sklearn.feature_extraction.text import CountVectorizer\n",
        "import pickle\n",
        "import pandas as pd\n",
        "\n",
        "dd = pd.read_csv(\"./{screenname}-Final-Vectorized.csv\".format(screenname=screen_name))\n",
        "cv = CountVectorizer(stop_words='english')\n",
        "data_cv = cv.fit_transform(dd['Tweets'])\n",
        "data_dtm = pd.DataFrame(data_cv.toarray(), columns=cv.get_feature_names())\n",
        "data_dtm.index = dd['Tweets'].index\n",
        "result = ' '.join([i for i in data_dtm if not i.isdigit()])\n",
        "#print(result)\n",
        "#print(\"Number of Repeats in Tweets: \\n\" , data_dtm)\n",
        "\n",
        "data_dtm.to_pickle(\"dtm.pkl\") #Document-To-Matrix\n",
        "pickle.dump(data_cv, open(\"data_cv.pkl\", \"wb\"))\n",
        "pickle.dump(cv, open(\"cv.pkl\", \"wb\")) #CountVectorize\n",
        "correlation = data_dtm.corr(method='pearson', min_periods=1)\n",
        "\n",
        "print(\"Correlation: \\n\" , correlation)\n",
        "\n"
      ],
      "execution_count": null,
      "outputs": []
    },
    {
      "cell_type": "code",
      "metadata": {
        "id": "qpEq6R-rrP7Q"
      },
      "source": [
        "import pandas as pd\n",
        "\n",
        "# data = pd.read_pickle('dtm.pkl')\n",
        "data = pd.read_pickle('dtm.pkl')\n",
        "data = data.transpose()\n",
        "data"
      ],
      "execution_count": null,
      "outputs": []
    },
    {
      "cell_type": "code",
      "metadata": {
        "id": "qnVKZ_6zrTAb"
      },
      "source": [
        "top_dict = {}\n",
        "\n",
        "for c in data:\n",
        "    top = data[c].sort_values(ascending=False).head()\n",
        "    top_dict[c]= list(zip(top.index, top.values))\n",
        "\n",
        "top_dict"
      ],
      "execution_count": null,
      "outputs": []
    },
    {
      "cell_type": "code",
      "metadata": {
        "id": "KQOBNKt5rg_m"
      },
      "source": [
        "for word, top_words in top_dict.items():\n",
        "    print(word)\n",
        "    print(', '.join([word for word, count in top_words]))\n",
        "    print('---')"
      ],
      "execution_count": null,
      "outputs": []
    },
    {
      "cell_type": "markdown",
      "metadata": {
        "id": "Oj2HCBzUSWgG"
      },
      "source": [
        "# Polarity and Subjectivity"
      ]
    },
    {
      "cell_type": "code",
      "metadata": {
        "id": "DAkToPWApS-d"
      },
      "source": [
        "from textblob import *\n",
        "dq = pd.read_csv(\"./{screenname}-Final-Vectorized.csv\".format(screenname=screen_name))\n",
        "#pol = lambda x: TextBlob(x).sentiment.polarity\n",
        "#sub = lambda x: TextBlob(x).sentiment.subjectivity\n",
        "#correct =  lambda x: TextBlob(x).correct\n",
        "\n",
        "# print(dq['Tweets'].values[0])\n",
        "\n",
        "def polarity(x):\n",
        "  blob = TextBlob(x)\n",
        "  return blob.sentiment.polarity\n",
        "\n",
        "def subjectivity(x):\n",
        "  blob = TextBlob(x)\n",
        "  return blob.sentiment.subjectivity\n",
        "\n",
        "  #print(blob.correct)\n",
        "dq['polarity'] = dq['Tweets'].apply(lambda x: polarity(x))\n",
        "dq['subjectivity'] = dq['Tweets'].apply(lambda x: subjectivity(x))\n",
        "  #data['subjectivity'].values[i]=blob.sentiment.subjectivity\n",
        " # print(blob.sentiment)\n",
        "  #data['polarity'] = pol(b)\n",
        "  #data['subjectivity'] = i.apply(sub)\n",
        "\n",
        "dq.to_csv(\"./{screenname}-Final-Vec-Pol-Subj.csv\".format(screenname=screen_name))\n",
        "\n",
        "import pickle\n",
        "#data_dtm.to_pickle(\"dtm.pkl\")\n",
        "dq['Tweets'].to_pickle(\"dc.pkl\")#Data Clean to Pickle"
      ],
      "execution_count": null,
      "outputs": []
    },
    {
      "cell_type": "markdown",
      "metadata": {
        "id": "2GVwq5MZGrN9"
      },
      "source": [
        "# Scatter Plot"
      ]
    },
    {
      "cell_type": "code",
      "metadata": {
        "id": "0uV8fgUXSk3g"
      },
      "source": [
        "import matplotlib.pyplot as plt\n",
        "\n",
        "plt.rcParams['figure.figsize'] = [10, 8]\n",
        "\n",
        "for item in dq.index:\n",
        "    x = dq.polarity.loc[item]\n",
        "    y = dq.subjectivity.loc[item]\n",
        "    plt.scatter(x, y, color='blue')\n",
        "   # plt.text(.001, .001,'happy', fontsize=10)\n",
        "    plt.xlim(-1.1, 1.1) \n",
        "    plt.ylim(-.1, 1.1) \n",
        "    \n",
        "plt.title(\"{screenname}: Sentiment Analysis\".format(screenname=screen_name), fontsize=20)\n",
        "plt.xlabel('<-- Negative ---------- Positive -->', fontsize=15)\n",
        "plt.ylabel('<-- Facts ---------- Opinions -->', fontsize=15)\n",
        "plt.hlines(0.5, -1.1, 1.1, colors=None, linestyles='solid', label='')\n",
        "plt.vlines(0, -.1, 1.1, colors=None, linestyles='solid', label='')\n",
        "plt.show()\n"
      ],
      "execution_count": null,
      "outputs": []
    },
    {
      "cell_type": "code",
      "metadata": {
        "id": "C-kHDBwuaOzJ"
      },
      "source": [
        "import matplotlib.pyplot as plt\n",
        "from textblob import *\n",
        "plt.rcParams['figure.figsize'] = [10, 8]\n",
        "\n",
        "#mlob = TextBlob(text)\n",
        "\n",
        "# x = mlob.sentiment.polarity\n",
        "# y = mlob.sentiment.subjectivity\n",
        "\n",
        "x=0\n",
        "for i in range(0,dq['polarity'].values.shape[0]):\n",
        "  x = dq['polarity'][i]+x\n",
        "print(\"Polarity mean:\",x/100)\n",
        "\n",
        "\n",
        "y=0\n",
        "\n",
        "for i in range(0,dq['subjectivity'].values.shape[0]):\n",
        "  y = dq['subjectivity'][i]+y\n",
        "\n",
        "print(\"subjectivity mean:\",y/100)\n",
        "\n",
        "plt.scatter(x/100, y/100, color='blue')\n",
        "# plt.text(.001, .001,'happy', fontsize=10)\n",
        "plt.xlim(-1.1, 1.1) \n",
        "plt.ylim(-.1, 1.1) \n",
        "    \n",
        "plt.title(\"{screenname}: Sentiment Analysis All of it\".format(screenname=screen_name), fontsize=20)\n",
        "plt.xlabel('<-- Negative ---------- Positive -->', fontsize=15)\n",
        "plt.ylabel('<-- Facts ---------- Opinions -->', fontsize=15)\n",
        "plt.hlines(0.5, -1.1, 1.1, colors=None, linestyles='solid', label='')\n",
        "plt.vlines(0, -.1, 1.1, colors=None, linestyles='solid', label='')\n",
        "plt.show()\n"
      ],
      "execution_count": null,
      "outputs": []
    },
    {
      "cell_type": "code",
      "metadata": {
        "id": "BR7czft-fmPc"
      },
      "source": [
        "dq['Tweets']"
      ],
      "execution_count": null,
      "outputs": []
    },
    {
      "cell_type": "code",
      "metadata": {
        "id": "1wgEvvbXcgia"
      },
      "source": [
        "\n",
        "\n",
        "# Show the plot for every tweet\n",
        "plt.rcParams['figure.figsize'] = [20, 8]\n",
        "plt.plot(dq['polarity'],label='Polarity')\n",
        "plt.plot(dq['subjectivity'],label='Subjectivity')\n",
        "plt.hlines(0.0, -1.0, 200, colors='red', linestyles='solid', label='')\n",
        "plt.title(\"{screenname}\".format(screenname=screen_name))\n",
        "plt.legend()\n",
        "plt.show()"
      ],
      "execution_count": null,
      "outputs": []
    },
    {
      "cell_type": "code",
      "metadata": {
        "id": "ReG6wmBMz4IQ"
      },
      "source": [
        "# Create function to show Negative-Neutral-Positive and add to dataset\n",
        "def getAnalysis(score):\n",
        "  if score < 0:\n",
        "    return \"Negative\"\n",
        "  if score == 0:\n",
        "    return \"Neutral\"\n",
        "\n",
        "  else: return \"Positive\"\n",
        "\n",
        "\n",
        "da = pd.read_csv(\"./{screenname}-Final-Vec-Pol-Subj.csv\".format(screenname=screen_name))\n",
        "\n",
        "da['Analysis'] = da['polarity'].apply(getAnalysis)\n",
        "# Delete a column by column number\n",
        "# Delete column number 4 (index number 3 in data.columns)\n",
        "\n",
        "da=da.drop(columns=['Unnamed: 0','Unnamed: 0.1'])\n",
        "\n",
        "\n",
        "da.to_csv(\"./{screenname}-Final-Vec-Pol-Subj-Analysis.csv\".format(screenname=screen_name))"
      ],
      "execution_count": null,
      "outputs": []
    },
    {
      "cell_type": "markdown",
      "metadata": {
        "id": "Nx5lfs7Rqzap"
      },
      "source": [
        "# Print all positive tweets"
      ]
    },
    {
      "cell_type": "code",
      "metadata": {
        "id": "Aq8PlNMGiMoS"
      },
      "source": [
        "#Print all positive value\n",
        "\n",
        "j=1\n",
        "sortedDA= da.sort_values(by=['polarity'])\n",
        "\n",
        "for i in range(0,sortedDA.shape[0]):\n",
        "  if (sortedDA['Analysis'][i]=='Positive'):\n",
        "    print(str(j)+ ') ' + sortedDA['Tweets'][i])\n",
        "    print()\n",
        "    j=j+1\n"
      ],
      "execution_count": null,
      "outputs": []
    },
    {
      "cell_type": "code",
      "metadata": {
        "id": "LM9FvB-fnDsX"
      },
      "source": [
        "#Percentage of Negative and Positive Tweets\n",
        "\n",
        "ptweets = da[da['Analysis']=='Positive']\n",
        "negtweets=da[da['Analysis']=='Negative']\n",
        "neutweets = da [da['Analysis']=='Neutral']\n",
        "\n",
        "print(\"Positive Tweets:\", round((ptweets.shape[0]/da.shape[0]) *100,1),\"%\")\n",
        "\n",
        "print(\"Negative Tweets:\", round((negtweets.shape[0]/da.shape[0]) *100,1),\"%\")\n",
        "\n",
        "print(\"Neutral Tweets:\", round((neutweets.shape[0]/da.shape[0]) *100,1),\"%\")\n",
        "\n",
        "pos=ptweets.shape[0]/da.shape[0] *100\n",
        "neg=negtweets.shape[0]/da.shape[0] *100\n",
        "neut=neutweets.shape[0]/da.shape[0] *100\n",
        "\n",
        "#Bar Plot\n",
        "plt.rcParams['figure.figsize'] = [8, 6]\n",
        "plt.title(\"Analysis\")\n",
        "plt.xlabel(\"Sentiment\")\n",
        "plt.ylabel(\"Counts\")\n",
        "da['Analysis'].value_counts().plot(kind='bar')\n",
        "\n",
        "plt.show()\n",
        "\n",
        "#Pie Plot\n",
        "\n",
        "explode = (0,0.1,0)\n",
        "labels = 'Positive', 'Negative','Neutral'\n",
        "sizes=[pos,neg,neut]\n",
        "colours = ['green','red','gold']\n",
        "plt.pie(sizes,explode=explode,colors=colours,autopct='%1.1f%%',startangle=120)\n",
        "plt.legend(labels,loc=(-0.05,0.05),shadow=True)\n",
        "plt.axis('equal')\n",
        "plt.savefig('TwitterSNA.png')"
      ],
      "execution_count": null,
      "outputs": []
    },
    {
      "cell_type": "code",
      "metadata": {
        "id": "VgggfOBL2Kh4"
      },
      "source": [
        "\n",
        "plt.rcParams['figure.figsize'] = [10, 8]\n",
        "\n",
        "for index, row in da.iterrows():\n",
        "  if row['Analysis'] == 'Positive':\n",
        "    plt.scatter(row['polarity'],row['subjectivity'],color='green')\n",
        "  elif row['Analysis'] == 'Negative':\n",
        "    plt.scatter(row['polarity'],row['subjectivity'],color='red')\n",
        "  elif row['Analysis'] == 'Neutral':\n",
        "    plt.scatter(row['polarity'],row['subjectivity'],color='blue')\n",
        "\n",
        "plt.title(\"{screenname} Twitter Analysis\".format(screenname=screen_name), fontsize=20)\n",
        "plt.xlabel('Polarity', fontsize=15)\n",
        "plt.ylabel('Subjectivity', fontsize=15)\n",
        "# plt.hlines(0.5, -1.1, 1.1, colors=None, linestyles='solid', label='')\n",
        "# plt.vlines(0, -.1, 1.1, colors=None, linestyles='solid', label='')\n",
        "labels=['Positive','Neutral','Negative']\n",
        "plt.legend((plt.scatter(row['polarity'],row['subjectivity'],color='green'), plt.scatter(row['polarity'],row['subjectivity'],color='blue'), plt.scatter(row['polarity'],row['subjectivity'],color='red')), ('Positive', 'Neutral', 'Negative'))\n",
        "plt.show()"
      ],
      "execution_count": null,
      "outputs": []
    },
    {
      "cell_type": "markdown",
      "metadata": {
        "id": "oOKr656A5VCu"
      },
      "source": [
        "# Topic modeling Latent Dirichlet Allocation (LDA)"
      ]
    },
    {
      "cell_type": "code",
      "metadata": {
        "id": "s5wMVo2_2rzi"
      },
      "source": [
        "\n",
        "\n",
        "# read our document-term matrix\n",
        "import pandas as pd\n",
        "import pickle\n",
        "\n",
        "data = pd.read_pickle('dtm.pkl')\n",
        "data\n",
        "\n"
      ],
      "execution_count": null,
      "outputs": []
    },
    {
      "cell_type": "code",
      "metadata": {
        "id": "p2rCm4qR2eqV"
      },
      "source": [
        "from gensim import matutils, models\n",
        "import scipy.sparse\n",
        "tdm = data.transpose()\n",
        "tdm"
      ],
      "execution_count": null,
      "outputs": []
    },
    {
      "cell_type": "code",
      "metadata": {
        "id": "V15w8nLz2zEc"
      },
      "source": [
        "sparse_counts = scipy.sparse.csr_matrix(tdm)\n",
        "corpus = matutils.Sparse2Corpus(sparse_counts)\n"
      ],
      "execution_count": null,
      "outputs": []
    },
    {
      "cell_type": "code",
      "metadata": {
        "id": "HNPwttlE23p4"
      },
      "source": [
        "cv = pickle.load(open(\"cv.pkl\", \"rb\"))\n",
        "id2word = dict((v, k) for k, v in cv.vocabulary_.items())\n",
        "print(id2word)"
      ],
      "execution_count": null,
      "outputs": []
    },
    {
      "cell_type": "markdown",
      "metadata": {
        "id": "1IoQkbor5LW4"
      },
      "source": [
        "# the number of topics and the number of passes."
      ]
    },
    {
      "cell_type": "code",
      "metadata": {
        "id": "1XF4xlqY44IP"
      },
      "source": [
        "lda = models.LdaModel(corpus=corpus, id2word=id2word, num_topics=2, passes=100)\n",
        "lda.print_topics()"
      ],
      "execution_count": null,
      "outputs": []
    },
    {
      "cell_type": "code",
      "metadata": {
        "id": "s3t9jHGW46aD"
      },
      "source": [
        "lda = models.LdaModel(corpus=corpus, id2word=id2word, num_topics=3, passes=100)\n",
        "lda.print_topics()"
      ],
      "execution_count": null,
      "outputs": []
    },
    {
      "cell_type": "code",
      "metadata": {
        "id": "abtNErld48mh"
      },
      "source": [
        "lda = models.LdaModel(corpus=corpus, id2word=id2word, num_topics=4, passes=100)\n",
        "lda.print_topics()"
      ],
      "execution_count": null,
      "outputs": []
    },
    {
      "cell_type": "markdown",
      "metadata": {
        "id": "XKpMk2G1FAyU"
      },
      "source": [
        "# Topic Modeling - step 2 (Nouns Only)"
      ]
    },
    {
      "cell_type": "code",
      "metadata": {
        "id": "zYOO6jdUCM_d"
      },
      "source": [
        "\n",
        "\n",
        "# create a function to pull out nouns from a string of text\n",
        "from nltk import word_tokenize, pos_tag\n",
        "nltk.download('averaged_perceptron_tagger')\n",
        "\n",
        "def nouns(text):\n",
        "    '''Given a string of text, tokenize the text and pull out only the nouns.'''\n",
        "    is_noun = lambda pos: pos[:2] == 'NN'\n",
        "    tokenized = word_tokenize(text)\n",
        "    all_nouns = [word for (word, pos) in pos_tag(tokenized) if is_noun(pos)] \n",
        "    return ' '.join(all_nouns)\n",
        "\n"
      ],
      "execution_count": null,
      "outputs": []
    },
    {
      "cell_type": "code",
      "metadata": {
        "id": "DxrcsFD6EwcL"
      },
      "source": [
        "\n",
        "\n",
        "# Read in the cleaned data, before the CountVectorizer step\n",
        "\n",
        "data_clean = pd.read_pickle('dc.pkl')\n",
        "data_clean\n",
        "\n"
      ],
      "execution_count": null,
      "outputs": []
    },
    {
      "cell_type": "code",
      "metadata": {
        "id": "-U-yMNPrEyxi"
      },
      "source": [
        "# Apply the nouns function to the transcripts to filter only on nouns\n",
        "\n",
        "# ddd = pd.read_csv(\"./{screenname}-Final-Vec-Pol-Subj.csv\".format(screenname=screen_name))\n",
        "\n",
        "# bigchunk=' '.join(ddd[\"Tweets\"].tolist())\n",
        "# chunk = str(bigchunk)\n",
        "# nouns(chunk)\n",
        "\n",
        "data_nouns = pd.DataFrame(data_clean.apply(nouns))\n",
        "data_nouns['Tweets']"
      ],
      "execution_count": null,
      "outputs": []
    },
    {
      "cell_type": "code",
      "metadata": {
        "id": "RinfpOoQEzCu"
      },
      "source": [
        "# Create a new document-term matrix using only nouns\n",
        "from sklearn.feature_extraction import text\n",
        "from sklearn.feature_extraction.text import CountVectorizer\n",
        "\n",
        "# Re-add the additional stop words since we are recreating the document-term matrix\n",
        "add_stop_words = ['like', 'im', 'know', 'just', 'dont', 'thats', 'right',\n",
        "                  'youre', 'got', 'gonna', 'time', 'think', 'yeah', 'said']\n",
        "stop_words = text.ENGLISH_STOP_WORDS.union(add_stop_words)\n",
        "\n",
        "# Recreate a document-term matrix with only nouns\n",
        "# cvn = CountVectorizer(stop_words=stop_words)\n",
        "# data_cvn = cvn.fit_transform(data_nouns.index)\n",
        "# data_dtmn = pd.DataFrame(data_cvn.toarray(), columns=cvn.get_feature_names())\n",
        "# data_dtmn.index = data_nouns.index\n",
        "\n",
        "# data_dtmn\n",
        "\n",
        "\n",
        "\n",
        "cvn = CountVectorizer(stop_words=stop_words)\n",
        "data_cvn = cvn.fit_transform(data_nouns['Tweets'])\n",
        "data_dtmn = pd.DataFrame(data_cvn.toarray(), columns=cvn.get_feature_names())\n",
        "data_dtmn.index = data_nouns['Tweets'].index\n",
        "\n",
        "print(data_dtmn)\n",
        "data_dtmn.to_pickle(\"dtmn.pkl\")"
      ],
      "execution_count": null,
      "outputs": []
    },
    {
      "cell_type": "code",
      "metadata": {
        "id": "OqeJVKSIE1h5"
      },
      "source": [
        "\n",
        "from scipy import *\n",
        "# # Create the gensim corpus\n",
        "# corpusn = matutils.Sparse2Corpus(scipy.sparse.csr_matrix(data_dtmn.transpose()))\n",
        "\n",
        "# # Create the vocabulary dictionary\n",
        "# id2wordn = dict((v, k) for k, v in cvn.vocabulary_.items())\n",
        "\n",
        "sparse_countsn = scipy.sparse.csr_matrix(data_dtmn.transpose())\n",
        "corpusn = matutils.Sparse2Corpus(sparse_countsn)\n",
        "#corpusn=matutils.Sparse2Corpus(scipy.sparse.csc_matrix(data_dtmn.transpose()))\n",
        "# Create the vocabulary dictionary\n",
        "id2wordn = dict((v, k) for k, v in cvn.vocabulary_.items())\n",
        "print(id2wordn)"
      ],
      "execution_count": null,
      "outputs": []
    },
    {
      "cell_type": "code",
      "metadata": {
        "id": "Z-sR5hEpE6r7"
      },
      "source": [
        "# Let's start with 2 topics\n",
        "ldan = models.LdaModel(corpus=corpusn, num_topics=2, id2word=id2wordn, passes=100)\n",
        "ldan.print_topics()"
      ],
      "execution_count": null,
      "outputs": []
    },
    {
      "cell_type": "code",
      "metadata": {
        "id": "SPXoUOENE676"
      },
      "source": [
        "# Let's start with 2 topics\n",
        "ldan = models.LdaModel(corpus=corpusn, num_topics=3, id2word=id2wordn, passes=100)\n",
        "ldan.print_topics()"
      ],
      "execution_count": null,
      "outputs": []
    },
    {
      "cell_type": "code",
      "metadata": {
        "id": "6p5tiaJ-E7Ku"
      },
      "source": [
        "# Let's start with 2 topics\n",
        "ldan = models.LdaModel(corpus=corpusn, num_topics=4, id2word=id2wordn, passes=100)\n",
        "ldan.print_topics()"
      ],
      "execution_count": null,
      "outputs": []
    },
    {
      "cell_type": "markdown",
      "metadata": {
        "id": "z2t82DfgFGuF"
      },
      "source": [
        "# Topic Modeling - step 3 (Nouns and Adjectives)"
      ]
    },
    {
      "cell_type": "code",
      "metadata": {
        "id": "iD9QHOYEFHGc"
      },
      "source": [
        "# Let's create a function to pull out nouns and adjectives from a string of text\n",
        "def nouns_adj(text):\n",
        "    '''Given a string of text, tokenize the text and pull out only the nouns and adjectives.'''\n",
        "    is_noun_adj = lambda pos: pos[:2] == 'NN' or pos[:2] == 'JJ'\n",
        "    tokenized = word_tokenize(text)\n",
        "    nouns_adj = [word for (word, pos) in pos_tag(tokenized) if is_noun_adj(pos)] \n",
        "    return ' '.join(nouns_adj)"
      ],
      "execution_count": null,
      "outputs": []
    },
    {
      "cell_type": "code",
      "metadata": {
        "id": "8IpO7W7XFJLe"
      },
      "source": [
        "# Apply the nouns function to the tweets to filter only on nouns\n",
        "data_nouns_adj = pd.DataFrame(data_clean.apply(nouns_adj))\n",
        "data_nouns_adj"
      ],
      "execution_count": null,
      "outputs": []
    },
    {
      "cell_type": "code",
      "metadata": {
        "id": "P6dCIvEzFKgK"
      },
      "source": [
        "# Create a new document-term matrix using only nouns and adjectives, also remove common words with max_df\n",
        "cvna = CountVectorizer(stop_words=stop_words, max_df=.8)\n",
        "data_cvna = cvna.fit_transform(data_nouns_adj['Tweets'])\n",
        "data_dtmna = pd.DataFrame(data_cvna.toarray(), columns=cvna.get_feature_names())\n",
        "data_dtmna.index = data_nouns_adj.index\n",
        "data_dtmna"
      ],
      "execution_count": null,
      "outputs": []
    },
    {
      "cell_type": "code",
      "metadata": {
        "id": "lYpeJuTwFMCe"
      },
      "source": [
        "# Create the gensim corpus\n",
        "corpusna = matutils.Sparse2Corpus(scipy.sparse.csr_matrix(data_dtmna.transpose()))\n",
        "\n",
        "# Create the vocabulary dictionary\n",
        "id2wordna = dict((v, k) for k, v in cvna.vocabulary_.items())"
      ],
      "execution_count": null,
      "outputs": []
    },
    {
      "cell_type": "code",
      "metadata": {
        "id": "plLh09QmFN_i"
      },
      "source": [
        "\n",
        "\n",
        "# Let's start with 2 topics\n",
        "ldana = models.LdaModel(corpus=corpusna, num_topics=2, id2word=id2wordna, passes=100)\n",
        "ldana.print_topics()\n",
        "\n"
      ],
      "execution_count": null,
      "outputs": []
    },
    {
      "cell_type": "code",
      "metadata": {
        "id": "OuYmJBZtFQag"
      },
      "source": [
        "\n",
        "\n",
        "# Let's start with 3 topics\n",
        "ldana = models.LdaModel(corpus=corpusna, num_topics=3, id2word=id2wordna, passes=100)\n",
        "ldana.print_topics()\n",
        "\n"
      ],
      "execution_count": null,
      "outputs": []
    },
    {
      "cell_type": "code",
      "metadata": {
        "id": "z1jNGGEmFSdv"
      },
      "source": [
        "\n",
        "\n",
        "# Let's start with 4 topics\n",
        "ldana = models.LdaModel(corpus=corpusna, num_topics=4, id2word=id2wordna, passes=100)\n",
        "ldana.print_topics()\n",
        "\n"
      ],
      "execution_count": null,
      "outputs": []
    },
    {
      "cell_type": "markdown",
      "metadata": {
        "id": "udZLaU9oFZGf"
      },
      "source": [
        "# Identify Topics"
      ]
    },
    {
      "cell_type": "code",
      "metadata": {
        "id": "VPZM3zkUFQge"
      },
      "source": [
        "# Final LDA model - Nouns and Adjectives\n",
        "ldana = models.LdaModel(corpus=corpusna, num_topics=1, id2word=id2wordna, passes=100)\n",
        "#ldana.print_topics()\n",
        "ldana.show_topics()\n"
      ],
      "execution_count": null,
      "outputs": []
    },
    {
      "cell_type": "code",
      "metadata": {
        "id": "w2mU28jTasw3"
      },
      "source": [
        "import wordcloud\n",
        "from wordcloud import WordCloud\n",
        "import matplotlib.pyplot as plt\n",
        "\n",
        "dd = pd.read_csv(\"./{screenname}-Final-Vec-Pol-Subj-Analysis.csv\".format(screenname=screen_name))\n",
        "\n",
        "text=' '.join(dd[\"Tweets\"].tolist())\n",
        "result = ''.join([i for i in text if not i.isdigit()])\n",
        "\n",
        "wordcloud = WordCloud(width=1920,height=1080, background_color=\"black\",max_words=50).generate(text)\n",
        "# plt.figure(figsize=(10,10))\n",
        "# plt.imshow(wordcloud, interpolation=\"bilinear\")\n",
        "# plt.axis(\"off\")\n",
        "# plt.show()\n",
        "plt.figure(figsize=(10,10))\n",
        "plt.imshow(wordcloud)\n",
        "plt.axis('off')\n",
        "plt.tight_layout(pad=0)\n",
        "plt.show()"
      ],
      "execution_count": null,
      "outputs": []
    },
    {
      "cell_type": "code",
      "metadata": {
        "id": "IUszBjJCF6hC"
      },
      "source": [
        "from gensim import models\n",
        "import gensim\n",
        "\n",
        "text=preprocessed_docs\n",
        "model = gensim.models.Word2Vec(text,size=100,max_vocab_size=5000)\n",
        "words = list(model.wv.vocab)\n",
        "\n",
        "print(model)\n",
        "print(model['covid'])"
      ],
      "execution_count": null,
      "outputs": []
    },
    {
      "cell_type": "markdown",
      "metadata": {
        "id": "quyg9RCPOB1M"
      },
      "source": [
        "# skipgram Model\n"
      ]
    },
    {
      "cell_type": "code",
      "metadata": {
        "id": "EZFewBBmOFz1"
      },
      "source": [
        "import numpy as np\n",
        "from tqdm import tqdm_notebook\n",
        "import re"
      ],
      "execution_count": null,
      "outputs": []
    },
    {
      "cell_type": "markdown",
      "metadata": {
        "id": "VqT9snUmOIwA"
      },
      "source": [
        "# Data Prep"
      ]
    },
    {
      "cell_type": "code",
      "metadata": {
        "id": "TRyr_sjMOKuO"
      },
      "source": [
        "def tokenize(text):\n",
        "    # obtains tokens with a least 1 alphabet\n",
        "    pattern = re.compile(r'[A-Za-z]+[\\w^\\']*|[\\w^\\']*[A-Za-z]+[\\w^\\']*')\n",
        "    return pattern.findall(text.lower())\n",
        "\n",
        "def mapping(tokens):\n",
        "    word_to_id = dict()\n",
        "    id_to_word = dict()\n",
        "\n",
        "    for i, token in enumerate(set(tokens)):\n",
        "        word_to_id[token] = i\n",
        "        id_to_word[i] = token\n",
        "\n",
        "    return word_to_id, id_to_word\n",
        "\n",
        "def generate_training_data(tokens, word_to_id, window_size):\n",
        "    N = len(tokens)\n",
        "    X, Y = [], []\n",
        "\n",
        "    for i in range(N):\n",
        "        nbr_inds = list(range(max(0, i - window_size), i)) + \\\n",
        "                   list(range(i + 1, min(N, i + window_size + 1)))\n",
        "        for j in nbr_inds:\n",
        "            X.append(word_to_id[tokens[i]])\n",
        "            Y.append(word_to_id[tokens[j]])\n",
        "            \n",
        "    X = np.array(X)\n",
        "    X = np.expand_dims(X, axis=0)\n",
        "    Y = np.array(Y)\n",
        "    Y = np.expand_dims(Y, axis=0)\n",
        "            \n",
        "    return X, Y"
      ],
      "execution_count": null,
      "outputs": []
    },
    {
      "cell_type": "code",
      "metadata": {
        "id": "rkqzuVg-Zpol"
      },
      "source": [
        "doc = \"After the deduction of the costs of investing, \" \\\n",
        "      \"beating the stock market is a loser's game.\"\n",
        "tokens = tokenize(str(text))\n",
        "word_to_id, id_to_word = mapping(tokens)\n",
        "X, Y = generate_training_data(tokens, word_to_id, 3)\n",
        "vocab_size = len(id_to_word)\n",
        "m = Y.shape[1]\n",
        "# turn Y into one hot encoding\n",
        "Y_one_hot = np.zeros((vocab_size, m))\n",
        "Y_one_hot[Y.flatten(), np.arange(m)] = 1"
      ],
      "execution_count": null,
      "outputs": []
    },
    {
      "cell_type": "code",
      "metadata": {
        "id": "a5eeZfm5ZwSd"
      },
      "source": [
        "Y"
      ],
      "execution_count": null,
      "outputs": []
    },
    {
      "cell_type": "markdown",
      "metadata": {
        "id": "KhjbW4LpZw3o"
      },
      "source": [
        "# Initialization"
      ]
    },
    {
      "cell_type": "code",
      "metadata": {
        "id": "8ryTTZ2nZ0PX"
      },
      "source": [
        "def initialize_wrd_emb(vocab_size, emb_size):\n",
        "    \"\"\"\n",
        "    vocab_size: int. vocabulary size of your corpus or training data\n",
        "    emb_size: int. word embedding size. How many dimensions to represent each vocabulary\n",
        "    \"\"\"\n",
        "    WRD_EMB = np.random.randn(vocab_size, emb_size) * 0.01\n",
        "    \n",
        "    assert(WRD_EMB.shape == (vocab_size, emb_size))\n",
        "    return WRD_EMB\n",
        "\n",
        "def initialize_dense(input_size, output_size):\n",
        "    \"\"\"\n",
        "    input_size: int. size of the input to the dense layer\n",
        "    output_szie: int. size of the output out of the dense layer\n",
        "    \"\"\"\n",
        "    W = np.random.randn(output_size, input_size) * 0.01\n",
        "    \n",
        "    assert(W.shape == (output_size, input_size))\n",
        "    return W\n",
        "\n",
        "def initialize_parameters(vocab_size, emb_size):\n",
        "    WRD_EMB = initialize_wrd_emb(vocab_size, emb_size)\n",
        "    W = initialize_dense(emb_size, vocab_size)\n",
        "    \n",
        "    parameters = {}\n",
        "    parameters['WRD_EMB'] = WRD_EMB\n",
        "    parameters['W'] = W\n",
        "    \n",
        "    return parameters"
      ],
      "execution_count": null,
      "outputs": []
    },
    {
      "cell_type": "markdown",
      "metadata": {
        "id": "ocUakSCwOT_F"
      },
      "source": [
        "# Forward Propagation"
      ]
    },
    {
      "cell_type": "code",
      "metadata": {
        "id": "c7yIeZ06OGps"
      },
      "source": [
        "def ind_to_word_vecs(inds, parameters):\n",
        "    \"\"\"\n",
        "    inds: numpy array. shape: (1, m)\n",
        "    parameters: dict. weights to be trained\n",
        "    \"\"\"\n",
        "    m = inds.shape[1]\n",
        "    WRD_EMB = parameters['WRD_EMB']\n",
        "    word_vec = WRD_EMB[inds.flatten(), :].T\n",
        "    \n",
        "    assert(word_vec.shape == (WRD_EMB.shape[1], m))\n",
        "    \n",
        "    return word_vec\n",
        "\n",
        "def linear_dense(word_vec, parameters):\n",
        "    \"\"\"\n",
        "    word_vec: numpy array. shape: (emb_size, m)\n",
        "    parameters: dict. weights to be trained\n",
        "    \"\"\"\n",
        "    m = word_vec.shape[1]\n",
        "    W = parameters['W']\n",
        "    Z = np.dot(W, word_vec)\n",
        "    \n",
        "    assert(Z.shape == (W.shape[0], m))\n",
        "    \n",
        "    return W, Z\n",
        "\n",
        "def softmax(Z):\n",
        "    \"\"\"\n",
        "    Z: output out of the dense layer. shape: (vocab_size, m)\n",
        "    \"\"\"\n",
        "    softmax_out = np.divide(np.exp(Z), np.sum(np.exp(Z), axis=0, keepdims=True) + 0.001)\n",
        "    assert(softmax_out.shape == Z.shape)\n",
        "\n",
        "    return softmax_out\n",
        "\n",
        "def forward_propagation(inds, parameters):\n",
        "    word_vec = ind_to_word_vecs(inds, parameters)\n",
        "    W, Z = linear_dense(word_vec, parameters)\n",
        "    softmax_out = softmax(Z)\n",
        "    \n",
        "    caches = {}\n",
        "    caches['inds'] = inds\n",
        "    caches['word_vec'] = word_vec\n",
        "    caches['W'] = W\n",
        "    caches['Z'] = Z\n",
        "    return softmax_out, caches"
      ],
      "execution_count": null,
      "outputs": []
    },
    {
      "cell_type": "markdown",
      "metadata": {
        "id": "JHLdAUocOb4q"
      },
      "source": [
        "# Cross Entropy\n"
      ]
    },
    {
      "cell_type": "code",
      "metadata": {
        "id": "TGZKMGb8Ncm_"
      },
      "source": [
        "def cross_entropy(softmax_out, Y):\n",
        "    \"\"\"\n",
        "    softmax_out: output out of softmax. shape: (vocab_size, m)\n",
        "    \"\"\"\n",
        "    m = softmax_out.shape[1]\n",
        "    cost = -(1 / m) * np.sum(np.log(softmax_out[Y.flatten(), np.arange(Y.shape[1])] + 0.001))\n",
        "    return cost"
      ],
      "execution_count": null,
      "outputs": []
    },
    {
      "cell_type": "markdown",
      "metadata": {
        "id": "-zCmSI3qOe3X"
      },
      "source": [
        "# Backward Propagation"
      ]
    },
    {
      "cell_type": "code",
      "metadata": {
        "id": "UEKdIE8YOjo5"
      },
      "source": [
        "def softmax_backward(Y, softmax_out):\n",
        "    \"\"\"\n",
        "    Y: labels of training data. shape: (vocab_size, m)\n",
        "    softmax_out: output out of softmax. shape: (vocab_size, m)\n",
        "    \"\"\"\n",
        "    m = Y.shape[1]\n",
        "    softmax_out[Y.flatten(), np.arange(m)] -= 1.0\n",
        "    dL_dZ = softmax_out\n",
        "    \n",
        "    assert(dL_dZ.shape == softmax_out.shape)\n",
        "    return dL_dZ\n",
        "\n",
        "def dense_backward(dL_dZ, caches):\n",
        "    \"\"\"\n",
        "    dL_dZ: shape: (vocab_size, m)\n",
        "    caches: dict. results from each steps of forward propagation\n",
        "    \"\"\"\n",
        "    W = caches['W']\n",
        "    word_vec = caches['word_vec']\n",
        "    m = word_vec.shape[1]\n",
        "    \n",
        "    dL_dW = (1 / m) * np.dot(dL_dZ, word_vec.T)\n",
        "    dL_dword_vec = np.dot(W.T, dL_dZ)\n",
        "\n",
        "    assert(W.shape == dL_dW.shape)\n",
        "    assert(word_vec.shape == dL_dword_vec.shape)\n",
        "    \n",
        "    return dL_dW, dL_dword_vec\n",
        "\n",
        "def backward_propagation(Y, softmax_out, caches):\n",
        "    dL_dZ = softmax_backward(Y, softmax_out)\n",
        "    dL_dW, dL_dword_vec = dense_backward(dL_dZ, caches)\n",
        "    \n",
        "    gradients = dict()\n",
        "    gradients['dL_dZ'] = dL_dZ\n",
        "    gradients['dL_dW'] = dL_dW\n",
        "    gradients['dL_dword_vec'] = dL_dword_vec\n",
        "    \n",
        "    return gradients\n",
        "\n",
        "def update_parameters(parameters, caches, gradients, learning_rate):\n",
        "    vocab_size, emb_size = parameters['WRD_EMB'].shape\n",
        "    inds = caches['inds']\n",
        "    dL_dword_vec = gradients['dL_dword_vec']\n",
        "    m = inds.shape[-1]\n",
        "    \n",
        "    parameters['WRD_EMB'][inds.flatten(), :] -= dL_dword_vec.T * learning_rate\n",
        "\n",
        "    parameters['W'] -= learning_rate * gradients['dL_dW']"
      ],
      "execution_count": null,
      "outputs": []
    },
    {
      "cell_type": "markdown",
      "metadata": {
        "id": "p4j8b0-VOkRl"
      },
      "source": [
        "# MODEL"
      ]
    },
    {
      "cell_type": "code",
      "metadata": {
        "id": "T4sfuBtzOnxI"
      },
      "source": [
        "from datetime import datetime\n",
        "\n",
        "import matplotlib.pyplot as plt\n",
        "\n",
        "\n",
        "def skipgram_model_training(X, Y, vocab_size, emb_size, learning_rate, epochs, batch_size=256, parameters=None, print_cost=False, plot_cost=True):\n",
        "    costs = []\n",
        "    m = X.shape[1]\n",
        "    \n",
        "    if parameters is None:\n",
        "        parameters = initialize_parameters(vocab_size, emb_size)\n",
        "    \n",
        "    begin_time = datetime.now()\n",
        "    for epoch in range(epochs):\n",
        "        epoch_cost = 0\n",
        "        batch_inds = list(range(0, m, batch_size))\n",
        "        np.random.shuffle(batch_inds)\n",
        "        for i in batch_inds:\n",
        "            X_batch = X[:, i:i+batch_size]\n",
        "            Y_batch = Y[:, i:i+batch_size]\n",
        "\n",
        "            softmax_out, caches = forward_propagation(X_batch, parameters)\n",
        "            cost = cross_entropy(softmax_out, Y_batch)\n",
        "            gradients = backward_propagation(Y_batch, softmax_out, caches)\n",
        "            update_parameters(parameters, caches, gradients, learning_rate)\n",
        "            epoch_cost += np.squeeze(cost)\n",
        "            \n",
        "        costs.append(epoch_cost)\n",
        "        if print_cost and epoch % (epochs // 500) == 0:\n",
        "            print(\"Cost after epoch {}: {}\".format(epoch, epoch_cost))\n",
        "        if epoch % (epochs // 100) == 0:\n",
        "            learning_rate *= 0.98\n",
        "    end_time = datetime.now()\n",
        "    print('training time: {}'.format(end_time - begin_time))\n",
        "            \n",
        "    if plot_cost:\n",
        "        plt.plot(np.arange(epochs), costs)\n",
        "        plt.xlabel('# of epochs')\n",
        "        plt.ylabel('cost')\n",
        "    return parameters"
      ],
      "execution_count": null,
      "outputs": []
    },
    {
      "cell_type": "markdown",
      "metadata": {
        "id": "Dd80vUfdO1A1"
      },
      "source": [
        "# TEST"
      ]
    },
    {
      "cell_type": "code",
      "metadata": {
        "id": "LrpgOHbtaDWS"
      },
      "source": [
        "\n",
        "paras = skipgram_model_training(X, Y, vocab_size, 50, 0.05, 1000, batch_size=256, parameters=None, print_cost=True,plot_cost=True)"
      ],
      "execution_count": null,
      "outputs": []
    },
    {
      "cell_type": "markdown",
      "metadata": {
        "id": "mXqOylxraHPW"
      },
      "source": [
        "# Evaluate"
      ]
    },
    {
      "cell_type": "code",
      "metadata": {
        "id": "BU7E3viUaDzY"
      },
      "source": [
        "X_test = np.arange(vocab_size)\n",
        "X_test = np.expand_dims(X_test, axis=0)\n",
        "softmax_test, _ = forward_propagation(X_test, paras)\n",
        "top_sorted_inds = np.argsort(softmax_test, axis=0)[-4:,:]"
      ],
      "execution_count": null,
      "outputs": []
    },
    {
      "cell_type": "code",
      "metadata": {
        "id": "H2tw3hZIaKvP"
      },
      "source": [
        "for input_ind in range(vocab_size):\n",
        "    input_word = id_to_word[input_ind]\n",
        "    output_words = [id_to_word[output_ind] for output_ind in top_sorted_inds[::-1, input_ind]]\n",
        "    print(\"{}'s neighbor words: {}\".format(input_word, output_words))"
      ],
      "execution_count": null,
      "outputs": []
    },
    {
      "cell_type": "code",
      "metadata": {
        "id": "fMhCQI1KMwrR"
      },
      "source": [
        "import pandas as pd\n",
        "\n",
        "data = pd.read_pickle('dc.pkl')\n",
        "data"
      ],
      "execution_count": null,
      "outputs": []
    },
    {
      "cell_type": "markdown",
      "metadata": {
        "id": "sDp53JfBA9CD"
      },
      "source": [
        "#  Experiment: Tweet generator from last tweets"
      ]
    },
    {
      "cell_type": "code",
      "metadata": {
        "id": "IdFLmvSGNJlX"
      },
      "source": [
        ""
      ],
      "execution_count": null,
      "outputs": []
    },
    {
      "cell_type": "markdown",
      "metadata": {
        "id": "LimH9IjXpH0R"
      },
      "source": [
        "# Word2Vec"
      ]
    },
    {
      "cell_type": "code",
      "metadata": {
        "id": "u4QCiiaUpDgA"
      },
      "source": [
        "\n",
        "from gensim.models import Word2Vec\n",
        "# define training data\n",
        "# sentences = [['this', 'is', 'the', 'first', 'sentence', 'for', 'word2vec'],\n",
        "# \t\t\t['this', 'is', 'the', 'second', 'sentence'],\n",
        "# \t\t\t['yet', 'another', 'sentence'],\n",
        "# \t\t\t['one', 'more', 'sentence'],\n",
        "# \t\t\t['and', 'the', 'final', 'sentence']]\n",
        "sentences = text\n",
        "\n",
        "# train model\n",
        "model = Word2Vec(sentences, min_count=1)\n",
        "# summarize the loaded model\n",
        "print(model)\n",
        "# summarize vocabulary\n",
        "words = list(model.wv.vocab)\n",
        "print(words)\n",
        "# access vector for one word\n",
        "#print(model['america'])\n",
        "# save model\n",
        "model.save('model.bin')\n",
        "# load model\n",
        "new_model = Word2Vec.load('model.bin')\n",
        "print(new_model)\n"
      ],
      "execution_count": null,
      "outputs": []
    },
    {
      "cell_type": "code",
      "metadata": {
        "id": "EanVrp_lpXCC"
      },
      "source": [
        "\tX = model[model.wv.vocab]"
      ],
      "execution_count": null,
      "outputs": []
    },
    {
      "cell_type": "code",
      "metadata": {
        "id": "fXWfCm86qXz3"
      },
      "source": [
        "from sklearn.decomposition import PCA\n",
        "from matplotlib import pyplot\n",
        "# define training data\n",
        "# sentences = [['this', 'is', 'the', 'first', 'sentence', 'for', 'word2vec'],\n",
        "# \t\t\t['this', 'is', 'the', 'second', 'sentence'],\n",
        "# \t\t\t['yet', 'another', 'sentence'],\n",
        "# \t\t\t['one', 'more', 'sentence'],\n",
        "# \t\t\t['and', 'the', 'final', 'sentence']]\n",
        "sentences = preprocessed_docs\n",
        "# train model\n",
        "model = Word2Vec(sentences, min_count=1)\n",
        "# fit a 2d PCA model to the vectors\n",
        "X = model[model.wv.vocab]\n",
        "pca = PCA(n_components=10)\n",
        "print(X.shape)\n",
        "result = pca.fit_transform(X)\n",
        "print(result.shape)\n",
        "# create a scatter plot of the projection\n",
        "plt.rcParams['figure.figsize'] = [30, 10]\n",
        "pyplot.scatter(result[:, 0], result[:, 1])\n",
        "words = list(model.wv.vocab)\n",
        "for i, word in enumerate(words):\n",
        "\tpyplot.annotate(word, xy=(result[i, 0], result[i, 1]))\n",
        "pyplot.show()"
      ],
      "execution_count": null,
      "outputs": []
    },
    {
      "cell_type": "code",
      "metadata": {
        "id": "wmocDLvptxTb"
      },
      "source": [
        "# result = model.most_similar(positive=['people'], negative=['today'], topn=1)\n",
        "# similar = model.most_similar('today', topn=1)\n",
        "# print(result,'\\n')\n",
        "# print(similar,'\\n\\n')"
      ],
      "execution_count": null,
      "outputs": []
    },
    {
      "cell_type": "markdown",
      "metadata": {
        "id": "ODIvb8fymTuj"
      },
      "source": [
        ""
      ]
    },
    {
      "cell_type": "code",
      "metadata": {
        "id": "8_QdU4SN8-Qd"
      },
      "source": [
        "import csv\n",
        "#file1 = open(\"MyFile.txt\",\"a\")\n",
        "with open(\"MyFile.txt\", \"w\") as my_output_file:\n",
        "    with open(\"./{screenname}-Tweets.csv\".format(screenname=screen_name), \"r\") as my_input_file:\n",
        "        [ my_output_file.write(\" \".join(row)+'\\n') for row in csv.reader(my_input_file)]\n",
        "    my_output_file.close()"
      ],
      "execution_count": null,
      "outputs": []
    },
    {
      "cell_type": "markdown",
      "metadata": {
        "id": "O0HS1BDAOkqt"
      },
      "source": [
        "# Create Model for Predicting Next Tweet Sentiment based on previous tweets."
      ]
    },
    {
      "cell_type": "code",
      "metadata": {
        "id": "cjM-WeSN6hpy"
      },
      "source": [
        "def Score(score):\n",
        "  if score=='Negative':\n",
        "    return -1\n",
        "  elif score=='Neutral':\n",
        "    return 0\n",
        "  elif score=='Positive':\n",
        "    return 1\n",
        "    #Get Sentiment\n",
        "\n",
        "def getSentimentforpred(score):\n",
        "  if score<0:\n",
        "    return 'Negative'\n",
        "  if score==0:\n",
        "    return 'Neutral'\n",
        "  else:\n",
        "    return 'Positive'\n"
      ],
      "execution_count": null,
      "outputs": []
    },
    {
      "cell_type": "code",
      "metadata": {
        "id": "mqqDMlDCZVFv"
      },
      "source": [
        "#Function for Clean Tweets \n",
        "def cleanTwtforpred(twt):\n",
        "  twt=re.sub('#[A-Za-z0-9]+', '', twt)\n",
        "  twt=re.sub('\\\\n','',twt)\n",
        "  twt=re.sub('https?:\\/\\/\\S+','',twt)\n",
        "  twt=re.sub('#','',twt)\n",
        "  return twt"
      ],
      "execution_count": null,
      "outputs": []
    },
    {
      "cell_type": "code",
      "metadata": {
        "id": "HIQcqEedZlxj"
      },
      "source": [
        "#Function for SUBJECTIVITY and POLARITY\n",
        "\n",
        "def getSubjectivityforpred(twt):\n",
        "  return TextBlob(twt).sentiment.subjectivity\n",
        "\n",
        "\n",
        "def getPolarityforpred(twt):\n",
        "  return TextBlob(twt).sentiment.polarity\n"
      ],
      "execution_count": null,
      "outputs": []
    },
    {
      "cell_type": "code",
      "metadata": {
        "id": "kUu-gJGn8FAd"
      },
      "source": [
        "\n",
        "newdf = pd.read_csv(\"./{screenname}.csv\".format(screenname=screen_name))\n",
        "#Clean\n",
        "newdf['Cleaned_Tweets'] = newdf['Tweets'].apply(cleanTwtforpred)\n",
        "newdf['Subjectivity'] = newdf['Cleaned_Tweets'].apply(getSubjectivityforpred)\n",
        "newdf['Polarity'] = newdf['Cleaned_Tweets'].apply(getPolarityforpred)\n",
        "newdf['Sentiment'] = newdf['Polarity'].apply(getSentimentforpred)\n",
        "\n",
        "newdf['Score'] = newdf['Sentiment'].apply(Score)"
      ],
      "execution_count": null,
      "outputs": []
    },
    {
      "cell_type": "code",
      "metadata": {
        "id": "ROH3caZX8c6N"
      },
      "source": [
        "print(newdf['Cleaned_Tweets'].values[2],newdf['Score'].values[2])\n"
      ],
      "execution_count": null,
      "outputs": []
    },
    {
      "cell_type": "code",
      "metadata": {
        "id": "etFE57yV80Y_"
      },
      "source": [
        "from sklearn.feature_extraction.text import TfidfVectorizer\n",
        "from sklearn.model_selection import train_test_split\n",
        "from sklearn.svm import SVC,LinearSVC\n",
        "from sklearn.metrics import classification_report"
      ],
      "execution_count": null,
      "outputs": []
    },
    {
      "cell_type": "code",
      "metadata": {
        "id": "279jP68G9TWD"
      },
      "source": [
        "X=newdf['Cleaned_Tweets']\n",
        "\n",
        "tfidf = TfidfVectorizer(max_features=10000, ngram_range=(1,2))\n",
        "X=tfidf.fit_transform(X)\n",
        "y=newdf['Score']"
      ],
      "execution_count": null,
      "outputs": []
    },
    {
      "cell_type": "code",
      "metadata": {
        "id": "SHzEuaVNL_BJ"
      },
      "source": [
        "X_train, X_test, y_train, y_test = train_test_split(X,y,test_size=0.2, random_state=0)"
      ],
      "execution_count": null,
      "outputs": []
    },
    {
      "cell_type": "code",
      "metadata": {
        "id": "sJsNlP-kMRqX"
      },
      "source": [
        "X_train.shape , X_test.shape"
      ],
      "execution_count": null,
      "outputs": []
    },
    {
      "cell_type": "code",
      "metadata": {
        "id": "OIZ5vDwPMcd7"
      },
      "source": [
        "clf=LinearSVC()\n",
        "clf.fit(X_train,y_train)"
      ],
      "execution_count": null,
      "outputs": []
    },
    {
      "cell_type": "code",
      "metadata": {
        "id": "mnJ4Wje4MqiD"
      },
      "source": [
        "y_pred=clf.predict(X_test)\n"
      ],
      "execution_count": null,
      "outputs": []
    },
    {
      "cell_type": "code",
      "metadata": {
        "id": "Ae5LOwLQMxtC"
      },
      "source": [
        "print(classification_report(y_test, y_pred))"
      ],
      "execution_count": null,
      "outputs": []
    },
    {
      "cell_type": "code",
      "metadata": {
        "id": "kpQHI2EJN5Je"
      },
      "source": [
        "NewTweet='I look forward to hosting President Ghani and Chairman Abdullah at the White House this afternoon. As the U.S. military drawdown continues, we affirm our enduring support for the Afghan people.'\n",
        "\n",
        "vec=tfidf.transform([NewTweet])\n"
      ],
      "execution_count": null,
      "outputs": []
    },
    {
      "cell_type": "code",
      "metadata": {
        "id": "EePscy80OQu4"
      },
      "source": [
        "print('Model Score: ',clf.predict(vec))\n"
      ],
      "execution_count": null,
      "outputs": []
    },
    {
      "cell_type": "markdown",
      "metadata": {
        "id": "6xc_xYhMTfqQ"
      },
      "source": [
        "# Custom Sentiment Analysis\n"
      ]
    },
    {
      "cell_type": "code",
      "metadata": {
        "id": "QsaZ0bvDhc4A"
      },
      "source": [
        "import csv\n",
        "#file1 = open(\"MyFile.txt\",\"a\")\n",
        "with open(\"MyFile.txt\", \"w\") as my_output_file:\n",
        "    with open(\"./{screenname}-Tweets.csv\".format(screenname=screen_name), \"r\") as my_input_file:\n",
        "        [ my_output_file.write(\" \".join(row)+'\\n') for row in csv.reader(my_input_file)]\n",
        "    my_output_file.close()"
      ],
      "execution_count": null,
      "outputs": []
    },
    {
      "cell_type": "code",
      "metadata": {
        "id": "279zoZ78TjSA"
      },
      "source": [
        "import string\n",
        "from collections import Counter\n",
        "\n",
        "import matplotlib.pyplot as plt\n",
        "\n",
        "# reading text file\n",
        "text = open(\"MyFile.txt\", encoding=\"utf-8\").read()\n",
        "\n",
        "# converting to lowercase\n",
        "lower_case = text.lower()\n",
        "\n",
        "# Removing punctuations\n",
        "cleaned_text = lower_case.translate(str.maketrans('', '', string.punctuation))\n",
        "\n",
        "# splitting text into words\n",
        "tokenized_words = cleaned_text.split()\n",
        "\n",
        "stop_words = [\"i\", \"me\", \"my\", \"myself\", \"we\", \"our\", \"ours\", \"ourselves\", \"you\", \"your\", \"yours\", \"yourself\",\n",
        "              \"yourselves\", \"he\", \"him\", \"his\", \"himself\", \"she\", \"her\", \"hers\", \"herself\", \"it\", \"its\", \"itself\",\n",
        "              \"they\", \"them\", \"their\", \"theirs\", \"themselves\", \"what\", \"which\", \"who\", \"whom\", \"this\", \"that\", \"these\",\n",
        "              \"those\", \"am\", \"is\", \"are\", \"was\", \"were\", \"be\", \"been\", \"being\", \"have\", \"has\", \"had\", \"having\", \"do\",\n",
        "              \"does\", \"did\", \"doing\", \"a\", \"an\", \"the\", \"and\", \"but\", \"if\", \"or\", \"because\", \"as\", \"until\", \"while\",\n",
        "              \"of\", \"at\", \"by\", \"for\", \"with\", \"about\", \"against\", \"between\", \"into\", \"through\", \"during\", \"before\",\n",
        "              \"after\", \"above\", \"below\", \"to\", \"from\", \"up\", \"down\", \"in\", \"out\", \"on\", \"off\", \"over\", \"under\", \"again\",\n",
        "              \"further\", \"then\", \"once\", \"here\", \"there\", \"when\", \"where\", \"why\", \"how\", \"all\", \"any\", \"both\", \"each\",\n",
        "              \"few\", \"more\", \"most\", \"other\", \"some\", \"such\", \"no\", \"nor\", \"not\", \"only\", \"own\", \"same\", \"so\", \"than\",\n",
        "              \"too\", \"very\", \"s\", \"t\", \"can\", \"will\", \"just\", \"don\", \"should\", \"now\"]\n",
        "\n",
        "# Removing stop words from the tokenized words list\n",
        "final_words = []\n",
        "for word in tokenized_words:\n",
        "    if word not in stop_words:\n",
        "        final_words.append(word)\n",
        "\n",
        "\n",
        "\n",
        "emotion_list = []\n",
        "with open('emotions.txt', 'r') as file:\n",
        "    for line in file:\n",
        "        clear_line = line.replace(\"\\n\", '').replace(\",\", '').replace(\"'\", '').strip()\n",
        "        word, emotion = clear_line.split(':')\n",
        "\n",
        "        if word in final_words:\n",
        "            emotion_list.append(emotion)\n",
        "\n",
        "print(emotion_list)\n",
        "w = Counter(emotion_list)\n",
        "print(w)\n",
        "\n",
        "# Plotting the emotions on the graph\n",
        "\n",
        "fig, ax1 = plt.subplots()\n",
        "ax1.bar(w.keys(), w.values())\n",
        "plt.xticks(size = 24)\n",
        "plt.yticks(size = 24)\n",
        "plt.xlabel('Emotions', size = 18)\n",
        "plt.ylabel('Counts', size = 18)\n",
        "fig.autofmt_xdate()\n",
        "plt.savefig('Custom-Sentiment-Analysis.png')\n",
        "plt.show()"
      ],
      "execution_count": null,
      "outputs": []
    },
    {
      "cell_type": "code",
      "metadata": {
        "id": "szMcRGgAfUbX"
      },
      "source": [
        ""
      ],
      "execution_count": null,
      "outputs": []
    },
    {
      "cell_type": "code",
      "metadata": {
        "id": "BcNvFHdg9xrV"
      },
      "source": [
        "import string\n",
        "from collections import Counter\n",
        "nltk.download('vader_lexicon')\n",
        "import matplotlib.pyplot as plt\n",
        "from nltk.corpus import stopwords\n",
        "from nltk.sentiment.vader import SentimentIntensityAnalyzer\n",
        "from nltk.stem import WordNetLemmatizer\n",
        "from nltk.tokenize import word_tokenize\n",
        "\n",
        "text = open('MyFile.txt', encoding='utf-8').read()\n",
        "lower_case = text.lower()\n",
        "cleaned_text = lower_case.translate(str.maketrans('', '', string.punctuation))\n",
        "\n",
        "# Using word_tokenize because it's faster than split()\n",
        "tokenized_words = word_tokenize(cleaned_text, \"english\")\n",
        "\n",
        "# Removing Stop Words\n",
        "final_words = []\n",
        "for word in tokenized_words:\n",
        "    if word not in stopwords.words('english'):\n",
        "        final_words.append(word)\n",
        "\n",
        "# Lemmatization - From plural to single + Base form of a word (example better-> good)\n",
        "lemma_words = []\n",
        "for word in final_words:\n",
        "    word = WordNetLemmatizer().lemmatize(word)\n",
        "    lemma_words.append(word)\n",
        "\n",
        "emotion_list = []\n",
        "with open('emotions.txt', 'r') as file:\n",
        "    for line in file:\n",
        "        clear_line = line.replace(\"\\n\", '').replace(\",\", '').replace(\"'\", '').strip()\n",
        "        word, emotion = clear_line.split(':')\n",
        "\n",
        "        if word in lemma_words:\n",
        "            emotion_list.append(emotion)\n",
        "\n",
        "print(emotion_list)\n",
        "w = Counter(emotion_list)\n",
        "print(w)\n",
        "\n",
        "\n",
        "def sentiment_analyse(sentiment_text):\n",
        "    score = SentimentIntensityAnalyzer().polarity_scores(sentiment_text)\n",
        "    if score['neg'] > score['pos']:\n",
        "        print(\"Overal Score: Negative Sentiment\")\n",
        "    elif score['neg'] < score['pos']:\n",
        "        print(\"Overal Score: Positive Sentiment\")\n",
        "    else:\n",
        "        print(\"Overal Score: Neutral Sentiment\")\n",
        "\n",
        "\n",
        "sentiment_analyse(cleaned_text)\n",
        "\n",
        "fig, ax1 = plt.subplots()\n",
        "ax1.bar(w.keys(), w.values())\n",
        "fig.autofmt_xdate()\n",
        "plt.savefig('graph.png')\n",
        "plt.show()"
      ],
      "execution_count": null,
      "outputs": []
    },
    {
      "cell_type": "markdown",
      "metadata": {
        "id": "d9FrzdgM8QA2"
      },
      "source": [
        "# Experiment: Tweet Generator from previous tweets"
      ]
    },
    {
      "cell_type": "code",
      "metadata": {
        "id": "HLTrnOkJ8Mg0"
      },
      "source": [
        "from collections import defaultdict\n",
        "\n",
        "def markov_chain(text):\n",
        "    '''The input is a string of text and the output will be a dictionary with each word as\n",
        "       a key and each value as the list of words that come after the key in the text.'''\n",
        "    \n",
        "    # Tokenize the text by word, though including punctuation\n",
        "    words = text.split(' ')\n",
        "    \n",
        "    # Initialize a default dictionary to hold all of the words and next words\n",
        "    m_dict = defaultdict(list)\n",
        "    \n",
        "    # Create a zipped list of all of the word pairs and put them in word: list of next words format\n",
        "    for current_word, next_word in zip(words[0:-1], words[1:]):\n",
        "        m_dict[current_word].append(next_word)\n",
        "\n",
        "    # Convert the default dict back into a dictionary\n",
        "    m_dict = dict(m_dict)\n",
        "    return m_dict\n",
        "\n",
        "    # Create the dictionary Tweets\n",
        "#all= \"The input is a string of text and the output will be a dictionary with each word as a key and each value as the list of words that come after the key in the text.\"\n",
        "#all = pd.read_csv('POTUS-Tweets.csv')\n",
        "# all=dd[\"Tweets\"]\n",
        "# chunk=' '.join(dd[\"Tweets\"].tolist())\n",
        "all=data\n",
        "chunk=' '.join(data.tolist())\n",
        "alldict = markov_chain(chunk)\n",
        "\n",
        "print(alldict)\n",
        "\n",
        "import random\n",
        "\n",
        "def generate_sentence(chain, count=20):\n",
        "    '''Input a dictionary in the format of key = current word, value = list of next words\n",
        "       along with the number of words you would like to see in your generated sentence.'''\n",
        "\n",
        "    # Capitalize the first word\n",
        "    word1 = random.choice(list(chain.keys()))\n",
        "    sentence = word1.capitalize()\n",
        "\n",
        "    # Generate the second word from the value list. Set the new word as the first word. Repeat.\n",
        "    for i in range(count-1):\n",
        "        word2 = random.choice(chain[word1])\n",
        "        word1 = word2\n",
        "        sentence += ' ' + word2\n",
        "\n",
        "    # End it with a period\n",
        "    sentence += '.'\n",
        "    return(sentence)\n",
        "\n",
        "generate_sentence(alldict)"
      ],
      "execution_count": null,
      "outputs": []
    },
    {
      "cell_type": "markdown",
      "metadata": {
        "id": "SwCg27aQTa8N"
      },
      "source": [
        "# Experiment: Working on HashTags, 1000 recent (live) tweets that are using certain hashtag"
      ]
    },
    {
      "cell_type": "code",
      "metadata": {
        "id": "vTTD6tbbTZww"
      },
      "source": [
        "import tweepy as tw\n",
        "# Authenticate\n",
        "auth = tw.OAuthHandler(CONSUMER_KEY, CONSUMER_SECRET)\n",
        "# Set Tokens\n",
        "auth.set_access_token(ACCESS_TOKEN, ACCESS_TOKEN_SECRET)\n",
        "# Instantiate API\n",
        "api = tw.API(auth, wait_on_rate_limit=True)\n",
        "\n"
      ],
      "execution_count": null,
      "outputs": []
    },
    {
      "cell_type": "code",
      "metadata": {
        "id": "xNaGZdFsT17K"
      },
      "source": [
        "\n",
        "\n",
        "hashtag = \"#crypto\"\n",
        "query = tw.Cursor(api.search, q=hashtag, lang='en',tweet_mode='extended').items(1000)\n",
        "tweets = [{'Tweet':tweet.full_text, 'Timestamp':tweet.created_at} for tweet in query]\n",
        "print(tweets)\n",
        "\n",
        "# id = 1408457960024690690\n",
        "  \n",
        "# # fetching the status with extended tweet_mode\n",
        "# status = api.get_status(id, tweet_mode = \"extended\",counts=10)\n",
        "  \n",
        "# # fetching the full_text attribute\n",
        "# full_text = status.full_text \n",
        "  \n",
        "# print(\"The text of the status is : \\n\\n\" + full_text)\n",
        "\n",
        "\n",
        "\n"
      ],
      "execution_count": null,
      "outputs": []
    },
    {
      "cell_type": "code",
      "metadata": {
        "id": "dYWXZdJOT7Fi"
      },
      "source": [
        "df = pd.DataFrame.from_dict(tweets)\n",
        "df.head()"
      ],
      "execution_count": null,
      "outputs": []
    },
    {
      "cell_type": "code",
      "metadata": {
        "id": "eiFkTBxZUFXn"
      },
      "source": [
        "bitcoin_handle = ['BitCoin','bitcoin','btc' 'BTC', 'bit coin\\'s']\n",
        "dogecoin_handle = ['dogecoin','doge coin','Dogecoin','DG\\'s']"
      ],
      "execution_count": null,
      "outputs": []
    },
    {
      "cell_type": "code",
      "metadata": {
        "id": "nAOx9j5wUPW2"
      },
      "source": [
        "def identify_subject(tweet, refs):\n",
        "    flag = 0 \n",
        "    for ref in refs:\n",
        "        if tweet.find(ref) != -1:\n",
        "            flag = 1\n",
        "    return flag\n",
        "\n",
        "df['Bitcoin'] = df['Tweet'].apply(lambda x: identify_subject(x, bitcoin_handle)) \n",
        "df['Dogecoin'] = df['Tweet'].apply(lambda x: identify_subject(x, dogecoin_handle))\n",
        "df.head(10)"
      ],
      "execution_count": null,
      "outputs": []
    },
    {
      "cell_type": "markdown",
      "metadata": {
        "id": "3cjzDFpXUU5a"
      },
      "source": [
        ""
      ]
    },
    {
      "cell_type": "code",
      "metadata": {
        "id": "2FA6q9YqUSuU"
      },
      "source": [
        "# Import stopwords\n",
        "import nltk\n",
        "from nltk.corpus import stopwords\n",
        "\n",
        "# Import textblob\n",
        "from textblob import Word, TextBlob"
      ],
      "execution_count": null,
      "outputs": []
    },
    {
      "cell_type": "code",
      "metadata": {
        "id": "0Q3JrXROUY0Y"
      },
      "source": [
        "nltk.download('stopwords')\n",
        "nltk.download('wordnet')\n",
        "stop_words = stopwords.words('english')\n",
        "custom_stopwords = ['RT', '#crypto']"
      ],
      "execution_count": null,
      "outputs": []
    },
    {
      "cell_type": "code",
      "metadata": {
        "id": "gSChn8scUZN3"
      },
      "source": [
        "def preprocess_tweets(tweet, custom_stopwords):\n",
        "    processed_tweet = tweet\n",
        "    processed_tweet.replace('[^\\w\\s]', '')\n",
        "    processed_tweet = \" \".join(word for word in processed_tweet.split() if word not in stop_words)\n",
        "    processed_tweet = \" \".join(word for word in processed_tweet.split() if word not in custom_stopwords)\n",
        "    processed_tweet = \" \".join(Word(word).lemmatize() for word in processed_tweet.split())\n",
        "    return(processed_tweet)\n",
        "\n",
        "df['Processed Tweet'] = df['Tweet'].apply(lambda x: preprocess_tweets(x, custom_stopwords))\n",
        "df.head()"
      ],
      "execution_count": null,
      "outputs": []
    },
    {
      "cell_type": "code",
      "metadata": {
        "id": "A-0tXp6IUbB1"
      },
      "source": [
        "print('Base review\\n', df['Tweet'][0])\n",
        "print('\\n------------------------------------\\n')\n",
        "print('Cleaned and lemmatized review\\n', df['Processed Tweet'][0])"
      ],
      "execution_count": null,
      "outputs": []
    },
    {
      "cell_type": "markdown",
      "metadata": {
        "id": "EVoJTW3AUf5b"
      },
      "source": [
        ""
      ]
    },
    {
      "cell_type": "code",
      "metadata": {
        "id": "sM3K8a08UdGK"
      },
      "source": [
        "\n",
        "\n",
        "# Calculate polarity\n",
        "df['polarity'] = df['Processed Tweet'].apply(lambda x: TextBlob(x).sentiment[0])\n",
        "df['subjectivity'] = df['Processed Tweet'].apply(lambda x: TextBlob(x).sentiment[1])\n",
        "df[['Processed Tweet', 'Dogecoin', 'Bitcoin', 'polarity', 'subjectivity']].head()\n",
        "\n"
      ],
      "execution_count": null,
      "outputs": []
    },
    {
      "cell_type": "code",
      "metadata": {
        "id": "ka-s9i3PUiFd"
      },
      "source": [
        "display(df[df['Bitcoin']==1][['Bitcoin','polarity','subjectivity']].groupby('Bitcoin').agg([np.mean, np.max, np.min, np.median]))\n",
        "df[df['Dogecoin']==1][['Dogecoin','polarity','subjectivity']].groupby('Dogecoin').agg([np.mean, np.max, np.min, np.median])"
      ],
      "execution_count": null,
      "outputs": []
    },
    {
      "cell_type": "code",
      "metadata": {
        "id": "a3fuOOP8Ujzg"
      },
      "source": [
        "doge = df[df['Dogecoin']==1][['Timestamp', 'polarity']]\n",
        "doge = doge.sort_values(by='Timestamp', ascending=True)\n",
        "doge['MA Polarity'] = doge.polarity.rolling(10, min_periods=3).mean()\n",
        "\n",
        "bit = df[df['Bitcoin']==1][['Timestamp', 'polarity']]\n",
        "bit = bit.sort_values(by='Timestamp', ascending=True)\n",
        "bit['MA Polarity'] = bit.polarity.rolling(10, min_periods=3).mean()"
      ],
      "execution_count": null,
      "outputs": []
    },
    {
      "cell_type": "code",
      "metadata": {
        "id": "l_MBwPSxUltW"
      },
      "source": [
        "doge.head()"
      ],
      "execution_count": null,
      "outputs": []
    },
    {
      "cell_type": "code",
      "metadata": {
        "id": "SDS1x--DUnY8"
      },
      "source": [
        "import matplotlib.pyplot as plt\n",
        "\n",
        "\n",
        "btcarmy = 'red'\n",
        "dgarmy = 'blue'\n",
        "fig, axes = plt.subplots(1, 1, figsize=(13, 10))\n",
        "\n",
        "# axes[0].plot(doge['Timestamp'], doge['MA Polarity'])\n",
        "# axes[0].set_title(\"\\n\".join([\"Dogecoin Polarity\"]))\n",
        "# axes[1].plot(bit['Timestamp'], bit['MA Polarity'], color='red')\n",
        "# axes[1].set_title(\"\\n\".join([\"Bitcoin Polarity\"]))\n",
        "\n",
        "plt.plot(doge['MA Polarity'], color='blue', label='Dogecoin')\n",
        "plt.plot(bit['MA Polarity'], color='red', label='Bitcoin')\n",
        "\n",
        "fig.suptitle(\"\\n\".join([\"Crypto Analysis\"]), y=0.98)\n",
        "plt.legend()\n",
        "plt.show()\n",
        "\n"
      ],
      "execution_count": null,
      "outputs": []
    },
    {
      "cell_type": "code",
      "metadata": {
        "id": "81J_VL2aVaFU"
      },
      "source": [
        "import tweepy as tw\n",
        "import pandas as pd\n",
        "from textblob import *\n",
        "import re\n",
        "# Authenticate\n",
        "auth = tw.OAuthHandler(CONSUMER_KEY, CONSUMER_SECRET)\n",
        "# Set Tokens\n",
        "auth.set_access_token(ACCESS_TOKEN, ACCESS_TOKEN_SECRET)\n",
        "# Instantiate API\n",
        "api = tw.API(auth, wait_on_rate_limit=True)\n",
        "\n"
      ],
      "execution_count": null,
      "outputs": []
    },
    {
      "cell_type": "code",
      "metadata": {
        "id": "5rYfNrCzZVXr"
      },
      "source": [
        "search_term='# -filter:retweets'\n",
        "tweets = tw.Cursor(api.search, q=search_term,lang='en', tweet_mode='extended').items(1000)\n",
        "###NOTE: you can give a date to Cursor for example: since='2021-08-27'\n",
        "all_tweets= [tweet.full_text for tweet in tweets]\n"
      ],
      "execution_count": null,
      "outputs": []
    },
    {
      "cell_type": "code",
      "metadata": {
        "id": "VOEgAs5kb7WT"
      },
      "source": [
        "#Create Data Frame to Store tweets\n",
        "\n",
        "tdf=pd.DataFrame(all_tweets , columns=['Tweets'])\n",
        "tdf.head(5)"
      ],
      "execution_count": null,
      "outputs": []
    },
    {
      "cell_type": "code",
      "metadata": {
        "id": "AXl22YSpcRdp"
      },
      "source": [
        "#Function for Clean Tweets \n",
        "def cleanTwt(twt):\n",
        "  twt=re.sub('#bitcoin','bitcoin', twt)\n",
        "  twt=re.sub('#Bitcoin','Bitcoin', twt)\n",
        "  twt=re.sub('#[A-Za-z0-9]+', '', twt)\n",
        "  twt=re.sub('\\\\n','',twt)\n",
        "  twt=re.sub('https?:\\/\\/\\S+','',twt)\n",
        "  twt=re.sub('#','',twt)\n",
        "  return twt\n"
      ],
      "execution_count": null,
      "outputs": []
    },
    {
      "cell_type": "code",
      "metadata": {
        "id": "Coqj5M8ldcFn"
      },
      "source": [
        "#Clean\n",
        "tdf['Cleaned_Tweets'] = tdf['Tweets'].apply(cleanTwt)\n",
        "\n",
        "tdf.head()"
      ],
      "execution_count": null,
      "outputs": []
    },
    {
      "cell_type": "code",
      "metadata": {
        "id": "RaE7g6eXdsuC"
      },
      "source": [
        "#Function for SUBJECTIVITY and POLARITY\n",
        "\n",
        "def getSubjectivity(twt):\n",
        "  return TextBlob(twt).sentiment.subjectivity\n",
        "\n",
        "\n",
        "def getPolarity(twt):\n",
        "  return TextBlob(twt).sentiment.polarity\n",
        "\n",
        "tdf['Subjectivity'] = tdf['Cleaned_Tweets'].apply(getSubjectivity)\n",
        "tdf['Polarity'] = tdf['Cleaned_Tweets'].apply(getPolarity)"
      ],
      "execution_count": null,
      "outputs": []
    },
    {
      "cell_type": "code",
      "metadata": {
        "id": "_2ly66UoerIA"
      },
      "source": [
        "#Get Sentiment\n",
        "\n",
        "def getSentiment(score):\n",
        "  if score<0:\n",
        "    return 'Negative'\n",
        "  if score==0:\n",
        "    return 'Neutral'\n",
        "  else:\n",
        "    return 'Positive'\n",
        "\n"
      ],
      "execution_count": null,
      "outputs": []
    },
    {
      "cell_type": "code",
      "metadata": {
        "id": "Z3U8kZcQfCmJ"
      },
      "source": [
        "#Create column to save score sentiment\n",
        "\n",
        "tdf['Sentiment'] = tdf['Polarity'].apply(getSentiment)\n",
        "\n"
      ],
      "execution_count": null,
      "outputs": []
    },
    {
      "cell_type": "code",
      "metadata": {
        "id": "bIODorrffUWJ"
      },
      "source": [
        "#create Scatter plot\n",
        "import matplotlib.pyplot as plt\n",
        "\n",
        "plt.figure(figsize=(8,6))\n",
        "\n",
        "for i in range(0, tdf.shape[0]):\n",
        "  plt.scatter(tdf['Polarity'][i], tdf['Subjectivity'][i], color='purple')\n",
        "plt.title('Bitcoin Sentiment Analysis')\n",
        "plt.xlabel('Negative <--------> Positive')\n",
        "plt.ylabel('Facts <--------> Opinion')\n",
        "plt.hlines(0.5,-1.1,1.1,colors='red')\n",
        "plt.vlines(0,-.1,1,colors='red')\n",
        "plt.show()"
      ],
      "execution_count": null,
      "outputs": []
    },
    {
      "cell_type": "code",
      "metadata": {
        "id": "uQ6eu1o9g-FG"
      },
      "source": [
        "tdf['Sentiment'].value_counts().plot(kind='bar')\n",
        "plt.title('Bitcoin Sentiment Analysis')\n",
        "plt.xlabel('Polarity')\n",
        "plt.ylabel('Counts')\n",
        "plt.show()"
      ],
      "execution_count": null,
      "outputs": []
    }
  ]
}